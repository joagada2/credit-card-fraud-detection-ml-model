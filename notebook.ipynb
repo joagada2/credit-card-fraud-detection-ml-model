{
 "cells": [
  {
   "cell_type": "markdown",
   "id": "6867b75f",
   "metadata": {},
   "source": [
    "# MACHINE LEARNING LOAN DEFAULT PREDICTION MODEL\n",
    "\n",
    "Loan, when taken has the probability of repayment in line with loan terms or default. It is the desire of every lending organization to have their borrowers pay back their loan as at when due. However, this is not usually the case. In event of loan default, lending organizations bear the loss as the loans are charged off and the shortfall treated as expenditure. The provisions for loan defaults reduce total loan portfolio of lending organizations and as such affects interest earnings on assets, thereby constituting a huge cost to lending houses. In view of this, every organization wish to give loan only to those who will pay back only if they can accurately identify borrowers who will pay back their loan. In this project, I shall be building a Machine Learning model capable of predicting loan default at the point of application with high accuracy. The model can be adopted for data driven decision as regards approval or rejection of approval for loan.\n",
    "\n",
    "### PROJECT OVERVIEW\n",
    "\n",
    "Given historical data (From LendingClub) on loans given out with information on whether or not the borrower defaulted (charge-off), I shall: \n",
    "\n",
    " - Build a model that can predict whether or nor a borrower will pay back their loan. This way in the future when we get a new potential customer we can assess whether or not they are likely to pay back the loan. \n",
    " \n",
    " - Build the model into a single page application with Flask API backend and Vuejs front end for deployment to production environment\n"
   ]
  },
  {
   "cell_type": "markdown",
   "id": "072c1799",
   "metadata": {},
   "source": [
    "### DATASET\n",
    "\n",
    "I will be using LendingClub dataset obtained from https://www.kaggle.com/wordsforthewise/lending-club. LendingClub is a US peer-to-peer lending company, headquartered in San Francisco, California. It was the first peer-to-peer lender to register its offerings as securities with the Securities and Exchange Commission (SEC), and to offer loan trading on a secondary market. LendingClub is the world's largest peer-to-peer lending platform.\n",
    "There are many LendingClub data sets on Kaggle. In addition to the dataset, we also have a metadata dataframe containing detailed explanation of all the columns in the main dataset. The columns are briefly describe below:\n",
    "\n",
    "<table border=\"1\" class=\"dataframe\">\n",
    "  <thead>\n",
    "    <tr style=\"text-align: right;\">\n",
    "      <th></th>\n",
    "      <th>LoanStatNew</th>\n",
    "      <th>Description</th>\n",
    "    </tr>\n",
    "  </thead>\n",
    "  <tbody>\n",
    "    <tr>\n",
    "      <th>0</th>\n",
    "      <td>loan_amnt</td>\n",
    "      <td>The listed amount of the loan applied for by the borrower. If at some point in time, the credit department reduces the loan amount, then it will be reflected in this value.</td>\n",
    "    </tr>\n",
    "    <tr>\n",
    "      <th>1</th>\n",
    "      <td>term</td>\n",
    "      <td>The number of payments on the loan. Values are in months and can be either 36 or 60.</td>\n",
    "    </tr>\n",
    "    <tr>\n",
    "      <th>2</th>\n",
    "      <td>int_rate</td>\n",
    "      <td>Interest Rate on the loan</td>\n",
    "    </tr>\n",
    "    <tr>\n",
    "      <th>3</th>\n",
    "      <td>installment</td>\n",
    "      <td>The monthly payment owed by the borrower if the loan originates.</td>\n",
    "    </tr>\n",
    "    <tr>\n",
    "      <th>4</th>\n",
    "      <td>grade</td>\n",
    "      <td>LC assigned loan grade</td>\n",
    "    </tr>\n",
    "    <tr>\n",
    "      <th>5</th>\n",
    "      <td>sub_grade</td>\n",
    "      <td>LC assigned loan subgrade</td>\n",
    "    </tr>\n",
    "    <tr>\n",
    "      <th>6</th>\n",
    "      <td>emp_title</td>\n",
    "      <td>The job title supplied by the Borrower when applying for the loan.*</td>\n",
    "    </tr>\n",
    "    <tr>\n",
    "      <th>7</th>\n",
    "      <td>emp_length</td>\n",
    "      <td>Employment length in years. Possible values are between 0 and 10 where 0 means less than one year and 10 means ten or more years.</td>\n",
    "    </tr>\n",
    "    <tr>\n",
    "      <th>8</th>\n",
    "      <td>home_ownership</td>\n",
    "      <td>The home ownership status provided by the borrower during registration or obtained from the credit report. Our values are: RENT, OWN, MORTGAGE, OTHER</td>\n",
    "    </tr>\n",
    "    <tr>\n",
    "      <th>9</th>\n",
    "      <td>annual_inc</td>\n",
    "      <td>The self-reported annual income provided by the borrower during registration.</td>\n",
    "    </tr>\n",
    "    <tr>\n",
    "      <th>10</th>\n",
    "      <td>verification_status</td>\n",
    "      <td>Indicates if income was verified by LC, not verified, or if the income source was verified</td>\n",
    "    </tr>\n",
    "    <tr>\n",
    "      <th>11</th>\n",
    "      <td>issue_d</td>\n",
    "      <td>The month which the loan was funded</td>\n",
    "    </tr>\n",
    "    <tr>\n",
    "      <th>12</th>\n",
    "      <td>loan_status</td>\n",
    "      <td>Current status of the loan</td>\n",
    "    </tr>\n",
    "    <tr>\n",
    "      <th>13</th>\n",
    "      <td>purpose</td>\n",
    "      <td>A category provided by the borrower for the loan request.</td>\n",
    "    </tr>\n",
    "    <tr>\n",
    "      <th>14</th>\n",
    "      <td>title</td>\n",
    "      <td>The loan title provided by the borrower</td>\n",
    "    </tr>\n",
    "    <tr>\n",
    "      <th>15</th>\n",
    "      <td>zip_code</td>\n",
    "      <td>The first 3 numbers of the zip code provided by the borrower in the loan application.</td>\n",
    "    </tr>\n",
    "    <tr>\n",
    "      <th>16</th>\n",
    "      <td>addr_state</td>\n",
    "      <td>The state provided by the borrower in the loan application</td>\n",
    "    </tr>\n",
    "    <tr>\n",
    "      <th>17</th>\n",
    "      <td>dti</td>\n",
    "      <td>A ratio calculated using the borrower’s total monthly debt payments on the total debt obligations, excluding mortgage and the requested LC loan, divided by the borrower’s self-reported monthly income.</td>\n",
    "    </tr>\n",
    "    <tr>\n",
    "      <th>18</th>\n",
    "      <td>earliest_cr_line</td>\n",
    "      <td>The month the borrower's earliest reported credit line was opened</td>\n",
    "    </tr>\n",
    "    <tr>\n",
    "      <th>19</th>\n",
    "      <td>open_acc</td>\n",
    "      <td>The number of open credit lines in the borrower's credit file.</td>\n",
    "    </tr>\n",
    "    <tr>\n",
    "      <th>20</th>\n",
    "      <td>pub_rec</td>\n",
    "      <td>Number of derogatory public records</td>\n",
    "    </tr>\n",
    "    <tr>\n",
    "      <th>21</th>\n",
    "      <td>revol_bal</td>\n",
    "      <td>Total credit revolving balance</td>\n",
    "    </tr>\n",
    "    <tr>\n",
    "      <th>22</th>\n",
    "      <td>revol_util</td>\n",
    "      <td>Revolving line utilization rate, or the amount of credit the borrower is using relative to all available revolving credit.</td>\n",
    "    </tr>\n",
    "    <tr>\n",
    "      <th>23</th>\n",
    "      <td>total_acc</td>\n",
    "      <td>The total number of credit lines currently in the borrower's credit file</td>\n",
    "    </tr>\n",
    "    <tr>\n",
    "      <th>24</th>\n",
    "      <td>initial_list_status</td>\n",
    "      <td>The initial listing status of the loan. Possible values are – W, F</td>\n",
    "    </tr>\n",
    "    <tr>\n",
    "      <th>25</th>\n",
    "      <td>application_type</td>\n",
    "      <td>Indicates whether the loan is an individual application or a joint application with two co-borrowers</td>\n",
    "    </tr>\n",
    "    <tr>\n",
    "      <th>26</th>\n",
    "      <td>mort_acc</td>\n",
    "      <td>Number of mortgage accounts.</td>\n",
    "    </tr>\n",
    "    <tr>\n",
    "      <th>27</th>\n",
    "      <td>pub_rec_bankruptcies</td>\n",
    "      <td>Number of public record bankruptcies</td>\n",
    "    </tr>\n",
    "  </tbody>\n",
    "</table>\n",
    "\n",
    "---\n",
    "----"
   ]
  },
  {
   "cell_type": "markdown",
   "id": "b8bab422",
   "metadata": {},
   "source": [
    "## METADATA\n",
    "I will first import the metadata table called lending_club_info and then create a function that will take in a column and return description of the column. The function will be utilized through the project"
   ]
  },
  {
   "cell_type": "code",
   "execution_count": 341,
   "id": "6525b741",
   "metadata": {},
   "outputs": [],
   "source": [
    "import pandas as pd"
   ]
  },
  {
   "cell_type": "code",
   "execution_count": 342,
   "id": "3d58c859",
   "metadata": {},
   "outputs": [],
   "source": [
    "data_info = pd.read_csv('lending_club_info.csv',index_col='LoanStatNew')"
   ]
  },
  {
   "cell_type": "code",
   "execution_count": 343,
   "id": "ee1f76e0",
   "metadata": {},
   "outputs": [
    {
     "name": "stdout",
     "output_type": "stream",
     "text": [
      "Revolving line utilization rate, or the amount of credit the borrower is using relative to all available revolving credit.\n"
     ]
    }
   ],
   "source": [
    "print(data_info.loc['revol_util']['Description'])"
   ]
  },
  {
   "cell_type": "code",
   "execution_count": 344,
   "id": "212ea45f",
   "metadata": {},
   "outputs": [],
   "source": [
    "def feat_info(col_name):\n",
    "    print(data_info.loc[col_name]['Description'])"
   ]
  },
  {
   "cell_type": "code",
   "execution_count": 345,
   "id": "5fa6528e",
   "metadata": {},
   "outputs": [
    {
     "name": "stdout",
     "output_type": "stream",
     "text": [
      "Number of mortgage accounts.\n"
     ]
    }
   ],
   "source": [
    "feat_info('mort_acc')"
   ]
  },
  {
   "cell_type": "markdown",
   "id": "ed9b0eae",
   "metadata": {},
   "source": [
    "## LENDING CLUB DATA IMPORT"
   ]
  },
  {
   "cell_type": "code",
   "execution_count": 346,
   "id": "693f0429",
   "metadata": {},
   "outputs": [],
   "source": [
    "import numpy as np\n",
    "import matplotlib.pyplot as plt\n",
    "import seaborn as sns\n",
    "\n",
    "# might be needed depending on your version of Jupyter\n",
    "%matplotlib inline"
   ]
  },
  {
   "cell_type": "code",
   "execution_count": 347,
   "id": "a43c4754",
   "metadata": {},
   "outputs": [],
   "source": [
    "df = pd.read_csv('lending_club_loan_two.csv')"
   ]
  },
  {
   "cell_type": "code",
   "execution_count": 348,
   "id": "4cac60d2",
   "metadata": {},
   "outputs": [
    {
     "data": {
      "text/html": [
       "<div>\n",
       "<style scoped>\n",
       "    .dataframe tbody tr th:only-of-type {\n",
       "        vertical-align: middle;\n",
       "    }\n",
       "\n",
       "    .dataframe tbody tr th {\n",
       "        vertical-align: top;\n",
       "    }\n",
       "\n",
       "    .dataframe thead th {\n",
       "        text-align: right;\n",
       "    }\n",
       "</style>\n",
       "<table border=\"1\" class=\"dataframe\">\n",
       "  <thead>\n",
       "    <tr style=\"text-align: right;\">\n",
       "      <th></th>\n",
       "      <th>loan_amnt</th>\n",
       "      <th>term</th>\n",
       "      <th>int_rate</th>\n",
       "      <th>installment</th>\n",
       "      <th>grade</th>\n",
       "      <th>sub_grade</th>\n",
       "      <th>emp_title</th>\n",
       "      <th>emp_length</th>\n",
       "      <th>home_ownership</th>\n",
       "      <th>annual_inc</th>\n",
       "      <th>...</th>\n",
       "      <th>open_acc</th>\n",
       "      <th>pub_rec</th>\n",
       "      <th>revol_bal</th>\n",
       "      <th>revol_util</th>\n",
       "      <th>total_acc</th>\n",
       "      <th>initial_list_status</th>\n",
       "      <th>application_type</th>\n",
       "      <th>mort_acc</th>\n",
       "      <th>pub_rec_bankruptcies</th>\n",
       "      <th>address</th>\n",
       "    </tr>\n",
       "  </thead>\n",
       "  <tbody>\n",
       "    <tr>\n",
       "      <th>0</th>\n",
       "      <td>10000.0</td>\n",
       "      <td>36 months</td>\n",
       "      <td>11.44</td>\n",
       "      <td>329.48</td>\n",
       "      <td>B</td>\n",
       "      <td>B4</td>\n",
       "      <td>Marketing</td>\n",
       "      <td>10+ years</td>\n",
       "      <td>RENT</td>\n",
       "      <td>117000.0</td>\n",
       "      <td>...</td>\n",
       "      <td>16.0</td>\n",
       "      <td>0.0</td>\n",
       "      <td>36369.0</td>\n",
       "      <td>41.8</td>\n",
       "      <td>25.0</td>\n",
       "      <td>w</td>\n",
       "      <td>INDIVIDUAL</td>\n",
       "      <td>0.0</td>\n",
       "      <td>0.0</td>\n",
       "      <td>0174 Michelle Gateway\\r\\nMendozaberg, OK 22690</td>\n",
       "    </tr>\n",
       "    <tr>\n",
       "      <th>1</th>\n",
       "      <td>8000.0</td>\n",
       "      <td>36 months</td>\n",
       "      <td>11.99</td>\n",
       "      <td>265.68</td>\n",
       "      <td>B</td>\n",
       "      <td>B5</td>\n",
       "      <td>Credit analyst</td>\n",
       "      <td>4 years</td>\n",
       "      <td>MORTGAGE</td>\n",
       "      <td>65000.0</td>\n",
       "      <td>...</td>\n",
       "      <td>17.0</td>\n",
       "      <td>0.0</td>\n",
       "      <td>20131.0</td>\n",
       "      <td>53.3</td>\n",
       "      <td>27.0</td>\n",
       "      <td>f</td>\n",
       "      <td>INDIVIDUAL</td>\n",
       "      <td>3.0</td>\n",
       "      <td>0.0</td>\n",
       "      <td>1076 Carney Fort Apt. 347\\r\\nLoganmouth, SD 05113</td>\n",
       "    </tr>\n",
       "    <tr>\n",
       "      <th>2</th>\n",
       "      <td>15600.0</td>\n",
       "      <td>36 months</td>\n",
       "      <td>10.49</td>\n",
       "      <td>506.97</td>\n",
       "      <td>B</td>\n",
       "      <td>B3</td>\n",
       "      <td>Statistician</td>\n",
       "      <td>&lt; 1 year</td>\n",
       "      <td>RENT</td>\n",
       "      <td>43057.0</td>\n",
       "      <td>...</td>\n",
       "      <td>13.0</td>\n",
       "      <td>0.0</td>\n",
       "      <td>11987.0</td>\n",
       "      <td>92.2</td>\n",
       "      <td>26.0</td>\n",
       "      <td>f</td>\n",
       "      <td>INDIVIDUAL</td>\n",
       "      <td>0.0</td>\n",
       "      <td>0.0</td>\n",
       "      <td>87025 Mark Dale Apt. 269\\r\\nNew Sabrina, WV 05113</td>\n",
       "    </tr>\n",
       "    <tr>\n",
       "      <th>3</th>\n",
       "      <td>7200.0</td>\n",
       "      <td>36 months</td>\n",
       "      <td>6.49</td>\n",
       "      <td>220.65</td>\n",
       "      <td>A</td>\n",
       "      <td>A2</td>\n",
       "      <td>Client Advocate</td>\n",
       "      <td>6 years</td>\n",
       "      <td>RENT</td>\n",
       "      <td>54000.0</td>\n",
       "      <td>...</td>\n",
       "      <td>6.0</td>\n",
       "      <td>0.0</td>\n",
       "      <td>5472.0</td>\n",
       "      <td>21.5</td>\n",
       "      <td>13.0</td>\n",
       "      <td>f</td>\n",
       "      <td>INDIVIDUAL</td>\n",
       "      <td>0.0</td>\n",
       "      <td>0.0</td>\n",
       "      <td>823 Reid Ford\\r\\nDelacruzside, MA 00813</td>\n",
       "    </tr>\n",
       "    <tr>\n",
       "      <th>4</th>\n",
       "      <td>24375.0</td>\n",
       "      <td>60 months</td>\n",
       "      <td>17.27</td>\n",
       "      <td>609.33</td>\n",
       "      <td>C</td>\n",
       "      <td>C5</td>\n",
       "      <td>Destiny Management Inc.</td>\n",
       "      <td>9 years</td>\n",
       "      <td>MORTGAGE</td>\n",
       "      <td>55000.0</td>\n",
       "      <td>...</td>\n",
       "      <td>13.0</td>\n",
       "      <td>0.0</td>\n",
       "      <td>24584.0</td>\n",
       "      <td>69.8</td>\n",
       "      <td>43.0</td>\n",
       "      <td>f</td>\n",
       "      <td>INDIVIDUAL</td>\n",
       "      <td>1.0</td>\n",
       "      <td>0.0</td>\n",
       "      <td>679 Luna Roads\\r\\nGreggshire, VA 11650</td>\n",
       "    </tr>\n",
       "  </tbody>\n",
       "</table>\n",
       "<p>5 rows × 27 columns</p>\n",
       "</div>"
      ],
      "text/plain": [
       "   loan_amnt        term  int_rate  installment grade sub_grade  \\\n",
       "0    10000.0   36 months     11.44       329.48     B        B4   \n",
       "1     8000.0   36 months     11.99       265.68     B        B5   \n",
       "2    15600.0   36 months     10.49       506.97     B        B3   \n",
       "3     7200.0   36 months      6.49       220.65     A        A2   \n",
       "4    24375.0   60 months     17.27       609.33     C        C5   \n",
       "\n",
       "                 emp_title emp_length home_ownership  annual_inc  ...  \\\n",
       "0                Marketing  10+ years           RENT    117000.0  ...   \n",
       "1          Credit analyst     4 years       MORTGAGE     65000.0  ...   \n",
       "2             Statistician   < 1 year           RENT     43057.0  ...   \n",
       "3          Client Advocate    6 years           RENT     54000.0  ...   \n",
       "4  Destiny Management Inc.    9 years       MORTGAGE     55000.0  ...   \n",
       "\n",
       "  open_acc pub_rec revol_bal revol_util total_acc  initial_list_status  \\\n",
       "0     16.0     0.0   36369.0       41.8      25.0                    w   \n",
       "1     17.0     0.0   20131.0       53.3      27.0                    f   \n",
       "2     13.0     0.0   11987.0       92.2      26.0                    f   \n",
       "3      6.0     0.0    5472.0       21.5      13.0                    f   \n",
       "4     13.0     0.0   24584.0       69.8      43.0                    f   \n",
       "\n",
       "  application_type  mort_acc  pub_rec_bankruptcies  \\\n",
       "0       INDIVIDUAL       0.0                   0.0   \n",
       "1       INDIVIDUAL       3.0                   0.0   \n",
       "2       INDIVIDUAL       0.0                   0.0   \n",
       "3       INDIVIDUAL       0.0                   0.0   \n",
       "4       INDIVIDUAL       1.0                   0.0   \n",
       "\n",
       "                                             address  \n",
       "0     0174 Michelle Gateway\\r\\nMendozaberg, OK 22690  \n",
       "1  1076 Carney Fort Apt. 347\\r\\nLoganmouth, SD 05113  \n",
       "2  87025 Mark Dale Apt. 269\\r\\nNew Sabrina, WV 05113  \n",
       "3            823 Reid Ford\\r\\nDelacruzside, MA 00813  \n",
       "4             679 Luna Roads\\r\\nGreggshire, VA 11650  \n",
       "\n",
       "[5 rows x 27 columns]"
      ]
     },
     "execution_count": 348,
     "metadata": {},
     "output_type": "execute_result"
    }
   ],
   "source": [
    "df.head()"
   ]
  },
  {
   "cell_type": "code",
   "execution_count": 349,
   "id": "7629257c",
   "metadata": {},
   "outputs": [
    {
     "name": "stdout",
     "output_type": "stream",
     "text": [
      "<class 'pandas.core.frame.DataFrame'>\n",
      "RangeIndex: 396030 entries, 0 to 396029\n",
      "Data columns (total 27 columns):\n",
      " #   Column                Non-Null Count   Dtype  \n",
      "---  ------                --------------   -----  \n",
      " 0   loan_amnt             396030 non-null  float64\n",
      " 1   term                  396030 non-null  object \n",
      " 2   int_rate              396030 non-null  float64\n",
      " 3   installment           396030 non-null  float64\n",
      " 4   grade                 396030 non-null  object \n",
      " 5   sub_grade             396030 non-null  object \n",
      " 6   emp_title             373103 non-null  object \n",
      " 7   emp_length            377729 non-null  object \n",
      " 8   home_ownership        396030 non-null  object \n",
      " 9   annual_inc            396030 non-null  float64\n",
      " 10  verification_status   396030 non-null  object \n",
      " 11  issue_d               396030 non-null  object \n",
      " 12  loan_status           396030 non-null  object \n",
      " 13  purpose               396030 non-null  object \n",
      " 14  title                 394275 non-null  object \n",
      " 15  dti                   396030 non-null  float64\n",
      " 16  earliest_cr_line      396030 non-null  object \n",
      " 17  open_acc              396030 non-null  float64\n",
      " 18  pub_rec               396030 non-null  float64\n",
      " 19  revol_bal             396030 non-null  float64\n",
      " 20  revol_util            395754 non-null  float64\n",
      " 21  total_acc             396030 non-null  float64\n",
      " 22  initial_list_status   396030 non-null  object \n",
      " 23  application_type      396030 non-null  object \n",
      " 24  mort_acc              358235 non-null  float64\n",
      " 25  pub_rec_bankruptcies  395495 non-null  float64\n",
      " 26  address               396030 non-null  object \n",
      "dtypes: float64(12), object(15)\n",
      "memory usage: 81.6+ MB\n"
     ]
    }
   ],
   "source": [
    "df.info()"
   ]
  },
  {
   "cell_type": "markdown",
   "id": "5d3777f9",
   "metadata": {},
   "source": [
    "## EXPLORATORY DATA ANALYSIS\n",
    "\n",
    "Here, I will explore the dataset to get usefull insights."
   ]
  },
  {
   "cell_type": "code",
   "execution_count": 350,
   "id": "36462f75",
   "metadata": {},
   "outputs": [
    {
     "data": {
      "text/plain": [
       "<AxesSubplot: xlabel='loan_status', ylabel='count'>"
      ]
     },
     "execution_count": 350,
     "metadata": {},
     "output_type": "execute_result"
    },
    {
     "data": {
      "image/png": "[encoded data removed]",
      "text/plain": [
       "<Figure size 432x288 with 1 Axes>"
      ]
     },
     "metadata": {
      "needs_background": "light"
     },
     "output_type": "display_data"
    }
   ],
   "source": [
    "sns.countplot(x='loan_status',data=df)"
   ]
  },
  {
   "cell_type": "code",
   "execution_count": 351,
   "id": "74b9ad14",
   "metadata": {},
   "outputs": [
    {
     "data": {
      "text/plain": [
       "(0.0, 45000.0)"
      ]
     },
     "execution_count": 351,
     "metadata": {},
     "output_type": "execute_result"
    },
    {
     "data": {
      "image/png": "[encoded data removed]",
      "text/plain": [
       "<Figure size 864x288 with 1 Axes>"
      ]
     },
     "metadata": {
      "needs_background": "light"
     },
     "output_type": "display_data"
    }
   ],
   "source": [
    "#visualize the distribution of loan amount\n",
    "plt.figure(figsize=(12,4))\n",
    "sns.histplot(df['loan_amnt'],kde=False,bins=40)\n",
    "plt.xlim(0,45000)"
   ]
  },
  {
   "cell_type": "markdown",
   "id": "80f4204d",
   "metadata": {},
   "source": [
    "### Countplot show dataset is unbalanced"
   ]
  },
  {
   "cell_type": "code",
   "execution_count": 352,
   "id": "348b2708",
   "metadata": {},
   "outputs": [
    {
     "data": {
      "text/html": [
       "<div>\n",
       "<style scoped>\n",
       "    .dataframe tbody tr th:only-of-type {\n",
       "        vertical-align: middle;\n",
       "    }\n",
       "\n",
       "    .dataframe tbody tr th {\n",
       "        vertical-align: top;\n",
       "    }\n",
       "\n",
       "    .dataframe thead th {\n",
       "        text-align: right;\n",
       "    }\n",
       "</style>\n",
       "<table border=\"1\" class=\"dataframe\">\n",
       "  <thead>\n",
       "    <tr style=\"text-align: right;\">\n",
       "      <th></th>\n",
       "      <th>loan_status</th>\n",
       "    </tr>\n",
       "  </thead>\n",
       "  <tbody>\n",
       "    <tr>\n",
       "      <th>0</th>\n",
       "      <td>Fully Paid</td>\n",
       "    </tr>\n",
       "    <tr>\n",
       "      <th>1</th>\n",
       "      <td>Fully Paid</td>\n",
       "    </tr>\n",
       "    <tr>\n",
       "      <th>2</th>\n",
       "      <td>Fully Paid</td>\n",
       "    </tr>\n",
       "    <tr>\n",
       "      <th>3</th>\n",
       "      <td>Fully Paid</td>\n",
       "    </tr>\n",
       "    <tr>\n",
       "      <th>4</th>\n",
       "      <td>Charged Off</td>\n",
       "    </tr>\n",
       "    <tr>\n",
       "      <th>...</th>\n",
       "      <td>...</td>\n",
       "    </tr>\n",
       "    <tr>\n",
       "      <th>396025</th>\n",
       "      <td>Fully Paid</td>\n",
       "    </tr>\n",
       "    <tr>\n",
       "      <th>396026</th>\n",
       "      <td>Fully Paid</td>\n",
       "    </tr>\n",
       "    <tr>\n",
       "      <th>396027</th>\n",
       "      <td>Fully Paid</td>\n",
       "    </tr>\n",
       "    <tr>\n",
       "      <th>396028</th>\n",
       "      <td>Fully Paid</td>\n",
       "    </tr>\n",
       "    <tr>\n",
       "      <th>396029</th>\n",
       "      <td>Fully Paid</td>\n",
       "    </tr>\n",
       "  </tbody>\n",
       "</table>\n",
       "<p>396030 rows × 1 columns</p>\n",
       "</div>"
      ],
      "text/plain": [
       "        loan_status\n",
       "0        Fully Paid\n",
       "1        Fully Paid\n",
       "2        Fully Paid\n",
       "3        Fully Paid\n",
       "4       Charged Off\n",
       "...             ...\n",
       "396025   Fully Paid\n",
       "396026   Fully Paid\n",
       "396027   Fully Paid\n",
       "396028   Fully Paid\n",
       "396029   Fully Paid\n",
       "\n",
       "[396030 rows x 1 columns]"
      ]
     },
     "execution_count": 352,
     "metadata": {},
     "output_type": "execute_result"
    }
   ],
   "source": [
    "#the target feature is not numeric\n",
    "df[['loan_status']]"
   ]
  },
  {
   "cell_type": "code",
   "execution_count": 353,
   "id": "538f5538",
   "metadata": {},
   "outputs": [],
   "source": [
    "#convert the target feature to dummies\n",
    "df['loan_repaid'] = df['loan_status'].map({'Fully Paid':1,'Charged Off':0})"
   ]
  },
  {
   "cell_type": "code",
   "execution_count": 354,
   "id": "dada6ee2",
   "metadata": {},
   "outputs": [
    {
     "data": {
      "text/plain": [
       "int_rate               -0.247758\n",
       "revol_util             -0.082373\n",
       "dti                    -0.062413\n",
       "loan_amnt              -0.059836\n",
       "installment            -0.041082\n",
       "open_acc               -0.028012\n",
       "pub_rec                -0.019933\n",
       "pub_rec_bankruptcies   -0.009383\n",
       "revol_bal               0.010892\n",
       "total_acc               0.017893\n",
       "annual_inc              0.053432\n",
       "mort_acc                0.073111\n",
       "loan_repaid             1.000000\n",
       "Name: loan_repaid, dtype: float64"
      ]
     },
     "execution_count": 354,
     "metadata": {},
     "output_type": "execute_result"
    }
   ],
   "source": [
    "#check the correllation of the target feature with other numeric features\n",
    "df.corr()['loan_repaid'].sort_values()"
   ]
  },
  {
   "cell_type": "code",
   "execution_count": 355,
   "id": "f39c1f4c",
   "metadata": {},
   "outputs": [
    {
     "data": {
      "text/plain": [
       "(10.0, 0.0)"
      ]
     },
     "execution_count": 355,
     "metadata": {},
     "output_type": "execute_result"
    },
    {
     "data": {
      "image/png": "[encoded data removed]",
      "text/plain": [
       "<Figure size 864x504 with 2 Axes>"
      ]
     },
     "metadata": {
      "needs_background": "light"
     },
     "output_type": "display_data"
    }
   ],
   "source": [
    "plt.figure(figsize=(12,7))\n",
    "sns.heatmap(df.corr(),annot=True,cmap='viridis')\n",
    "plt.ylim(10, 0)"
   ]
  },
  {
   "cell_type": "code",
   "execution_count": 356,
   "id": "6efa821f",
   "metadata": {},
   "outputs": [
    {
     "data": {
      "text/plain": [
       "<AxesSubplot: >"
      ]
     },
     "execution_count": 356,
     "metadata": {},
     "output_type": "execute_result"
    },
    {
     "data": {
      "image/png": "[encoded data removed]",
      "text/plain": [
       "<Figure size 432x288 with 1 Axes>"
      ]
     },
     "metadata": {
      "needs_background": "light"
     },
     "output_type": "display_data"
    }
   ],
   "source": [
    "#visuals for correlation values\n",
    "df.corr()['loan_repaid'].sort_values().drop('loan_repaid').plot(kind='bar')"
   ]
  },
  {
   "cell_type": "markdown",
   "id": "13daa0f3",
   "metadata": {},
   "source": [
    "### I shall further explore some of the variables that have significant correlation with the target feature starting with interest rate"
   ]
  },
  {
   "cell_type": "code",
   "execution_count": 357,
   "id": "5e05ba41",
   "metadata": {},
   "outputs": [
    {
     "name": "stdout",
     "output_type": "stream",
     "text": [
      "Interest Rate on the loan\n"
     ]
    }
   ],
   "source": [
    "feat_info('int_rate')"
   ]
  },
  {
   "cell_type": "code",
   "execution_count": 358,
   "id": "b934e7ae",
   "metadata": {},
   "outputs": [
    {
     "data": {
      "text/plain": [
       "<AxesSubplot: xlabel='loan_status', ylabel='int_rate'>"
      ]
     },
     "execution_count": 358,
     "metadata": {},
     "output_type": "execute_result"
    },
    {
     "data": {
      "image/png": "[encoded data removed]",
      "text/plain": [
       "<Figure size 432x288 with 1 Axes>"
      ]
     },
     "metadata": {
      "needs_background": "light"
     },
     "output_type": "display_data"
    }
   ],
   "source": [
    "#loan with high interest rate are more likely to be charged off\n",
    "sns.boxplot(x='loan_status',y='int_rate',data=df)"
   ]
  },
  {
   "cell_type": "code",
   "execution_count": 359,
   "id": "60f5aeba",
   "metadata": {},
   "outputs": [
    {
     "name": "stdout",
     "output_type": "stream",
     "text": [
      "Revolving line utilization rate, or the amount of credit the borrower is using relative to all available revolving credit.\n"
     ]
    }
   ],
   "source": [
    "feat_info('revol_util')"
   ]
  },
  {
   "cell_type": "code",
   "execution_count": 360,
   "id": "1bf1fb2b",
   "metadata": {},
   "outputs": [
    {
     "data": {
      "text/plain": [
       "<AxesSubplot: xlabel='loan_status', ylabel='revol_util'>"
      ]
     },
     "execution_count": 360,
     "metadata": {},
     "output_type": "execute_result"
    },
    {
     "data": {
      "image/png": "[encoded data removed]",
      "text/plain": [
       "<Figure size 432x288 with 1 Axes>"
      ]
     },
     "metadata": {
      "needs_background": "light"
     },
     "output_type": "display_data"
    }
   ],
   "source": [
    "sns.boxplot(x='loan_status',y='revol_util',data=df)"
   ]
  },
  {
   "cell_type": "code",
   "execution_count": 361,
   "id": "32967e30",
   "metadata": {},
   "outputs": [
    {
     "name": "stdout",
     "output_type": "stream",
     "text": [
      "Number of mortgage accounts.\n"
     ]
    }
   ],
   "source": [
    "feat_info('mort_acc')"
   ]
  },
  {
   "cell_type": "code",
   "execution_count": 362,
   "id": "8067dfe0",
   "metadata": {},
   "outputs": [
    {
     "data": {
      "text/plain": [
       "<AxesSubplot: xlabel='loan_status', ylabel='mort_acc'>"
      ]
     },
     "execution_count": 362,
     "metadata": {},
     "output_type": "execute_result"
    },
    {
     "data": {
      "image/png": "[encoded data removed]",
      "text/plain": [
       "<Figure size 432x288 with 1 Axes>"
      ]
     },
     "metadata": {
      "needs_background": "light"
     },
     "output_type": "display_data"
    }
   ],
   "source": [
    "#people with more mortgage account more likely to pay off their loan\n",
    "sns.boxplot(x='loan_status',y='mort_acc',data=df)"
   ]
  },
  {
   "cell_type": "code",
   "execution_count": 363,
   "id": "93a7e410",
   "metadata": {},
   "outputs": [
    {
     "name": "stdout",
     "output_type": "stream",
     "text": [
      "The self-reported annual income provided by the borrower during registration.\n"
     ]
    }
   ],
   "source": [
    "feat_info('annual_inc')"
   ]
  },
  {
   "cell_type": "code",
   "execution_count": 364,
   "id": "c058246c",
   "metadata": {},
   "outputs": [
    {
     "data": {
      "text/plain": [
       "<AxesSubplot: xlabel='loan_status', ylabel='annual_inc'>"
      ]
     },
     "execution_count": 364,
     "metadata": {},
     "output_type": "execute_result"
    },
    {
     "data": {
      "image/png": "[encoded data removed]",
      "text/plain": [
       "<Figure size 432x288 with 1 Axes>"
      ]
     },
     "metadata": {
      "needs_background": "light"
     },
     "output_type": "display_data"
    }
   ],
   "source": [
    "sns.boxplot(x='loan_status',y='annual_inc',data=df)"
   ]
  },
  {
   "cell_type": "markdown",
   "id": "42ee0903",
   "metadata": {},
   "source": [
    "## A look at non numeric features"
   ]
  },
  {
   "cell_type": "code",
   "execution_count": 365,
   "id": "173326e6",
   "metadata": {},
   "outputs": [
    {
     "name": "stdout",
     "output_type": "stream",
     "text": [
      "LC assigned loan grade\n"
     ]
    }
   ],
   "source": [
    "feat_info('grade')"
   ]
  },
  {
   "cell_type": "code",
   "execution_count": 366,
   "id": "82cf5562",
   "metadata": {},
   "outputs": [
    {
     "name": "stdout",
     "output_type": "stream",
     "text": [
      "LC assigned loan subgrade\n"
     ]
    }
   ],
   "source": [
    "feat_info('sub_grade')"
   ]
  },
  {
   "cell_type": "code",
   "execution_count": 367,
   "id": "2b1c9278",
   "metadata": {},
   "outputs": [
    {
     "data": {
      "text/plain": [
       "['A', 'B', 'C', 'D', 'E', 'F', 'G']"
      ]
     },
     "execution_count": 367,
     "metadata": {},
     "output_type": "execute_result"
    }
   ],
   "source": [
    "sorted(df['grade'].unique())"
   ]
  },
  {
   "cell_type": "code",
   "execution_count": 368,
   "id": "33861551",
   "metadata": {},
   "outputs": [
    {
     "data": {
      "text/plain": [
       "['A1',\n",
       " 'A2',\n",
       " 'A3',\n",
       " 'A4',\n",
       " 'A5',\n",
       " 'B1',\n",
       " 'B2',\n",
       " 'B3',\n",
       " 'B4',\n",
       " 'B5',\n",
       " 'C1',\n",
       " 'C2',\n",
       " 'C3',\n",
       " 'C4',\n",
       " 'C5',\n",
       " 'D1',\n",
       " 'D2',\n",
       " 'D3',\n",
       " 'D4',\n",
       " 'D5',\n",
       " 'E1',\n",
       " 'E2',\n",
       " 'E3',\n",
       " 'E4',\n",
       " 'E5',\n",
       " 'F1',\n",
       " 'F2',\n",
       " 'F3',\n",
       " 'F4',\n",
       " 'F5',\n",
       " 'G1',\n",
       " 'G2',\n",
       " 'G3',\n",
       " 'G4',\n",
       " 'G5']"
      ]
     },
     "execution_count": 368,
     "metadata": {},
     "output_type": "execute_result"
    }
   ],
   "source": [
    "sorted(df['sub_grade'].unique())"
   ]
  },
  {
   "cell_type": "code",
   "execution_count": 369,
   "id": "0c6b48da",
   "metadata": {},
   "outputs": [
    {
     "data": {
      "text/plain": [
       "<AxesSubplot: xlabel='grade', ylabel='count'>"
      ]
     },
     "execution_count": 369,
     "metadata": {},
     "output_type": "execute_result"
    },
    {
     "data": {
      "image/png": "[encoded data removed]",
      "text/plain": [
       "<Figure size 432x288 with 1 Axes>"
      ]
     },
     "metadata": {
      "needs_background": "light"
     },
     "output_type": "display_data"
    }
   ],
   "source": [
    "#observe that grade F and G loans are most unlikely to be paid off\n",
    "sns.countplot(x='grade',data=df,hue='loan_status')"
   ]
  },
  {
   "cell_type": "code",
   "execution_count": 370,
   "id": "ceba38b1",
   "metadata": {},
   "outputs": [
    {
     "data": {
      "text/plain": [
       "<AxesSubplot: xlabel='sub_grade', ylabel='count'>"
      ]
     },
     "execution_count": 370,
     "metadata": {},
     "output_type": "execute_result"
    },
    {
     "data": {
      "image/png": "[encoded data removed]",
      "text/plain": [
       "<Figure size 864x288 with 1 Axes>"
      ]
     },
     "metadata": {
      "needs_background": "light"
     },
     "output_type": "display_data"
    }
   ],
   "source": [
    "plt.figure(figsize=(12,4))\n",
    "subgrade_order = sorted(df['sub_grade'].unique())\n",
    "sns.countplot(x='sub_grade',data=df,order = subgrade_order,palette='coolwarm' ,hue='loan_status')"
   ]
  },
  {
   "cell_type": "code",
   "execution_count": 371,
   "id": "ba1ebbf8",
   "metadata": {},
   "outputs": [
    {
     "data": {
      "text/plain": [
       "<AxesSubplot: xlabel='sub_grade', ylabel='count'>"
      ]
     },
     "execution_count": 371,
     "metadata": {},
     "output_type": "execute_result"
    },
    {
     "data": {
      "image/png": "[encoded data removed]",
      "text/plain": [
       "<Figure size 864x288 with 1 Axes>"
      ]
     },
     "metadata": {
      "needs_background": "light"
     },
     "output_type": "display_data"
    }
   ],
   "source": [
    "#I zoom into the F abd G groups for a closer look at the behaviour of loans in these categories\n",
    "f_and_g = df[(df['grade']=='G') | (df['grade']=='F')]\n",
    "\n",
    "plt.figure(figsize=(12,4))\n",
    "subgrade_order = sorted(f_and_g['sub_grade'].unique())\n",
    "sns.countplot(x='sub_grade',data=f_and_g,order = subgrade_order,hue='loan_status')"
   ]
  },
  {
   "cell_type": "markdown",
   "id": "29177050",
   "metadata": {},
   "source": [
    "## DATA PREPROCESSING AND FEATURE ENGINEERING"
   ]
  },
  {
   "cell_type": "code",
   "execution_count": 372,
   "id": "c32273a0",
   "metadata": {},
   "outputs": [
    {
     "data": {
      "text/html": [
       "<div>\n",
       "<style scoped>\n",
       "    .dataframe tbody tr th:only-of-type {\n",
       "        vertical-align: middle;\n",
       "    }\n",
       "\n",
       "    .dataframe tbody tr th {\n",
       "        vertical-align: top;\n",
       "    }\n",
       "\n",
       "    .dataframe thead th {\n",
       "        text-align: right;\n",
       "    }\n",
       "</style>\n",
       "<table border=\"1\" class=\"dataframe\">\n",
       "  <thead>\n",
       "    <tr style=\"text-align: right;\">\n",
       "      <th></th>\n",
       "      <th>loan_amnt</th>\n",
       "      <th>term</th>\n",
       "      <th>int_rate</th>\n",
       "      <th>installment</th>\n",
       "      <th>grade</th>\n",
       "      <th>sub_grade</th>\n",
       "      <th>emp_title</th>\n",
       "      <th>emp_length</th>\n",
       "      <th>home_ownership</th>\n",
       "      <th>annual_inc</th>\n",
       "      <th>...</th>\n",
       "      <th>pub_rec</th>\n",
       "      <th>revol_bal</th>\n",
       "      <th>revol_util</th>\n",
       "      <th>total_acc</th>\n",
       "      <th>initial_list_status</th>\n",
       "      <th>application_type</th>\n",
       "      <th>mort_acc</th>\n",
       "      <th>pub_rec_bankruptcies</th>\n",
       "      <th>address</th>\n",
       "      <th>loan_repaid</th>\n",
       "    </tr>\n",
       "  </thead>\n",
       "  <tbody>\n",
       "    <tr>\n",
       "      <th>0</th>\n",
       "      <td>10000.0</td>\n",
       "      <td>36 months</td>\n",
       "      <td>11.44</td>\n",
       "      <td>329.48</td>\n",
       "      <td>B</td>\n",
       "      <td>B4</td>\n",
       "      <td>Marketing</td>\n",
       "      <td>10+ years</td>\n",
       "      <td>RENT</td>\n",
       "      <td>117000.0</td>\n",
       "      <td>...</td>\n",
       "      <td>0.0</td>\n",
       "      <td>36369.0</td>\n",
       "      <td>41.8</td>\n",
       "      <td>25.0</td>\n",
       "      <td>w</td>\n",
       "      <td>INDIVIDUAL</td>\n",
       "      <td>0.0</td>\n",
       "      <td>0.0</td>\n",
       "      <td>0174 Michelle Gateway\\r\\nMendozaberg, OK 22690</td>\n",
       "      <td>1</td>\n",
       "    </tr>\n",
       "    <tr>\n",
       "      <th>1</th>\n",
       "      <td>8000.0</td>\n",
       "      <td>36 months</td>\n",
       "      <td>11.99</td>\n",
       "      <td>265.68</td>\n",
       "      <td>B</td>\n",
       "      <td>B5</td>\n",
       "      <td>Credit analyst</td>\n",
       "      <td>4 years</td>\n",
       "      <td>MORTGAGE</td>\n",
       "      <td>65000.0</td>\n",
       "      <td>...</td>\n",
       "      <td>0.0</td>\n",
       "      <td>20131.0</td>\n",
       "      <td>53.3</td>\n",
       "      <td>27.0</td>\n",
       "      <td>f</td>\n",
       "      <td>INDIVIDUAL</td>\n",
       "      <td>3.0</td>\n",
       "      <td>0.0</td>\n",
       "      <td>1076 Carney Fort Apt. 347\\r\\nLoganmouth, SD 05113</td>\n",
       "      <td>1</td>\n",
       "    </tr>\n",
       "    <tr>\n",
       "      <th>2</th>\n",
       "      <td>15600.0</td>\n",
       "      <td>36 months</td>\n",
       "      <td>10.49</td>\n",
       "      <td>506.97</td>\n",
       "      <td>B</td>\n",
       "      <td>B3</td>\n",
       "      <td>Statistician</td>\n",
       "      <td>&lt; 1 year</td>\n",
       "      <td>RENT</td>\n",
       "      <td>43057.0</td>\n",
       "      <td>...</td>\n",
       "      <td>0.0</td>\n",
       "      <td>11987.0</td>\n",
       "      <td>92.2</td>\n",
       "      <td>26.0</td>\n",
       "      <td>f</td>\n",
       "      <td>INDIVIDUAL</td>\n",
       "      <td>0.0</td>\n",
       "      <td>0.0</td>\n",
       "      <td>87025 Mark Dale Apt. 269\\r\\nNew Sabrina, WV 05113</td>\n",
       "      <td>1</td>\n",
       "    </tr>\n",
       "    <tr>\n",
       "      <th>3</th>\n",
       "      <td>7200.0</td>\n",
       "      <td>36 months</td>\n",
       "      <td>6.49</td>\n",
       "      <td>220.65</td>\n",
       "      <td>A</td>\n",
       "      <td>A2</td>\n",
       "      <td>Client Advocate</td>\n",
       "      <td>6 years</td>\n",
       "      <td>RENT</td>\n",
       "      <td>54000.0</td>\n",
       "      <td>...</td>\n",
       "      <td>0.0</td>\n",
       "      <td>5472.0</td>\n",
       "      <td>21.5</td>\n",
       "      <td>13.0</td>\n",
       "      <td>f</td>\n",
       "      <td>INDIVIDUAL</td>\n",
       "      <td>0.0</td>\n",
       "      <td>0.0</td>\n",
       "      <td>823 Reid Ford\\r\\nDelacruzside, MA 00813</td>\n",
       "      <td>1</td>\n",
       "    </tr>\n",
       "    <tr>\n",
       "      <th>4</th>\n",
       "      <td>24375.0</td>\n",
       "      <td>60 months</td>\n",
       "      <td>17.27</td>\n",
       "      <td>609.33</td>\n",
       "      <td>C</td>\n",
       "      <td>C5</td>\n",
       "      <td>Destiny Management Inc.</td>\n",
       "      <td>9 years</td>\n",
       "      <td>MORTGAGE</td>\n",
       "      <td>55000.0</td>\n",
       "      <td>...</td>\n",
       "      <td>0.0</td>\n",
       "      <td>24584.0</td>\n",
       "      <td>69.8</td>\n",
       "      <td>43.0</td>\n",
       "      <td>f</td>\n",
       "      <td>INDIVIDUAL</td>\n",
       "      <td>1.0</td>\n",
       "      <td>0.0</td>\n",
       "      <td>679 Luna Roads\\r\\nGreggshire, VA 11650</td>\n",
       "      <td>0</td>\n",
       "    </tr>\n",
       "  </tbody>\n",
       "</table>\n",
       "<p>5 rows × 28 columns</p>\n",
       "</div>"
      ],
      "text/plain": [
       "   loan_amnt        term  int_rate  installment grade sub_grade  \\\n",
       "0    10000.0   36 months     11.44       329.48     B        B4   \n",
       "1     8000.0   36 months     11.99       265.68     B        B5   \n",
       "2    15600.0   36 months     10.49       506.97     B        B3   \n",
       "3     7200.0   36 months      6.49       220.65     A        A2   \n",
       "4    24375.0   60 months     17.27       609.33     C        C5   \n",
       "\n",
       "                 emp_title emp_length home_ownership  annual_inc  ... pub_rec  \\\n",
       "0                Marketing  10+ years           RENT    117000.0  ...     0.0   \n",
       "1          Credit analyst     4 years       MORTGAGE     65000.0  ...     0.0   \n",
       "2             Statistician   < 1 year           RENT     43057.0  ...     0.0   \n",
       "3          Client Advocate    6 years           RENT     54000.0  ...     0.0   \n",
       "4  Destiny Management Inc.    9 years       MORTGAGE     55000.0  ...     0.0   \n",
       "\n",
       "  revol_bal revol_util total_acc initial_list_status  application_type  \\\n",
       "0   36369.0       41.8      25.0                   w        INDIVIDUAL   \n",
       "1   20131.0       53.3      27.0                   f        INDIVIDUAL   \n",
       "2   11987.0       92.2      26.0                   f        INDIVIDUAL   \n",
       "3    5472.0       21.5      13.0                   f        INDIVIDUAL   \n",
       "4   24584.0       69.8      43.0                   f        INDIVIDUAL   \n",
       "\n",
       "  mort_acc  pub_rec_bankruptcies  \\\n",
       "0      0.0                   0.0   \n",
       "1      3.0                   0.0   \n",
       "2      0.0                   0.0   \n",
       "3      0.0                   0.0   \n",
       "4      1.0                   0.0   \n",
       "\n",
       "                                             address  loan_repaid  \n",
       "0     0174 Michelle Gateway\\r\\nMendozaberg, OK 22690            1  \n",
       "1  1076 Carney Fort Apt. 347\\r\\nLoganmouth, SD 05113            1  \n",
       "2  87025 Mark Dale Apt. 269\\r\\nNew Sabrina, WV 05113            1  \n",
       "3            823 Reid Ford\\r\\nDelacruzside, MA 00813            1  \n",
       "4             679 Luna Roads\\r\\nGreggshire, VA 11650            0  \n",
       "\n",
       "[5 rows x 28 columns]"
      ]
     },
     "execution_count": 372,
     "metadata": {},
     "output_type": "execute_result"
    }
   ],
   "source": [
    "df.head()"
   ]
  },
  {
   "cell_type": "markdown",
   "id": "271ed8c0",
   "metadata": {},
   "source": [
    "### Missing Data"
   ]
  },
  {
   "cell_type": "code",
   "execution_count": 373,
   "id": "ade8d1a5",
   "metadata": {},
   "outputs": [
    {
     "data": {
      "text/plain": [
       "loan_amnt                   0\n",
       "term                        0\n",
       "int_rate                    0\n",
       "installment                 0\n",
       "grade                       0\n",
       "sub_grade                   0\n",
       "emp_title               22927\n",
       "emp_length              18301\n",
       "home_ownership              0\n",
       "annual_inc                  0\n",
       "verification_status         0\n",
       "issue_d                     0\n",
       "loan_status                 0\n",
       "purpose                     0\n",
       "title                    1755\n",
       "dti                         0\n",
       "earliest_cr_line            0\n",
       "open_acc                    0\n",
       "pub_rec                     0\n",
       "revol_bal                   0\n",
       "revol_util                276\n",
       "total_acc                   0\n",
       "initial_list_status         0\n",
       "application_type            0\n",
       "mort_acc                37795\n",
       "pub_rec_bankruptcies      535\n",
       "address                     0\n",
       "loan_repaid                 0\n",
       "dtype: int64"
      ]
     },
     "execution_count": 373,
     "metadata": {},
     "output_type": "execute_result"
    }
   ],
   "source": [
    "#number of missing values for each feature\n",
    "df.isnull().sum()"
   ]
  },
  {
   "cell_type": "code",
   "execution_count": 374,
   "id": "b2c096cb",
   "metadata": {},
   "outputs": [
    {
     "data": {
      "text/plain": [
       "loan_amnt               0.000000\n",
       "term                    0.000000\n",
       "int_rate                0.000000\n",
       "installment             0.000000\n",
       "grade                   0.000000\n",
       "sub_grade               0.000000\n",
       "emp_title               5.789208\n",
       "emp_length              4.621115\n",
       "home_ownership          0.000000\n",
       "annual_inc              0.000000\n",
       "verification_status     0.000000\n",
       "issue_d                 0.000000\n",
       "loan_status             0.000000\n",
       "purpose                 0.000000\n",
       "title                   0.443148\n",
       "dti                     0.000000\n",
       "earliest_cr_line        0.000000\n",
       "open_acc                0.000000\n",
       "pub_rec                 0.000000\n",
       "revol_bal               0.000000\n",
       "revol_util              0.069692\n",
       "total_acc               0.000000\n",
       "initial_list_status     0.000000\n",
       "application_type        0.000000\n",
       "mort_acc                9.543469\n",
       "pub_rec_bankruptcies    0.135091\n",
       "address                 0.000000\n",
       "loan_repaid             0.000000\n",
       "dtype: float64"
      ]
     },
     "execution_count": 374,
     "metadata": {},
     "output_type": "execute_result"
    }
   ],
   "source": [
    "#percentage of missing values for each feature\n",
    "100* df.isnull().sum()/len(df)"
   ]
  },
  {
   "cell_type": "markdown",
   "id": "4114c00c",
   "metadata": {},
   "source": [
    "## I shall explore the features with missing values and determine the appropriate approach to handling the missing value problems"
   ]
  },
  {
   "cell_type": "code",
   "execution_count": 375,
   "id": "24875c13",
   "metadata": {},
   "outputs": [
    {
     "name": "stdout",
     "output_type": "stream",
     "text": [
      "The job title supplied by the Borrower when applying for the loan.*\n"
     ]
    }
   ],
   "source": [
    "feat_info('emp_title')"
   ]
  },
  {
   "cell_type": "code",
   "execution_count": 376,
   "id": "9bbcd360",
   "metadata": {},
   "outputs": [
    {
     "data": {
      "text/plain": [
       "emp_title    173105\n",
       "dtype: int64"
      ]
     },
     "execution_count": 376,
     "metadata": {},
     "output_type": "execute_result"
    }
   ],
   "source": [
    "df[['emp_title']].nunique()"
   ]
  },
  {
   "cell_type": "code",
   "execution_count": 377,
   "id": "9c8d161e",
   "metadata": {},
   "outputs": [
    {
     "data": {
      "text/plain": [
       "emp_title                       \n",
       "Teacher                             4389\n",
       "Manager                             4250\n",
       "Registered Nurse                    1856\n",
       "RN                                  1846\n",
       "Supervisor                          1830\n",
       "                                    ... \n",
       "Hy Powered                             1\n",
       "Hy Vee                                 1\n",
       "Hy-Vee Food Store                      1\n",
       "HyPro, Inc.                            1\n",
       "​License Compliance Investigator       1\n",
       "Length: 173105, dtype: int64"
      ]
     },
     "execution_count": 377,
     "metadata": {},
     "output_type": "execute_result"
    }
   ],
   "source": [
    "df[['emp_title']].value_counts()"
   ]
  },
  {
   "cell_type": "code",
   "execution_count": 378,
   "id": "28371276",
   "metadata": {},
   "outputs": [],
   "source": [
    "#we drop emp_title column because there too many unique values to be converted to dummies\n",
    "df = df.drop('emp_title',axis=1)"
   ]
  },
  {
   "cell_type": "code",
   "execution_count": 379,
   "id": "56c89dae",
   "metadata": {},
   "outputs": [
    {
     "name": "stdout",
     "output_type": "stream",
     "text": [
      "Employment length in years. Possible values are between 0 and 10 where 0 means less than one year and 10 means ten or more years. \n"
     ]
    }
   ],
   "source": [
    "feat_info('emp_length')"
   ]
  },
  {
   "cell_type": "code",
   "execution_count": 380,
   "id": "71db8fd5",
   "metadata": {},
   "outputs": [
    {
     "data": {
      "text/plain": [
       "['1 year',\n",
       " '10+ years',\n",
       " '2 years',\n",
       " '3 years',\n",
       " '4 years',\n",
       " '5 years',\n",
       " '6 years',\n",
       " '7 years',\n",
       " '8 years',\n",
       " '9 years',\n",
       " '< 1 year']"
      ]
     },
     "execution_count": 380,
     "metadata": {},
     "output_type": "execute_result"
    }
   ],
   "source": [
    "sorted(df['emp_length'].dropna().unique())"
   ]
  },
  {
   "cell_type": "code",
   "execution_count": 381,
   "id": "b435b724",
   "metadata": {},
   "outputs": [],
   "source": [
    "emp_length_order = [ '< 1 year',\n",
    "                      '1 year',\n",
    "                     '2 years',\n",
    "                     '3 years',\n",
    "                     '4 years',\n",
    "                     '5 years',\n",
    "                     '6 years',\n",
    "                     '7 years',\n",
    "                     '8 years',\n",
    "                     '9 years',\n",
    "                     '10+ years']"
   ]
  },
  {
   "cell_type": "code",
   "execution_count": 382,
   "id": "5843692a",
   "metadata": {},
   "outputs": [
    {
     "data": {
      "text/plain": [
       "<AxesSubplot: xlabel='emp_length', ylabel='count'>"
      ]
     },
     "execution_count": 382,
     "metadata": {},
     "output_type": "execute_result"
    },
    {
     "data": {
      "image/png": "[encoded data removed]",
      "text/plain": [
       "<Figure size 864x288 with 1 Axes>"
      ]
     },
     "metadata": {
      "needs_background": "light"
     },
     "output_type": "display_data"
    }
   ],
   "source": [
    "plt.figure(figsize=(12,4))\n",
    "sns.countplot(x='emp_length',data=df,order=emp_length_order,hue='loan_status')"
   ]
  },
  {
   "cell_type": "markdown",
   "id": "0735ddc1",
   "metadata": {},
   "source": [
    "#### There seems to be no clear evidence of impact of employment length on loan status here. We explore further by converting the values to percentages and visualizing them."
   ]
  },
  {
   "cell_type": "code",
   "execution_count": 383,
   "id": "e7ca5bc5",
   "metadata": {},
   "outputs": [],
   "source": [
    "emp_co = df[df['loan_status']==\"Charged Off\"].groupby(\"emp_length\").count()['loan_status']\n",
    "emp_fp = df[df['loan_status']==\"Fully Paid\"].groupby(\"emp_length\").count()['loan_status']\n",
    "emp_len = emp_co/emp_fp"
   ]
  },
  {
   "cell_type": "code",
   "execution_count": 384,
   "id": "cced13ea",
   "metadata": {},
   "outputs": [
    {
     "data": {
      "text/plain": [
       "emp_length\n",
       "1 year       0.248649\n",
       "10+ years    0.225770\n",
       "2 years      0.239560\n",
       "3 years      0.242593\n",
       "4 years      0.238213\n",
       "5 years      0.237911\n",
       "6 years      0.233341\n",
       "7 years      0.241887\n",
       "8 years      0.249625\n",
       "9 years      0.250735\n",
       "< 1 year     0.260830\n",
       "Name: loan_status, dtype: float64"
      ]
     },
     "execution_count": 384,
     "metadata": {},
     "output_type": "execute_result"
    }
   ],
   "source": [
    "emp_len"
   ]
  },
  {
   "cell_type": "code",
   "execution_count": 385,
   "id": "9847d920",
   "metadata": {},
   "outputs": [
    {
     "data": {
      "text/plain": [
       "<AxesSubplot: xlabel='emp_length'>"
      ]
     },
     "execution_count": 385,
     "metadata": {},
     "output_type": "execute_result"
    },
    {
     "data": {
      "image/png": "[encoded data removed]",
      "text/plain": [
       "<Figure size 432x288 with 1 Axes>"
      ]
     },
     "metadata": {
      "needs_background": "light"
     },
     "output_type": "display_data"
    }
   ],
   "source": [
    "emp_len.plot(kind='bar')"
   ]
  },
  {
   "cell_type": "markdown",
   "id": "38cc63f6",
   "metadata": {},
   "source": [
    "### It is clear that emp_length have no significant impact on loan_status hence we drop the feature/column"
   ]
  },
  {
   "cell_type": "code",
   "execution_count": 386,
   "id": "27e7da3f",
   "metadata": {},
   "outputs": [],
   "source": [
    "df = df.drop('emp_length',axis=1)"
   ]
  },
  {
   "cell_type": "code",
   "execution_count": 387,
   "id": "33cc1598",
   "metadata": {},
   "outputs": [
    {
     "name": "stdout",
     "output_type": "stream",
     "text": [
      "The loan title provided by the borrower\n"
     ]
    }
   ],
   "source": [
    "feat_info('title')"
   ]
  },
  {
   "cell_type": "code",
   "execution_count": 388,
   "id": "645b0fc8",
   "metadata": {},
   "outputs": [
    {
     "data": {
      "text/plain": [
       "title    48817\n",
       "dtype: int64"
      ]
     },
     "execution_count": 388,
     "metadata": {},
     "output_type": "execute_result"
    }
   ],
   "source": [
    "df[['title']].nunique()"
   ]
  },
  {
   "cell_type": "code",
   "execution_count": 389,
   "id": "6c95933d",
   "metadata": {},
   "outputs": [
    {
     "data": {
      "text/plain": [
       "title                                 \n",
       "Debt consolidation                        152472\n",
       "Credit card refinancing                    51487\n",
       "Home improvement                           15264\n",
       "Other                                      12930\n",
       "Debt Consolidation                         11608\n",
       "                                           ...  \n",
       "Goal of being Debt Free                        1\n",
       "Goal to Decrease Overall Interest Rate         1\n",
       "Goal to Zero CC debt                           1\n",
       "Goal to be debt free!!                         1\n",
       "~Summer Fun~                                   1\n",
       "Length: 48817, dtype: int64"
      ]
     },
     "execution_count": 389,
     "metadata": {},
     "output_type": "execute_result"
    }
   ],
   "source": [
    "df[['title']].value_counts()"
   ]
  },
  {
   "cell_type": "markdown",
   "id": "2474fff3",
   "metadata": {},
   "source": [
    "#### the title column is a random description of loan purpose with too many unique values making it difficult for the feature to be converted to dummies hence we drop the title feature"
   ]
  },
  {
   "cell_type": "code",
   "execution_count": 390,
   "id": "6529cf80",
   "metadata": {},
   "outputs": [],
   "source": [
    "df = df.drop('title',axis=1)"
   ]
  },
  {
   "cell_type": "code",
   "execution_count": 391,
   "id": "44494c64",
   "metadata": {},
   "outputs": [
    {
     "name": "stdout",
     "output_type": "stream",
     "text": [
      "Revolving line utilization rate, or the amount of credit the borrower is using relative to all available revolving credit.\n"
     ]
    }
   ],
   "source": [
    "feat_info('revol_util')"
   ]
  },
  {
   "cell_type": "code",
   "execution_count": 392,
   "id": "06540242",
   "metadata": {},
   "outputs": [
    {
     "data": {
      "text/plain": [
       "0         41.8\n",
       "1         53.3\n",
       "2         92.2\n",
       "3         21.5\n",
       "4         69.8\n",
       "          ... \n",
       "396025    34.3\n",
       "396026    95.7\n",
       "396027    66.9\n",
       "396028    53.8\n",
       "396029    91.3\n",
       "Name: revol_util, Length: 396030, dtype: float64"
      ]
     },
     "execution_count": 392,
     "metadata": {},
     "output_type": "execute_result"
    }
   ],
   "source": [
    "df['revol_util']"
   ]
  },
  {
   "cell_type": "markdown",
   "id": "aa3c93eb",
   "metadata": {},
   "source": [
    "### This is a numeric feature with just few missing values hence we fill the missing values with the feature mean"
   ]
  },
  {
   "cell_type": "code",
   "execution_count": 393,
   "id": "d79119f4",
   "metadata": {},
   "outputs": [],
   "source": [
    "df['revol_util'] = df['revol_util'].fillna(df['revol_util'].mean())"
   ]
  },
  {
   "cell_type": "code",
   "execution_count": 394,
   "id": "446a8e1d",
   "metadata": {},
   "outputs": [
    {
     "name": "stdout",
     "output_type": "stream",
     "text": [
      "Number of mortgage accounts.\n"
     ]
    }
   ],
   "source": [
    "feat_info('mort_acc')"
   ]
  },
  {
   "cell_type": "code",
   "execution_count": 395,
   "id": "7d6d969d",
   "metadata": {},
   "outputs": [
    {
     "data": {
      "text/plain": [
       "0.0     139777\n",
       "1.0      60416\n",
       "2.0      49948\n",
       "3.0      38049\n",
       "4.0      27887\n",
       "5.0      18194\n",
       "6.0      11069\n",
       "7.0       6052\n",
       "8.0       3121\n",
       "9.0       1656\n",
       "10.0       865\n",
       "11.0       479\n",
       "12.0       264\n",
       "13.0       146\n",
       "14.0       107\n",
       "15.0        61\n",
       "16.0        37\n",
       "17.0        22\n",
       "18.0        18\n",
       "19.0        15\n",
       "20.0        13\n",
       "24.0        10\n",
       "22.0         7\n",
       "21.0         4\n",
       "25.0         4\n",
       "27.0         3\n",
       "32.0         2\n",
       "31.0         2\n",
       "23.0         2\n",
       "26.0         2\n",
       "28.0         1\n",
       "30.0         1\n",
       "34.0         1\n",
       "Name: mort_acc, dtype: int64"
      ]
     },
     "execution_count": 395,
     "metadata": {},
     "output_type": "execute_result"
    }
   ],
   "source": [
    "df['mort_acc'].value_counts()"
   ]
  },
  {
   "cell_type": "markdown",
   "id": "72c8a445",
   "metadata": {},
   "source": [
    "### In this case, we use the feature which is most correlated with mort_acc feature to fill in up the missing values"
   ]
  },
  {
   "cell_type": "code",
   "execution_count": 396,
   "id": "cab8be14",
   "metadata": {},
   "outputs": [
    {
     "name": "stdout",
     "output_type": "stream",
     "text": [
      "Correlation with the mort_acc column\n"
     ]
    },
    {
     "data": {
      "text/plain": [
       "int_rate               -0.082583\n",
       "dti                    -0.025439\n",
       "revol_util              0.007510\n",
       "pub_rec                 0.011552\n",
       "pub_rec_bankruptcies    0.027239\n",
       "loan_repaid             0.073111\n",
       "open_acc                0.109205\n",
       "installment             0.193694\n",
       "revol_bal               0.194925\n",
       "loan_amnt               0.222315\n",
       "annual_inc              0.236320\n",
       "total_acc               0.381072\n",
       "mort_acc                1.000000\n",
       "Name: mort_acc, dtype: float64"
      ]
     },
     "execution_count": 396,
     "metadata": {},
     "output_type": "execute_result"
    }
   ],
   "source": [
    "#total account is most correlated with mort_acc\n",
    "print(\"Correlation with the mort_acc column\")\n",
    "df.corr()['mort_acc'].sort_values()"
   ]
  },
  {
   "cell_type": "code",
   "execution_count": 397,
   "id": "78954da6",
   "metadata": {},
   "outputs": [
    {
     "name": "stdout",
     "output_type": "stream",
     "text": [
      "Mean of mort_acc column per total_acc\n"
     ]
    },
    {
     "data": {
      "text/plain": [
       "total_acc\n",
       "2.0      0.000000\n",
       "3.0      0.052023\n",
       "4.0      0.066743\n",
       "5.0      0.103289\n",
       "6.0      0.151293\n",
       "           ...   \n",
       "124.0    1.000000\n",
       "129.0    1.000000\n",
       "135.0    3.000000\n",
       "150.0    2.000000\n",
       "151.0    0.000000\n",
       "Name: mort_acc, Length: 118, dtype: float64"
      ]
     },
     "execution_count": 397,
     "metadata": {},
     "output_type": "execute_result"
    }
   ],
   "source": [
    "print(\"Mean of mort_acc column per total_acc\")\n",
    "df.groupby('total_acc').mean()['mort_acc']"
   ]
  },
  {
   "cell_type": "code",
   "execution_count": 398,
   "id": "c8667455",
   "metadata": {},
   "outputs": [],
   "source": [
    "total_acc_avg = df.groupby('total_acc').mean()['mort_acc']"
   ]
  },
  {
   "cell_type": "code",
   "execution_count": 399,
   "id": "e6385ac9",
   "metadata": {},
   "outputs": [],
   "source": [
    "def fill_mort_acc(total_acc,mort_acc):\n",
    "    '''\n",
    "    Accepts the total_acc and mort_acc values for the row.\n",
    "    Checks if the mort_acc is NaN , if so, it returns the avg mort_acc value\n",
    "    for the corresponding total_acc value for that row.\n",
    "    \n",
    "    total_acc_avg here should be a Series or dictionary containing the mapping of the\n",
    "    groupby averages of mort_acc per total_acc values.\n",
    "    '''\n",
    "    if np.isnan(mort_acc):\n",
    "        return total_acc_avg[total_acc]\n",
    "    else:\n",
    "        return mort_acc"
   ]
  },
  {
   "cell_type": "code",
   "execution_count": 400,
   "id": "35f836bf",
   "metadata": {},
   "outputs": [],
   "source": [
    "df['mort_acc'] = df.apply(lambda x: fill_mort_acc(x['total_acc'], x['mort_acc']), axis=1)"
   ]
  },
  {
   "cell_type": "code",
   "execution_count": 401,
   "id": "6a4af93e",
   "metadata": {},
   "outputs": [
    {
     "name": "stdout",
     "output_type": "stream",
     "text": [
      "Number of public record bankruptcies\n"
     ]
    }
   ],
   "source": [
    "feat_info('pub_rec_bankruptcies')"
   ]
  },
  {
   "cell_type": "code",
   "execution_count": 402,
   "id": "96b510ce",
   "metadata": {},
   "outputs": [
    {
     "data": {
      "text/plain": [
       "0.0    350380\n",
       "1.0     42790\n",
       "2.0      1847\n",
       "3.0       351\n",
       "4.0        82\n",
       "5.0        32\n",
       "6.0         7\n",
       "7.0         4\n",
       "8.0         2\n",
       "Name: pub_rec_bankruptcies, dtype: int64"
      ]
     },
     "execution_count": 402,
     "metadata": {},
     "output_type": "execute_result"
    }
   ],
   "source": [
    "df['pub_rec_bankruptcies'].value_counts()"
   ]
  },
  {
   "cell_type": "code",
   "execution_count": 403,
   "id": "2d9c9640",
   "metadata": {},
   "outputs": [
    {
     "name": "stdout",
     "output_type": "stream",
     "text": [
      "Correlation with the mort_acc column\n"
     ]
    },
    {
     "data": {
      "text/plain": [
       "revol_bal              -0.124532\n",
       "loan_amnt              -0.106539\n",
       "installment            -0.098628\n",
       "revol_util             -0.086745\n",
       "annual_inc             -0.050162\n",
       "open_acc               -0.027732\n",
       "dti                    -0.014558\n",
       "loan_repaid            -0.009383\n",
       "mort_acc                0.029276\n",
       "total_acc               0.042035\n",
       "int_rate                0.057450\n",
       "pub_rec                 0.699408\n",
       "pub_rec_bankruptcies    1.000000\n",
       "Name: pub_rec_bankruptcies, dtype: float64"
      ]
     },
     "execution_count": 403,
     "metadata": {},
     "output_type": "execute_result"
    }
   ],
   "source": [
    "#total account is most correlated with mort_acc\n",
    "print(\"Correlation with the mort_acc column\")\n",
    "df.corr()['pub_rec_bankruptcies'].sort_values()"
   ]
  },
  {
   "cell_type": "code",
   "execution_count": 404,
   "id": "25acc462",
   "metadata": {},
   "outputs": [
    {
     "name": "stdout",
     "output_type": "stream",
     "text": [
      "Number of derogatory public records\n"
     ]
    }
   ],
   "source": [
    "feat_info('pub_rec')"
   ]
  },
  {
   "cell_type": "markdown",
   "id": "1154e204",
   "metadata": {},
   "source": [
    "### pub_rec_bankruptcies is most correlated with pub_rec hence we use pub_rec to fill up just like mort_acc above"
   ]
  },
  {
   "cell_type": "code",
   "execution_count": 405,
   "id": "b03bf900",
   "metadata": {},
   "outputs": [
    {
     "name": "stdout",
     "output_type": "stream",
     "text": [
      "Mean of pub_rec_bankruptcies column per pub_rec\n"
     ]
    },
    {
     "data": {
      "text/plain": [
       "pub_rec\n",
       "0.0     0.000000\n",
       "1.0     0.810205\n",
       "2.0     0.929863\n",
       "3.0     1.074293\n",
       "4.0     1.136622\n",
       "5.0     1.113924\n",
       "6.0     0.983607\n",
       "7.0     0.821429\n",
       "8.0     1.235294\n",
       "9.0     1.250000\n",
       "10.0    0.363636\n",
       "11.0    0.000000\n",
       "12.0    1.000000\n",
       "13.0    0.500000\n",
       "15.0    0.000000\n",
       "17.0    1.000000\n",
       "19.0    1.000000\n",
       "24.0    0.000000\n",
       "40.0    1.000000\n",
       "86.0    1.000000\n",
       "Name: pub_rec_bankruptcies, dtype: float64"
      ]
     },
     "execution_count": 405,
     "metadata": {},
     "output_type": "execute_result"
    }
   ],
   "source": [
    "print(\"Mean of pub_rec_bankruptcies column per pub_rec\")\n",
    "df.groupby('pub_rec').mean()['pub_rec_bankruptcies']"
   ]
  },
  {
   "cell_type": "code",
   "execution_count": 406,
   "id": "9050672e",
   "metadata": {},
   "outputs": [],
   "source": [
    "pub_rec_avg = df.groupby('pub_rec').mean()['pub_rec_bankruptcies']"
   ]
  },
  {
   "cell_type": "code",
   "execution_count": 407,
   "id": "8cef08d0",
   "metadata": {},
   "outputs": [],
   "source": [
    "def fill_pub_rec_bankruptcies(pub_rec,pub_rec_bankruptcies):\n",
    "    '''\n",
    "    Accepts the total_acc and mort_acc values for the row.\n",
    "    Checks if the mort_acc is NaN , if so, it returns the avg mort_acc value\n",
    "    for the corresponding total_acc value for that row.\n",
    "    \n",
    "    total_acc_avg here should be a Series or dictionary containing the mapping of the\n",
    "    groupby averages of mort_acc per total_acc values.\n",
    "    '''\n",
    "    if np.isnan(pub_rec_bankruptcies):\n",
    "        return pub_rec_avg[pub_rec]\n",
    "    else:\n",
    "        return pub_rec_bankruptcies"
   ]
  },
  {
   "cell_type": "code",
   "execution_count": 408,
   "id": "7558891d",
   "metadata": {},
   "outputs": [],
   "source": [
    "df['pub_rec_bankruptcies'] = df.apply(lambda x: fill_pub_rec_bankruptcies(x['pub_rec'], x['pub_rec_bankruptcies']), axis=1)"
   ]
  },
  {
   "cell_type": "code",
   "execution_count": 409,
   "id": "75ca6e5c",
   "metadata": {},
   "outputs": [
    {
     "data": {
      "text/plain": [
       "loan_amnt               0\n",
       "term                    0\n",
       "int_rate                0\n",
       "installment             0\n",
       "grade                   0\n",
       "sub_grade               0\n",
       "home_ownership          0\n",
       "annual_inc              0\n",
       "verification_status     0\n",
       "issue_d                 0\n",
       "loan_status             0\n",
       "purpose                 0\n",
       "dti                     0\n",
       "earliest_cr_line        0\n",
       "open_acc                0\n",
       "pub_rec                 0\n",
       "revol_bal               0\n",
       "revol_util              0\n",
       "total_acc               0\n",
       "initial_list_status     0\n",
       "application_type        0\n",
       "mort_acc                0\n",
       "pub_rec_bankruptcies    0\n",
       "address                 0\n",
       "loan_repaid             0\n",
       "dtype: int64"
      ]
     },
     "execution_count": 409,
     "metadata": {},
     "output_type": "execute_result"
    }
   ],
   "source": [
    "#no more missing values\n",
    "df.isnull().sum()"
   ]
  },
  {
   "cell_type": "markdown",
   "id": "fec8e4d9",
   "metadata": {},
   "source": [
    "### Handling of categorical and dummy variables\n",
    " - We will assess all the categorical variables, drop those that should be dropped and convert others to numerical and/or dummy variables"
   ]
  },
  {
   "cell_type": "code",
   "execution_count": 410,
   "id": "82e036a9",
   "metadata": {},
   "outputs": [
    {
     "data": {
      "text/plain": [
       "Index(['term', 'grade', 'sub_grade', 'home_ownership', 'verification_status',\n",
       "       'issue_d', 'loan_status', 'purpose', 'earliest_cr_line',\n",
       "       'initial_list_status', 'application_type', 'address'],\n",
       "      dtype='object')"
      ]
     },
     "execution_count": 410,
     "metadata": {},
     "output_type": "execute_result"
    }
   ],
   "source": [
    "df.select_dtypes(['object']).columns"
   ]
  },
  {
   "cell_type": "markdown",
   "id": "08b47e25",
   "metadata": {},
   "source": [
    "##### term feature"
   ]
  },
  {
   "cell_type": "code",
   "execution_count": 411,
   "id": "661224d2",
   "metadata": {},
   "outputs": [
    {
     "name": "stdout",
     "output_type": "stream",
     "text": [
      "The number of payments on the loan. Values are in months and can be either 36 or 60.\n"
     ]
    }
   ],
   "source": [
    "feat_info('term')"
   ]
  },
  {
   "cell_type": "code",
   "execution_count": 412,
   "id": "b3e56e09",
   "metadata": {},
   "outputs": [
    {
     "data": {
      "text/plain": [
       " 36 months    302005\n",
       " 60 months     94025\n",
       "Name: term, dtype: int64"
      ]
     },
     "execution_count": 412,
     "metadata": {},
     "output_type": "execute_result"
    }
   ],
   "source": [
    "df['term'].value_counts()"
   ]
  },
  {
   "cell_type": "code",
   "execution_count": 413,
   "id": "fcbe33cf",
   "metadata": {},
   "outputs": [],
   "source": [
    "# We simply take the numerical part and convert to integer\n",
    "df['term'] = df['term'].apply(lambda term: int(term[:3]))"
   ]
  },
  {
   "cell_type": "markdown",
   "id": "99252ddc",
   "metadata": {},
   "source": [
    "### grade feature: grades are embeded in subgrade as seen earlier hence we just drop grade and convert subgrades to dummies later"
   ]
  },
  {
   "cell_type": "code",
   "execution_count": 414,
   "id": "a0b6ebde",
   "metadata": {},
   "outputs": [
    {
     "name": "stdout",
     "output_type": "stream",
     "text": [
      "LC assigned loan grade\n"
     ]
    }
   ],
   "source": [
    "feat_info('grade')"
   ]
  },
  {
   "cell_type": "code",
   "execution_count": 415,
   "id": "94b441fa",
   "metadata": {},
   "outputs": [
    {
     "name": "stdout",
     "output_type": "stream",
     "text": [
      "LC assigned loan subgrade\n"
     ]
    }
   ],
   "source": [
    "feat_info('sub_grade')"
   ]
  },
  {
   "cell_type": "code",
   "execution_count": 416,
   "id": "728fb708",
   "metadata": {},
   "outputs": [],
   "source": [
    "df = df.drop('grade',axis=1)"
   ]
  },
  {
   "cell_type": "markdown",
   "id": "cef31f7f",
   "metadata": {},
   "source": [
    "##### Home ownership feature"
   ]
  },
  {
   "cell_type": "code",
   "execution_count": 417,
   "id": "ee78b691",
   "metadata": {},
   "outputs": [
    {
     "name": "stdout",
     "output_type": "stream",
     "text": [
      "The home ownership status provided by the borrower during registration or obtained from the credit report. Our values are: RENT, OWN, MORTGAGE, OTHER\n"
     ]
    }
   ],
   "source": [
    "feat_info('home_ownership')"
   ]
  },
  {
   "cell_type": "code",
   "execution_count": 418,
   "id": "b493b625",
   "metadata": {},
   "outputs": [
    {
     "data": {
      "text/plain": [
       "MORTGAGE    198348\n",
       "RENT        159790\n",
       "OWN          37746\n",
       "OTHER          112\n",
       "NONE            31\n",
       "ANY              3\n",
       "Name: home_ownership, dtype: int64"
      ]
     },
     "execution_count": 418,
     "metadata": {},
     "output_type": "execute_result"
    }
   ],
   "source": [
    "#observe that OTHER, NONE and ANY have very few values hence they will be merged into same category to reduce numbers \n",
    "#of dummy variables. Thereafter, we convert the home_ownership feature to dummies\n",
    "df['home_ownership'].value_counts()"
   ]
  },
  {
   "cell_type": "code",
   "execution_count": 419,
   "id": "3943b095",
   "metadata": {},
   "outputs": [],
   "source": [
    "df['home_ownership']=df['home_ownership'].replace(['NONE', 'ANY'], 'OTHER')"
   ]
  },
  {
   "cell_type": "markdown",
   "id": "b39f640c",
   "metadata": {},
   "source": [
    "##### Verification status"
   ]
  },
  {
   "cell_type": "code",
   "execution_count": 420,
   "id": "3e0309a9",
   "metadata": {},
   "outputs": [
    {
     "name": "stdout",
     "output_type": "stream",
     "text": [
      "Indicates if income was verified by LC, not verified, or if the income source was verified\n"
     ]
    }
   ],
   "source": [
    "feat_info('verification_status')"
   ]
  },
  {
   "cell_type": "code",
   "execution_count": 421,
   "id": "43ef142e",
   "metadata": {},
   "outputs": [
    {
     "data": {
      "text/plain": [
       "3"
      ]
     },
     "execution_count": 421,
     "metadata": {},
     "output_type": "execute_result"
    }
   ],
   "source": [
    "# there are only 3 unique values hence the categorical variable would be converted to dummies\n",
    "df['verification_status'].nunique()"
   ]
  },
  {
   "cell_type": "markdown",
   "id": "5a91c1ff",
   "metadata": {},
   "source": [
    "##### issue_d feature "
   ]
  },
  {
   "cell_type": "code",
   "execution_count": 422,
   "id": "04bea7bf",
   "metadata": {},
   "outputs": [
    {
     "name": "stdout",
     "output_type": "stream",
     "text": [
      "The month which the loan was funded\n"
     ]
    }
   ],
   "source": [
    "feat_info('issue_d')"
   ]
  },
  {
   "cell_type": "markdown",
   "id": "6ec24908",
   "metadata": {},
   "source": [
    "#### SInce this model is expected to make prediction at the point of application/decision, it doesn't make sense to have this feature since information as regards the month which loan was funded is not expected to be known before loan is approved. Hence, we drop the feature"
   ]
  },
  {
   "cell_type": "code",
   "execution_count": 423,
   "id": "6623b36f",
   "metadata": {},
   "outputs": [],
   "source": [
    "df = df.drop('issue_d',axis=1)"
   ]
  },
  {
   "cell_type": "markdown",
   "id": "ae774a7f",
   "metadata": {},
   "source": [
    "#### purpose feature"
   ]
  },
  {
   "cell_type": "code",
   "execution_count": 424,
   "id": "cbc0d605",
   "metadata": {},
   "outputs": [
    {
     "name": "stdout",
     "output_type": "stream",
     "text": [
      "A category provided by the borrower for the loan request. \n"
     ]
    }
   ],
   "source": [
    "feat_info('purpose')"
   ]
  },
  {
   "cell_type": "code",
   "execution_count": 425,
   "id": "652dd790",
   "metadata": {},
   "outputs": [
    {
     "data": {
      "text/plain": [
       "14"
      ]
     },
     "execution_count": 425,
     "metadata": {},
     "output_type": "execute_result"
    }
   ],
   "source": [
    "# purpose feature will be converted to dummy variables\n",
    "df['purpose'].nunique()"
   ]
  },
  {
   "cell_type": "markdown",
   "id": "904ac6b1",
   "metadata": {},
   "source": [
    "#### earliest_cr_line' feature"
   ]
  },
  {
   "cell_type": "code",
   "execution_count": 426,
   "id": "2d9cc1ca",
   "metadata": {},
   "outputs": [
    {
     "name": "stdout",
     "output_type": "stream",
     "text": [
      "The month the borrower's earliest reported credit line was opened\n"
     ]
    }
   ],
   "source": [
    "feat_info('earliest_cr_line')"
   ]
  },
  {
   "cell_type": "code",
   "execution_count": 427,
   "id": "03ffc017",
   "metadata": {},
   "outputs": [
    {
     "data": {
      "text/plain": [
       "0         Jun-1990\n",
       "1         Jul-2004\n",
       "2         Aug-2007\n",
       "3         Sep-2006\n",
       "4         Mar-1999\n",
       "            ...   \n",
       "396025    Nov-2004\n",
       "396026    Feb-2006\n",
       "396027    Mar-1997\n",
       "396028    Nov-1990\n",
       "396029    Sep-1998\n",
       "Name: earliest_cr_line, Length: 396030, dtype: object"
      ]
     },
     "execution_count": 427,
     "metadata": {},
     "output_type": "execute_result"
    }
   ],
   "source": [
    "df['earliest_cr_line']"
   ]
  },
  {
   "cell_type": "markdown",
   "id": "27e68ce8",
   "metadata": {},
   "source": [
    "#### It appears the year part of this feature will be useful since its historical information about the borrower. Hence, we extract the year and convert same to integer and call the feature earliest_cr_line_year."
   ]
  },
  {
   "cell_type": "code",
   "execution_count": 428,
   "id": "7d48e737",
   "metadata": {},
   "outputs": [],
   "source": [
    "df['earliest_cr_year'] = df['earliest_cr_line'].apply(lambda date:int(date[-4:]))\n",
    "df = df.drop('earliest_cr_line',axis=1)"
   ]
  },
  {
   "cell_type": "markdown",
   "id": "9908dc62",
   "metadata": {},
   "source": [
    "#### initial_list_status feature"
   ]
  },
  {
   "cell_type": "code",
   "execution_count": 429,
   "id": "7128c676",
   "metadata": {},
   "outputs": [
    {
     "name": "stdout",
     "output_type": "stream",
     "text": [
      "The initial listing status of the loan. Possible values are – W, F\n"
     ]
    }
   ],
   "source": [
    "feat_info('initial_list_status')"
   ]
  },
  {
   "cell_type": "code",
   "execution_count": 430,
   "id": "da48ca88",
   "metadata": {},
   "outputs": [
    {
     "data": {
      "text/plain": [
       "2"
      ]
     },
     "execution_count": 430,
     "metadata": {},
     "output_type": "execute_result"
    }
   ],
   "source": [
    "df['initial_list_status'].nunique()"
   ]
  },
  {
   "cell_type": "markdown",
   "id": "2bda491a",
   "metadata": {},
   "source": [
    "#### Application type feature"
   ]
  },
  {
   "cell_type": "code",
   "execution_count": 431,
   "id": "fc272b10",
   "metadata": {},
   "outputs": [
    {
     "name": "stdout",
     "output_type": "stream",
     "text": [
      "Indicates whether the loan is an individual application or a joint application with two co-borrowers\n"
     ]
    }
   ],
   "source": [
    "feat_info('application_type')"
   ]
  },
  {
   "cell_type": "code",
   "execution_count": 432,
   "id": "7996886f",
   "metadata": {},
   "outputs": [
    {
     "data": {
      "text/plain": [
       "3"
      ]
     },
     "execution_count": 432,
     "metadata": {},
     "output_type": "execute_result"
    }
   ],
   "source": [
    "df['application_type'].nunique()"
   ]
  },
  {
   "cell_type": "markdown",
   "id": "fa908aa7",
   "metadata": {},
   "source": [
    "#### Address feautre"
   ]
  },
  {
   "cell_type": "code",
   "execution_count": 433,
   "id": "f3b7b06a",
   "metadata": {},
   "outputs": [
    {
     "data": {
      "text/plain": [
       "0            0174 Michelle Gateway\\r\\nMendozaberg, OK 22690\n",
       "1         1076 Carney Fort Apt. 347\\r\\nLoganmouth, SD 05113\n",
       "2         87025 Mark Dale Apt. 269\\r\\nNew Sabrina, WV 05113\n",
       "3                   823 Reid Ford\\r\\nDelacruzside, MA 00813\n",
       "4                    679 Luna Roads\\r\\nGreggshire, VA 11650\n",
       "                                ...                        \n",
       "396025     12951 Williams Crossing\\r\\nJohnnyville, DC 30723\n",
       "396026    0114 Fowler Field Suite 028\\r\\nRachelborough, ...\n",
       "396027    953 Matthew Points Suite 414\\r\\nReedfort, NY 7...\n",
       "396028    7843 Blake Freeway Apt. 229\\r\\nNew Michael, FL...\n",
       "396029        787 Michelle Causeway\\r\\nBriannaton, AR 48052\n",
       "Name: address, Length: 396030, dtype: object"
      ]
     },
     "execution_count": 433,
     "metadata": {},
     "output_type": "execute_result"
    }
   ],
   "source": [
    "df['address']"
   ]
  },
  {
   "cell_type": "markdown",
   "id": "4cb7db59",
   "metadata": {},
   "source": [
    "#### The addresses are observed to end with zip code which is expected to be important contributor to prediction of loan status, hence I will extract the zip code and discard other parts of the address. Thereafter, we explore the zip code, possible group them and/or convert to dummies"
   ]
  },
  {
   "cell_type": "code",
   "execution_count": 434,
   "id": "10a4396d",
   "metadata": {},
   "outputs": [],
   "source": [
    "df['zip_code'] = df['address'].apply(lambda address:address[-5:])"
   ]
  },
  {
   "cell_type": "code",
   "execution_count": 435,
   "id": "8fb78b1c",
   "metadata": {},
   "outputs": [
    {
     "data": {
      "text/plain": [
       "0         22690\n",
       "1         05113\n",
       "2         05113\n",
       "3         00813\n",
       "4         11650\n",
       "          ...  \n",
       "396025    30723\n",
       "396026    05113\n",
       "396027    70466\n",
       "396028    29597\n",
       "396029    48052\n",
       "Name: zip_code, Length: 396030, dtype: object"
      ]
     },
     "execution_count": 435,
     "metadata": {},
     "output_type": "execute_result"
    }
   ],
   "source": [
    "df['zip_code'] "
   ]
  },
  {
   "cell_type": "code",
   "execution_count": 436,
   "id": "3232025a",
   "metadata": {},
   "outputs": [],
   "source": [
    "df = df.drop('address',axis=1)"
   ]
  },
  {
   "cell_type": "code",
   "execution_count": 437,
   "id": "6f6fd5d6",
   "metadata": {},
   "outputs": [
    {
     "data": {
      "text/plain": [
       "10"
      ]
     },
     "execution_count": 437,
     "metadata": {},
     "output_type": "execute_result"
    }
   ],
   "source": [
    "#There are only 10 unique zip codes so I will convert to dummy variables\n",
    "df['zip_code'].nunique()"
   ]
  },
  {
   "cell_type": "markdown",
   "id": "d3cbb5f7",
   "metadata": {},
   "source": [
    "#### loan_status feature: loan status festure is no longer needed since the target feature loan_repaid has been created from it. Hence, we drop loan_status"
   ]
  },
  {
   "cell_type": "code",
   "execution_count": 438,
   "id": "99d9492e",
   "metadata": {},
   "outputs": [],
   "source": [
    "df = df.drop('loan_status', axis = 1)"
   ]
  },
  {
   "cell_type": "markdown",
   "id": "8cc066c6",
   "metadata": {},
   "source": [
    "#### A look at the categorical variables to be converted to dummies"
   ]
  },
  {
   "cell_type": "code",
   "execution_count": 439,
   "id": "76897f1b",
   "metadata": {},
   "outputs": [
    {
     "data": {
      "text/plain": [
       "Index(['sub_grade', 'home_ownership', 'verification_status', 'purpose',\n",
       "       'initial_list_status', 'application_type', 'zip_code'],\n",
       "      dtype='object')"
      ]
     },
     "execution_count": 439,
     "metadata": {},
     "output_type": "execute_result"
    }
   ],
   "source": [
    "df.select_dtypes(['object']).columns"
   ]
  },
  {
   "cell_type": "markdown",
   "id": "bc4a40f2",
   "metadata": {},
   "source": [
    "#### Out of the 12 categorical variables, 7 are eligible for conversion to dummy variables"
   ]
  },
  {
   "cell_type": "code",
   "execution_count": 440,
   "id": "5d36a4dc",
   "metadata": {},
   "outputs": [],
   "source": [
    "df = pd.get_dummies(df,drop_first=True)"
   ]
  },
  {
   "cell_type": "code",
   "execution_count": 441,
   "id": "900939fc",
   "metadata": {},
   "outputs": [
    {
     "data": {
      "text/plain": [
       "Index(['loan_amnt', 'term', 'int_rate', 'installment', 'annual_inc', 'dti',\n",
       "       'open_acc', 'pub_rec', 'revol_bal', 'revol_util', 'total_acc',\n",
       "       'mort_acc', 'pub_rec_bankruptcies', 'loan_repaid', 'earliest_cr_year',\n",
       "       'sub_grade_A2', 'sub_grade_A3', 'sub_grade_A4', 'sub_grade_A5',\n",
       "       'sub_grade_B1', 'sub_grade_B2', 'sub_grade_B3', 'sub_grade_B4',\n",
       "       'sub_grade_B5', 'sub_grade_C1', 'sub_grade_C2', 'sub_grade_C3',\n",
       "       'sub_grade_C4', 'sub_grade_C5', 'sub_grade_D1', 'sub_grade_D2',\n",
       "       'sub_grade_D3', 'sub_grade_D4', 'sub_grade_D5', 'sub_grade_E1',\n",
       "       'sub_grade_E2', 'sub_grade_E3', 'sub_grade_E4', 'sub_grade_E5',\n",
       "       'sub_grade_F1', 'sub_grade_F2', 'sub_grade_F3', 'sub_grade_F4',\n",
       "       'sub_grade_F5', 'sub_grade_G1', 'sub_grade_G2', 'sub_grade_G3',\n",
       "       'sub_grade_G4', 'sub_grade_G5', 'home_ownership_OTHER',\n",
       "       'home_ownership_OWN', 'home_ownership_RENT',\n",
       "       'verification_status_Source Verified', 'verification_status_Verified',\n",
       "       'purpose_credit_card', 'purpose_debt_consolidation',\n",
       "       'purpose_educational', 'purpose_home_improvement', 'purpose_house',\n",
       "       'purpose_major_purchase', 'purpose_medical', 'purpose_moving',\n",
       "       'purpose_other', 'purpose_renewable_energy', 'purpose_small_business',\n",
       "       'purpose_vacation', 'purpose_wedding', 'initial_list_status_w',\n",
       "       'application_type_INDIVIDUAL', 'application_type_JOINT',\n",
       "       'zip_code_05113', 'zip_code_11650', 'zip_code_22690', 'zip_code_29597',\n",
       "       'zip_code_30723', 'zip_code_48052', 'zip_code_70466', 'zip_code_86630',\n",
       "       'zip_code_93700'],\n",
       "      dtype='object')"
      ]
     },
     "execution_count": 441,
     "metadata": {},
     "output_type": "execute_result"
    }
   ],
   "source": [
    "df.columns"
   ]
  },
  {
   "cell_type": "code",
   "execution_count": 442,
   "id": "3467ad20",
   "metadata": {},
   "outputs": [],
   "source": [
    "# I will clean up the column to remove identified spaces that could cause error later. Fro example, 'verification_status_Source Verified'\n",
    "# will be changed to 'verification_status_Source_Verified'\n",
    "df.columns = ['loan_amnt', 'term', 'int_rate', 'installment', 'annual_inc', 'dti',\n",
    "       'open_acc', 'pub_rec', 'revol_bal', 'revol_util', 'total_acc',\n",
    "       'mort_acc', 'pub_rec_bankruptcies', 'loan_repaid', 'earliest_cr_year',\n",
    "       'sub_grade_A2', 'sub_grade_A3', 'sub_grade_A4', 'sub_grade_A5',\n",
    "       'sub_grade_B1', 'sub_grade_B2', 'sub_grade_B3', 'sub_grade_B4',\n",
    "       'sub_grade_B5', 'sub_grade_C1', 'sub_grade_C2', 'sub_grade_C3',\n",
    "       'sub_grade_C4', 'sub_grade_C5', 'sub_grade_D1', 'sub_grade_D2',\n",
    "       'sub_grade_D3', 'sub_grade_D4', 'sub_grade_D5', 'sub_grade_E1',\n",
    "       'sub_grade_E2', 'sub_grade_E3', 'sub_grade_E4', 'sub_grade_E5',\n",
    "       'sub_grade_F1', 'sub_grade_F2', 'sub_grade_F3', 'sub_grade_F4',\n",
    "       'sub_grade_F5', 'sub_grade_G1', 'sub_grade_G2', 'sub_grade_G3',\n",
    "       'sub_grade_G4', 'sub_grade_G5', 'home_ownership_OTHER',\n",
    "       'home_ownership_OWN', 'home_ownership_RENT',\n",
    "       'verification_status_Source_Verified', 'verification_status_income_Verified',\n",
    "       'purpose_credit_card', 'purpose_debt_consolidation',\n",
    "       'purpose_educational', 'purpose_home_improvement', 'purpose_house',\n",
    "       'purpose_major_purchase', 'purpose_medical', 'purpose_moving',\n",
    "       'purpose_other', 'purpose_renewable_energy', 'purpose_small_business',\n",
    "       'purpose_vacation', 'purpose_wedding', 'initial_list_status_w',\n",
    "       'application_type_INDIVIDUAL', 'application_type_JOINT',\n",
    "       'zip_code_05113', 'zip_code_11650', 'zip_code_22690', 'zip_code_29597',\n",
    "       'zip_code_30723', 'zip_code_48052', 'zip_code_70466', 'zip_code_86630',\n",
    "       'zip_code_93700']"
   ]
  },
  {
   "cell_type": "markdown",
   "id": "510379c5",
   "metadata": {},
   "source": [
    "## TRAIN TEST SPLIT"
   ]
  },
  {
   "cell_type": "code",
   "execution_count": 443,
   "id": "614fe962",
   "metadata": {},
   "outputs": [],
   "source": [
    "from sklearn.model_selection import train_test_split"
   ]
  },
  {
   "cell_type": "code",
   "execution_count": 444,
   "id": "202ea059",
   "metadata": {},
   "outputs": [],
   "source": [
    "X = df.drop('loan_repaid',axis=1)\n",
    "y = df['loan_repaid']"
   ]
  },
  {
   "cell_type": "code",
   "execution_count": 445,
   "id": "b74f0d43",
   "metadata": {},
   "outputs": [],
   "source": [
    "X_train, X_test, y_train, y_test = train_test_split(X, y, test_size=0.20, random_state=43)"
   ]
  },
  {
   "cell_type": "markdown",
   "id": "2732a52a",
   "metadata": {},
   "source": [
    "## NORMALIZATION"
   ]
  },
  {
   "cell_type": "code",
   "execution_count": 446,
   "id": "4fe95a7a",
   "metadata": {},
   "outputs": [
    {
     "data": {
      "text/html": [
       "<div>\n",
       "<style scoped>\n",
       "    .dataframe tbody tr th:only-of-type {\n",
       "        vertical-align: middle;\n",
       "    }\n",
       "\n",
       "    .dataframe tbody tr th {\n",
       "        vertical-align: top;\n",
       "    }\n",
       "\n",
       "    .dataframe thead th {\n",
       "        text-align: right;\n",
       "    }\n",
       "</style>\n",
       "<table border=\"1\" class=\"dataframe\">\n",
       "  <thead>\n",
       "    <tr style=\"text-align: right;\">\n",
       "      <th></th>\n",
       "      <th>loan_amnt</th>\n",
       "      <th>term</th>\n",
       "      <th>int_rate</th>\n",
       "      <th>installment</th>\n",
       "      <th>annual_inc</th>\n",
       "      <th>dti</th>\n",
       "      <th>open_acc</th>\n",
       "      <th>pub_rec</th>\n",
       "      <th>revol_bal</th>\n",
       "      <th>revol_util</th>\n",
       "      <th>...</th>\n",
       "      <th>application_type_JOINT</th>\n",
       "      <th>zip_code_05113</th>\n",
       "      <th>zip_code_11650</th>\n",
       "      <th>zip_code_22690</th>\n",
       "      <th>zip_code_29597</th>\n",
       "      <th>zip_code_30723</th>\n",
       "      <th>zip_code_48052</th>\n",
       "      <th>zip_code_70466</th>\n",
       "      <th>zip_code_86630</th>\n",
       "      <th>zip_code_93700</th>\n",
       "    </tr>\n",
       "  </thead>\n",
       "  <tbody>\n",
       "    <tr>\n",
       "      <th>0</th>\n",
       "      <td>-0.970418</td>\n",
       "      <td>-0.556827</td>\n",
       "      <td>0.593099</td>\n",
       "      <td>-0.877249</td>\n",
       "      <td>-0.655643</td>\n",
       "      <td>-0.292352</td>\n",
       "      <td>0.135573</td>\n",
       "      <td>-0.336056</td>\n",
       "      <td>-0.366320</td>\n",
       "      <td>-0.658416</td>\n",
       "      <td>...</td>\n",
       "      <td>-0.033017</td>\n",
       "      <td>-0.359275</td>\n",
       "      <td>-0.170196</td>\n",
       "      <td>-0.409334</td>\n",
       "      <td>-0.359230</td>\n",
       "      <td>2.449287</td>\n",
       "      <td>-0.406254</td>\n",
       "      <td>-0.409602</td>\n",
       "      <td>-0.168916</td>\n",
       "      <td>-0.169842</td>\n",
       "    </tr>\n",
       "    <tr>\n",
       "      <th>1</th>\n",
       "      <td>0.226157</td>\n",
       "      <td>-0.556827</td>\n",
       "      <td>-1.486681</td>\n",
       "      <td>0.247623</td>\n",
       "      <td>-0.201684</td>\n",
       "      <td>0.140970</td>\n",
       "      <td>0.525269</td>\n",
       "      <td>-0.336056</td>\n",
       "      <td>0.395744</td>\n",
       "      <td>-0.187486</td>\n",
       "      <td>...</td>\n",
       "      <td>-0.033017</td>\n",
       "      <td>2.783381</td>\n",
       "      <td>-0.170196</td>\n",
       "      <td>-0.409334</td>\n",
       "      <td>-0.359230</td>\n",
       "      <td>-0.408282</td>\n",
       "      <td>-0.406254</td>\n",
       "      <td>-0.409602</td>\n",
       "      <td>-0.168916</td>\n",
       "      <td>-0.169842</td>\n",
       "    </tr>\n",
       "    <tr>\n",
       "      <th>2</th>\n",
       "      <td>-0.491788</td>\n",
       "      <td>-0.556827</td>\n",
       "      <td>-0.288012</td>\n",
       "      <td>-0.390839</td>\n",
       "      <td>0.389443</td>\n",
       "      <td>0.140463</td>\n",
       "      <td>0.330421</td>\n",
       "      <td>1.553261</td>\n",
       "      <td>-0.586394</td>\n",
       "      <td>-1.080204</td>\n",
       "      <td>...</td>\n",
       "      <td>-0.033017</td>\n",
       "      <td>-0.359275</td>\n",
       "      <td>-0.170196</td>\n",
       "      <td>-0.409334</td>\n",
       "      <td>-0.359230</td>\n",
       "      <td>-0.408282</td>\n",
       "      <td>-0.406254</td>\n",
       "      <td>-0.409602</td>\n",
       "      <td>-0.168916</td>\n",
       "      <td>-0.169842</td>\n",
       "    </tr>\n",
       "    <tr>\n",
       "      <th>3</th>\n",
       "      <td>-0.731103</td>\n",
       "      <td>-0.556827</td>\n",
       "      <td>-0.648060</td>\n",
       "      <td>-0.681425</td>\n",
       "      <td>-0.720960</td>\n",
       "      <td>0.008692</td>\n",
       "      <td>0.525269</td>\n",
       "      <td>-0.336056</td>\n",
       "      <td>-0.177429</td>\n",
       "      <td>-0.666606</td>\n",
       "      <td>...</td>\n",
       "      <td>-0.033017</td>\n",
       "      <td>-0.359275</td>\n",
       "      <td>-0.170196</td>\n",
       "      <td>-0.409334</td>\n",
       "      <td>-0.359230</td>\n",
       "      <td>-0.408282</td>\n",
       "      <td>-0.406254</td>\n",
       "      <td>-0.409602</td>\n",
       "      <td>-0.168916</td>\n",
       "      <td>-0.169842</td>\n",
       "    </tr>\n",
       "    <tr>\n",
       "      <th>4</th>\n",
       "      <td>-0.970418</td>\n",
       "      <td>-0.556827</td>\n",
       "      <td>0.154780</td>\n",
       "      <td>-0.900292</td>\n",
       "      <td>-0.149429</td>\n",
       "      <td>-0.229001</td>\n",
       "      <td>-0.643819</td>\n",
       "      <td>-0.336056</td>\n",
       "      <td>-0.603513</td>\n",
       "      <td>-0.269387</td>\n",
       "      <td>...</td>\n",
       "      <td>-0.033017</td>\n",
       "      <td>-0.359275</td>\n",
       "      <td>-0.170196</td>\n",
       "      <td>-0.409334</td>\n",
       "      <td>2.783728</td>\n",
       "      <td>-0.408282</td>\n",
       "      <td>-0.406254</td>\n",
       "      <td>-0.409602</td>\n",
       "      <td>-0.168916</td>\n",
       "      <td>-0.169842</td>\n",
       "    </tr>\n",
       "  </tbody>\n",
       "</table>\n",
       "<p>5 rows × 78 columns</p>\n",
       "</div>"
      ],
      "text/plain": [
       "   loan_amnt      term  int_rate  installment  annual_inc       dti  open_acc  \\\n",
       "0  -0.970418 -0.556827  0.593099    -0.877249   -0.655643 -0.292352  0.135573   \n",
       "1   0.226157 -0.556827 -1.486681     0.247623   -0.201684  0.140970  0.525269   \n",
       "2  -0.491788 -0.556827 -0.288012    -0.390839    0.389443  0.140463  0.330421   \n",
       "3  -0.731103 -0.556827 -0.648060    -0.681425   -0.720960  0.008692  0.525269   \n",
       "4  -0.970418 -0.556827  0.154780    -0.900292   -0.149429 -0.229001 -0.643819   \n",
       "\n",
       "    pub_rec  revol_bal  revol_util  ...  application_type_JOINT  \\\n",
       "0 -0.336056  -0.366320   -0.658416  ...               -0.033017   \n",
       "1 -0.336056   0.395744   -0.187486  ...               -0.033017   \n",
       "2  1.553261  -0.586394   -1.080204  ...               -0.033017   \n",
       "3 -0.336056  -0.177429   -0.666606  ...               -0.033017   \n",
       "4 -0.336056  -0.603513   -0.269387  ...               -0.033017   \n",
       "\n",
       "   zip_code_05113  zip_code_11650  zip_code_22690  zip_code_29597  \\\n",
       "0       -0.359275       -0.170196       -0.409334       -0.359230   \n",
       "1        2.783381       -0.170196       -0.409334       -0.359230   \n",
       "2       -0.359275       -0.170196       -0.409334       -0.359230   \n",
       "3       -0.359275       -0.170196       -0.409334       -0.359230   \n",
       "4       -0.359275       -0.170196       -0.409334        2.783728   \n",
       "\n",
       "   zip_code_30723  zip_code_48052  zip_code_70466  zip_code_86630  \\\n",
       "0        2.449287       -0.406254       -0.409602       -0.168916   \n",
       "1       -0.408282       -0.406254       -0.409602       -0.168916   \n",
       "2       -0.408282       -0.406254       -0.409602       -0.168916   \n",
       "3       -0.408282       -0.406254       -0.409602       -0.168916   \n",
       "4       -0.408282       -0.406254       -0.409602       -0.168916   \n",
       "\n",
       "   zip_code_93700  \n",
       "0       -0.169842  \n",
       "1       -0.169842  \n",
       "2       -0.169842  \n",
       "3       -0.169842  \n",
       "4       -0.169842  \n",
       "\n",
       "[5 rows x 78 columns]"
      ]
     },
     "execution_count": 446,
     "metadata": {},
     "output_type": "execute_result"
    }
   ],
   "source": [
    "from sklearn.preprocessing import StandardScaler\n",
    "scaler = StandardScaler()\n",
    "X_trained_transformed = scaler.fit_transform(X_train)\n",
    "columns = X.columns\n",
    "X_trained_transformed = pd.DataFrame(X_trained_transformed, columns = columns)\n",
    "X_trained_transformed.head()"
   ]
  },
  {
   "cell_type": "code",
   "execution_count": 447,
   "id": "fa8ff375",
   "metadata": {},
   "outputs": [
    {
     "data": {
      "text/html": [
       "<div>\n",
       "<style scoped>\n",
       "    .dataframe tbody tr th:only-of-type {\n",
       "        vertical-align: middle;\n",
       "    }\n",
       "\n",
       "    .dataframe tbody tr th {\n",
       "        vertical-align: top;\n",
       "    }\n",
       "\n",
       "    .dataframe thead th {\n",
       "        text-align: right;\n",
       "    }\n",
       "</style>\n",
       "<table border=\"1\" class=\"dataframe\">\n",
       "  <thead>\n",
       "    <tr style=\"text-align: right;\">\n",
       "      <th></th>\n",
       "      <th>loan_amnt</th>\n",
       "      <th>term</th>\n",
       "      <th>int_rate</th>\n",
       "      <th>installment</th>\n",
       "      <th>annual_inc</th>\n",
       "      <th>dti</th>\n",
       "      <th>open_acc</th>\n",
       "      <th>pub_rec</th>\n",
       "      <th>revol_bal</th>\n",
       "      <th>revol_util</th>\n",
       "      <th>...</th>\n",
       "      <th>application_type_JOINT</th>\n",
       "      <th>zip_code_05113</th>\n",
       "      <th>zip_code_11650</th>\n",
       "      <th>zip_code_22690</th>\n",
       "      <th>zip_code_29597</th>\n",
       "      <th>zip_code_30723</th>\n",
       "      <th>zip_code_48052</th>\n",
       "      <th>zip_code_70466</th>\n",
       "      <th>zip_code_86630</th>\n",
       "      <th>zip_code_93700</th>\n",
       "    </tr>\n",
       "  </thead>\n",
       "  <tbody>\n",
       "    <tr>\n",
       "      <th>0</th>\n",
       "      <td>1.303074</td>\n",
       "      <td>-0.556827</td>\n",
       "      <td>-0.144887</td>\n",
       "      <td>1.636012</td>\n",
       "      <td>0.830338</td>\n",
       "      <td>-0.257889</td>\n",
       "      <td>-0.448971</td>\n",
       "      <td>-0.336056</td>\n",
       "      <td>-0.372527</td>\n",
       "      <td>0.631521</td>\n",
       "      <td>...</td>\n",
       "      <td>-0.033017</td>\n",
       "      <td>-0.359275</td>\n",
       "      <td>-0.170196</td>\n",
       "      <td>-0.409334</td>\n",
       "      <td>-0.35923</td>\n",
       "      <td>-0.408282</td>\n",
       "      <td>-0.406254</td>\n",
       "      <td>-0.409602</td>\n",
       "      <td>-0.168916</td>\n",
       "      <td>-0.169842</td>\n",
       "    </tr>\n",
       "    <tr>\n",
       "      <th>1</th>\n",
       "      <td>0.609061</td>\n",
       "      <td>-0.556827</td>\n",
       "      <td>-0.288012</td>\n",
       "      <td>0.833500</td>\n",
       "      <td>0.051423</td>\n",
       "      <td>0.634602</td>\n",
       "      <td>1.889205</td>\n",
       "      <td>-0.336056</td>\n",
       "      <td>0.097009</td>\n",
       "      <td>0.975504</td>\n",
       "      <td>...</td>\n",
       "      <td>-0.033017</td>\n",
       "      <td>-0.359275</td>\n",
       "      <td>-0.170196</td>\n",
       "      <td>-0.409334</td>\n",
       "      <td>-0.35923</td>\n",
       "      <td>-0.408282</td>\n",
       "      <td>-0.406254</td>\n",
       "      <td>2.441395</td>\n",
       "      <td>-0.168916</td>\n",
       "      <td>-0.169842</td>\n",
       "    </tr>\n",
       "    <tr>\n",
       "      <th>2</th>\n",
       "      <td>-0.372131</td>\n",
       "      <td>-0.556827</td>\n",
       "      <td>-1.345793</td>\n",
       "      <td>-0.355118</td>\n",
       "      <td>0.095513</td>\n",
       "      <td>-0.586808</td>\n",
       "      <td>-0.448971</td>\n",
       "      <td>-0.336056</td>\n",
       "      <td>-0.328251</td>\n",
       "      <td>-0.662511</td>\n",
       "      <td>...</td>\n",
       "      <td>-0.033017</td>\n",
       "      <td>-0.359275</td>\n",
       "      <td>-0.170196</td>\n",
       "      <td>-0.409334</td>\n",
       "      <td>-0.35923</td>\n",
       "      <td>-0.408282</td>\n",
       "      <td>-0.406254</td>\n",
       "      <td>2.441395</td>\n",
       "      <td>-0.168916</td>\n",
       "      <td>-0.169842</td>\n",
       "    </tr>\n",
       "    <tr>\n",
       "      <th>3</th>\n",
       "      <td>-0.904607</td>\n",
       "      <td>-0.556827</td>\n",
       "      <td>-1.283176</td>\n",
       "      <td>-0.904558</td>\n",
       "      <td>-0.802608</td>\n",
       "      <td>0.478504</td>\n",
       "      <td>-0.254123</td>\n",
       "      <td>-0.336056</td>\n",
       "      <td>-0.109534</td>\n",
       "      <td>0.950934</td>\n",
       "      <td>...</td>\n",
       "      <td>-0.033017</td>\n",
       "      <td>2.783381</td>\n",
       "      <td>-0.170196</td>\n",
       "      <td>-0.409334</td>\n",
       "      <td>-0.35923</td>\n",
       "      <td>-0.408282</td>\n",
       "      <td>-0.406254</td>\n",
       "      <td>-0.409602</td>\n",
       "      <td>-0.168916</td>\n",
       "      <td>-0.169842</td>\n",
       "    </tr>\n",
       "    <tr>\n",
       "      <th>4</th>\n",
       "      <td>-0.252473</td>\n",
       "      <td>-0.556827</td>\n",
       "      <td>0.302377</td>\n",
       "      <td>-0.063495</td>\n",
       "      <td>-0.476018</td>\n",
       "      <td>-0.337965</td>\n",
       "      <td>-0.643819</td>\n",
       "      <td>-0.336056</td>\n",
       "      <td>0.052878</td>\n",
       "      <td>0.205637</td>\n",
       "      <td>...</td>\n",
       "      <td>-0.033017</td>\n",
       "      <td>-0.359275</td>\n",
       "      <td>-0.170196</td>\n",
       "      <td>2.442994</td>\n",
       "      <td>-0.35923</td>\n",
       "      <td>-0.408282</td>\n",
       "      <td>-0.406254</td>\n",
       "      <td>-0.409602</td>\n",
       "      <td>-0.168916</td>\n",
       "      <td>-0.169842</td>\n",
       "    </tr>\n",
       "  </tbody>\n",
       "</table>\n",
       "<p>5 rows × 78 columns</p>\n",
       "</div>"
      ],
      "text/plain": [
       "   loan_amnt      term  int_rate  installment  annual_inc       dti  open_acc  \\\n",
       "0   1.303074 -0.556827 -0.144887     1.636012    0.830338 -0.257889 -0.448971   \n",
       "1   0.609061 -0.556827 -0.288012     0.833500    0.051423  0.634602  1.889205   \n",
       "2  -0.372131 -0.556827 -1.345793    -0.355118    0.095513 -0.586808 -0.448971   \n",
       "3  -0.904607 -0.556827 -1.283176    -0.904558   -0.802608  0.478504 -0.254123   \n",
       "4  -0.252473 -0.556827  0.302377    -0.063495   -0.476018 -0.337965 -0.643819   \n",
       "\n",
       "    pub_rec  revol_bal  revol_util  ...  application_type_JOINT  \\\n",
       "0 -0.336056  -0.372527    0.631521  ...               -0.033017   \n",
       "1 -0.336056   0.097009    0.975504  ...               -0.033017   \n",
       "2 -0.336056  -0.328251   -0.662511  ...               -0.033017   \n",
       "3 -0.336056  -0.109534    0.950934  ...               -0.033017   \n",
       "4 -0.336056   0.052878    0.205637  ...               -0.033017   \n",
       "\n",
       "   zip_code_05113  zip_code_11650  zip_code_22690  zip_code_29597  \\\n",
       "0       -0.359275       -0.170196       -0.409334        -0.35923   \n",
       "1       -0.359275       -0.170196       -0.409334        -0.35923   \n",
       "2       -0.359275       -0.170196       -0.409334        -0.35923   \n",
       "3        2.783381       -0.170196       -0.409334        -0.35923   \n",
       "4       -0.359275       -0.170196        2.442994        -0.35923   \n",
       "\n",
       "   zip_code_30723  zip_code_48052  zip_code_70466  zip_code_86630  \\\n",
       "0       -0.408282       -0.406254       -0.409602       -0.168916   \n",
       "1       -0.408282       -0.406254        2.441395       -0.168916   \n",
       "2       -0.408282       -0.406254        2.441395       -0.168916   \n",
       "3       -0.408282       -0.406254       -0.409602       -0.168916   \n",
       "4       -0.408282       -0.406254       -0.409602       -0.168916   \n",
       "\n",
       "   zip_code_93700  \n",
       "0       -0.169842  \n",
       "1       -0.169842  \n",
       "2       -0.169842  \n",
       "3       -0.169842  \n",
       "4       -0.169842  \n",
       "\n",
       "[5 rows x 78 columns]"
      ]
     },
     "execution_count": 447,
     "metadata": {},
     "output_type": "execute_result"
    }
   ],
   "source": [
    "# I will not fit the test set because absence of prior knowledge is assumed\n",
    "X_test_transformed = scaler.transform(X_test)\n",
    "X_test_transformed = pd.DataFrame(X_test_transformed, columns = columns)\n",
    "X_test_transformed.head()"
   ]
  },
  {
   "cell_type": "markdown",
   "id": "4cec2bdb",
   "metadata": {},
   "source": [
    "## MODEL TRAINING AND ASSESSMENT"
   ]
  },
  {
   "cell_type": "code",
   "execution_count": 448,
   "id": "8ce2b4ff",
   "metadata": {},
   "outputs": [],
   "source": [
    "from sklearn.linear_model import LogisticRegression"
   ]
  },
  {
   "cell_type": "code",
   "execution_count": 449,
   "id": "5c6f7e40",
   "metadata": {},
   "outputs": [],
   "source": [
    "logmodel = LogisticRegression(max_iter = 1000)"
   ]
  },
  {
   "cell_type": "code",
   "execution_count": 450,
   "id": "5cc0e64c",
   "metadata": {},
   "outputs": [
    {
     "data": {
      "text/plain": [
       "LogisticRegression(max_iter=1000)"
      ]
     },
     "execution_count": 450,
     "metadata": {},
     "output_type": "execute_result"
    }
   ],
   "source": [
    "logmodel.fit(X_trained_transformed,y_train)"
   ]
  },
  {
   "cell_type": "markdown",
   "id": "ca70356f",
   "metadata": {},
   "source": [
    "### Prediction and Assessment"
   ]
  },
  {
   "cell_type": "code",
   "execution_count": 451,
   "id": "46c5c210",
   "metadata": {},
   "outputs": [],
   "source": [
    "predictions = logmodel.predict(X_test_transformed)"
   ]
  },
  {
   "cell_type": "code",
   "execution_count": 452,
   "id": "9b060a36",
   "metadata": {},
   "outputs": [],
   "source": [
    "from sklearn.metrics import classification_report, confusion_matrix, accuracy_score"
   ]
  },
  {
   "cell_type": "code",
   "execution_count": 453,
   "id": "590fa2cd",
   "metadata": {},
   "outputs": [
    {
     "name": "stdout",
     "output_type": "stream",
     "text": [
      "              precision    recall  f1-score   support\n",
      "\n",
      "           0       0.95      0.47      0.62     15590\n",
      "           1       0.88      0.99      0.94     63616\n",
      "\n",
      "    accuracy                           0.89     79206\n",
      "   macro avg       0.92      0.73      0.78     79206\n",
      "weighted avg       0.90      0.89      0.87     79206\n",
      "\n"
     ]
    }
   ],
   "source": [
    "print(classification_report(y_test, predictions))"
   ]
  },
  {
   "cell_type": "code",
   "execution_count": 454,
   "id": "27458150",
   "metadata": {},
   "outputs": [
    {
     "data": {
      "text/plain": [
       "array([[ 7263,  8327],\n",
       "       [  399, 63217]], dtype=int64)"
      ]
     },
     "execution_count": 454,
     "metadata": {},
     "output_type": "execute_result"
    }
   ],
   "source": [
    "confusion_matrix(y_test, predictions)"
   ]
  },
  {
   "cell_type": "code",
   "execution_count": 455,
   "id": "f3b3d1d4",
   "metadata": {},
   "outputs": [
    {
     "data": {
      "text/plain": [
       "0.8898315784157765"
      ]
     },
     "execution_count": 455,
     "metadata": {},
     "output_type": "execute_result"
    }
   ],
   "source": [
    "accuracy_score(y_test, predictions)"
   ]
  },
  {
   "cell_type": "code",
   "execution_count": 456,
   "id": "806c8113",
   "metadata": {},
   "outputs": [
    {
     "data": {
      "image/png": "[encoded data removed]",
      "text/plain": [
       "<Figure size 432x288 with 1 Axes>"
      ]
     },
     "metadata": {
      "needs_background": "light"
     },
     "output_type": "display_data"
    }
   ],
   "source": [
    "from sklearn.metrics import roc_auc_score\n",
    "from sklearn.metrics import roc_curve\n",
    "logit_roc_auc = roc_auc_score(y_test, logmodel.predict(X_test_transformed))\n",
    "fpr, tpr, thresholds = roc_curve(y_test, logmodel.predict_proba(X_test_transformed)[:,1])\n",
    "plt.figure()\n",
    "plt.plot(fpr, tpr, label='Logistic Regression (area = %0.2f)' % logit_roc_auc)\n",
    "plt.plot([0, 1], [0, 1],'r--')\n",
    "plt.xlim([0.0, 1.0])\n",
    "plt.ylim([0.0, 1.05])\n",
    "plt.xlabel('False Positive Rate')\n",
    "plt.ylabel('True Positive Rate')\n",
    "plt.title('Receiver operating characteristic')\n",
    "plt.legend(loc=\"lower right\")\n",
    "plt.savefig('Log_ROC')\n",
    "plt.show()"
   ]
  },
  {
   "cell_type": "markdown",
   "id": "373069aa",
   "metadata": {},
   "source": [
    "## As seen above, the overall accuracy of the model which is 0.8898 however, the unbalanced nature of the data seems to negetively impact its ability to predict the rare class. Hence, I will try to imporve the model by oversampling the minority class. "
   ]
  },
  {
   "cell_type": "code",
   "execution_count": 457,
   "id": "ef5f178b",
   "metadata": {},
   "outputs": [
    {
     "data": {
      "text/html": [
       "<div>\n",
       "<style scoped>\n",
       "    .dataframe tbody tr th:only-of-type {\n",
       "        vertical-align: middle;\n",
       "    }\n",
       "\n",
       "    .dataframe tbody tr th {\n",
       "        vertical-align: top;\n",
       "    }\n",
       "\n",
       "    .dataframe thead th {\n",
       "        text-align: right;\n",
       "    }\n",
       "</style>\n",
       "<table border=\"1\" class=\"dataframe\">\n",
       "  <thead>\n",
       "    <tr style=\"text-align: right;\">\n",
       "      <th></th>\n",
       "      <th>loan_amnt</th>\n",
       "      <th>term</th>\n",
       "      <th>int_rate</th>\n",
       "      <th>installment</th>\n",
       "      <th>annual_inc</th>\n",
       "      <th>dti</th>\n",
       "      <th>open_acc</th>\n",
       "      <th>pub_rec</th>\n",
       "      <th>revol_bal</th>\n",
       "      <th>revol_util</th>\n",
       "      <th>...</th>\n",
       "      <th>application_type_JOINT</th>\n",
       "      <th>zip_code_05113</th>\n",
       "      <th>zip_code_11650</th>\n",
       "      <th>zip_code_22690</th>\n",
       "      <th>zip_code_29597</th>\n",
       "      <th>zip_code_30723</th>\n",
       "      <th>zip_code_48052</th>\n",
       "      <th>zip_code_70466</th>\n",
       "      <th>zip_code_86630</th>\n",
       "      <th>zip_code_93700</th>\n",
       "    </tr>\n",
       "  </thead>\n",
       "  <tbody>\n",
       "    <tr>\n",
       "      <th>0</th>\n",
       "      <td>10000.0</td>\n",
       "      <td>36</td>\n",
       "      <td>11.44</td>\n",
       "      <td>329.48</td>\n",
       "      <td>117000.0</td>\n",
       "      <td>26.24</td>\n",
       "      <td>16.0</td>\n",
       "      <td>0.0</td>\n",
       "      <td>36369.0</td>\n",
       "      <td>41.8</td>\n",
       "      <td>...</td>\n",
       "      <td>0</td>\n",
       "      <td>0</td>\n",
       "      <td>0</td>\n",
       "      <td>1</td>\n",
       "      <td>0</td>\n",
       "      <td>0</td>\n",
       "      <td>0</td>\n",
       "      <td>0</td>\n",
       "      <td>0</td>\n",
       "      <td>0</td>\n",
       "    </tr>\n",
       "    <tr>\n",
       "      <th>1</th>\n",
       "      <td>8000.0</td>\n",
       "      <td>36</td>\n",
       "      <td>11.99</td>\n",
       "      <td>265.68</td>\n",
       "      <td>65000.0</td>\n",
       "      <td>22.05</td>\n",
       "      <td>17.0</td>\n",
       "      <td>0.0</td>\n",
       "      <td>20131.0</td>\n",
       "      <td>53.3</td>\n",
       "      <td>...</td>\n",
       "      <td>0</td>\n",
       "      <td>1</td>\n",
       "      <td>0</td>\n",
       "      <td>0</td>\n",
       "      <td>0</td>\n",
       "      <td>0</td>\n",
       "      <td>0</td>\n",
       "      <td>0</td>\n",
       "      <td>0</td>\n",
       "      <td>0</td>\n",
       "    </tr>\n",
       "    <tr>\n",
       "      <th>2</th>\n",
       "      <td>15600.0</td>\n",
       "      <td>36</td>\n",
       "      <td>10.49</td>\n",
       "      <td>506.97</td>\n",
       "      <td>43057.0</td>\n",
       "      <td>12.79</td>\n",
       "      <td>13.0</td>\n",
       "      <td>0.0</td>\n",
       "      <td>11987.0</td>\n",
       "      <td>92.2</td>\n",
       "      <td>...</td>\n",
       "      <td>0</td>\n",
       "      <td>1</td>\n",
       "      <td>0</td>\n",
       "      <td>0</td>\n",
       "      <td>0</td>\n",
       "      <td>0</td>\n",
       "      <td>0</td>\n",
       "      <td>0</td>\n",
       "      <td>0</td>\n",
       "      <td>0</td>\n",
       "    </tr>\n",
       "    <tr>\n",
       "      <th>3</th>\n",
       "      <td>7200.0</td>\n",
       "      <td>36</td>\n",
       "      <td>6.49</td>\n",
       "      <td>220.65</td>\n",
       "      <td>54000.0</td>\n",
       "      <td>2.60</td>\n",
       "      <td>6.0</td>\n",
       "      <td>0.0</td>\n",
       "      <td>5472.0</td>\n",
       "      <td>21.5</td>\n",
       "      <td>...</td>\n",
       "      <td>0</td>\n",
       "      <td>0</td>\n",
       "      <td>0</td>\n",
       "      <td>0</td>\n",
       "      <td>0</td>\n",
       "      <td>0</td>\n",
       "      <td>0</td>\n",
       "      <td>0</td>\n",
       "      <td>0</td>\n",
       "      <td>0</td>\n",
       "    </tr>\n",
       "    <tr>\n",
       "      <th>4</th>\n",
       "      <td>24375.0</td>\n",
       "      <td>60</td>\n",
       "      <td>17.27</td>\n",
       "      <td>609.33</td>\n",
       "      <td>55000.0</td>\n",
       "      <td>33.95</td>\n",
       "      <td>13.0</td>\n",
       "      <td>0.0</td>\n",
       "      <td>24584.0</td>\n",
       "      <td>69.8</td>\n",
       "      <td>...</td>\n",
       "      <td>0</td>\n",
       "      <td>0</td>\n",
       "      <td>1</td>\n",
       "      <td>0</td>\n",
       "      <td>0</td>\n",
       "      <td>0</td>\n",
       "      <td>0</td>\n",
       "      <td>0</td>\n",
       "      <td>0</td>\n",
       "      <td>0</td>\n",
       "    </tr>\n",
       "  </tbody>\n",
       "</table>\n",
       "<p>5 rows × 79 columns</p>\n",
       "</div>"
      ],
      "text/plain": [
       "   loan_amnt  term  int_rate  installment  annual_inc    dti  open_acc  \\\n",
       "0    10000.0    36     11.44       329.48    117000.0  26.24      16.0   \n",
       "1     8000.0    36     11.99       265.68     65000.0  22.05      17.0   \n",
       "2    15600.0    36     10.49       506.97     43057.0  12.79      13.0   \n",
       "3     7200.0    36      6.49       220.65     54000.0   2.60       6.0   \n",
       "4    24375.0    60     17.27       609.33     55000.0  33.95      13.0   \n",
       "\n",
       "   pub_rec  revol_bal  revol_util  ...  application_type_JOINT  \\\n",
       "0      0.0    36369.0        41.8  ...                       0   \n",
       "1      0.0    20131.0        53.3  ...                       0   \n",
       "2      0.0    11987.0        92.2  ...                       0   \n",
       "3      0.0     5472.0        21.5  ...                       0   \n",
       "4      0.0    24584.0        69.8  ...                       0   \n",
       "\n",
       "   zip_code_05113  zip_code_11650  zip_code_22690  zip_code_29597  \\\n",
       "0               0               0               1               0   \n",
       "1               1               0               0               0   \n",
       "2               1               0               0               0   \n",
       "3               0               0               0               0   \n",
       "4               0               1               0               0   \n",
       "\n",
       "   zip_code_30723  zip_code_48052  zip_code_70466  zip_code_86630  \\\n",
       "0               0               0               0               0   \n",
       "1               0               0               0               0   \n",
       "2               0               0               0               0   \n",
       "3               0               0               0               0   \n",
       "4               0               0               0               0   \n",
       "\n",
       "   zip_code_93700  \n",
       "0               0  \n",
       "1               0  \n",
       "2               0  \n",
       "3               0  \n",
       "4               0  \n",
       "\n",
       "[5 rows x 79 columns]"
      ]
     },
     "execution_count": 457,
     "metadata": {},
     "output_type": "execute_result"
    }
   ],
   "source": [
    "df.head()"
   ]
  },
  {
   "cell_type": "code",
   "execution_count": 458,
   "id": "a06bee90",
   "metadata": {},
   "outputs": [],
   "source": [
    "#I define the dependent and independent variables\n",
    "X = df.drop(['loan_repaid'],axis = 1)\n",
    "y = df['loan_repaid']"
   ]
  },
  {
   "cell_type": "code",
   "execution_count": 459,
   "id": "f866d669",
   "metadata": {},
   "outputs": [],
   "source": [
    "#oversampling using the imbalanced-learn python library\n",
    "from imblearn.over_sampling import RandomOverSampler\n",
    "oversample = RandomOverSampler(sampling_strategy=1)\n",
    "X_over, y_over = oversample.fit_resample(X, y)"
   ]
  },
  {
   "cell_type": "code",
   "execution_count": 460,
   "id": "a8f3d9d0",
   "metadata": {},
   "outputs": [],
   "source": [
    "#re-merge\n",
    "df_over = pd.concat([X_over,y_over],axis=1)"
   ]
  },
  {
   "cell_type": "code",
   "execution_count": 461,
   "id": "802e3603",
   "metadata": {},
   "outputs": [
    {
     "data": {
      "text/plain": [
       "<AxesSubplot: xlabel='loan_repaid', ylabel='count'>"
      ]
     },
     "execution_count": 461,
     "metadata": {},
     "output_type": "execute_result"
    },
    {
     "data": {
      "image/png": "[encoded data removed]",
      "text/plain": [
       "<Figure size 432x288 with 1 Axes>"
      ]
     },
     "metadata": {
      "needs_background": "light"
     },
     "output_type": "display_data"
    }
   ],
   "source": [
    "#classes now balanced\n",
    "sns.countplot(x='loan_repaid',data=df_over)"
   ]
  },
  {
   "cell_type": "code",
   "execution_count": 462,
   "id": "4a4917f1",
   "metadata": {},
   "outputs": [],
   "source": [
    "X_train, X_test, y_train, y_test = train_test_split(X_over, y_over, test_size=0.3, random_state = 43)"
   ]
  },
  {
   "cell_type": "code",
   "execution_count": 463,
   "id": "2e342a19",
   "metadata": {},
   "outputs": [
    {
     "data": {
      "text/html": [
       "<div>\n",
       "<style scoped>\n",
       "    .dataframe tbody tr th:only-of-type {\n",
       "        vertical-align: middle;\n",
       "    }\n",
       "\n",
       "    .dataframe tbody tr th {\n",
       "        vertical-align: top;\n",
       "    }\n",
       "\n",
       "    .dataframe thead th {\n",
       "        text-align: right;\n",
       "    }\n",
       "</style>\n",
       "<table border=\"1\" class=\"dataframe\">\n",
       "  <thead>\n",
       "    <tr style=\"text-align: right;\">\n",
       "      <th></th>\n",
       "      <th>loan_amnt</th>\n",
       "      <th>term</th>\n",
       "      <th>int_rate</th>\n",
       "      <th>installment</th>\n",
       "      <th>annual_inc</th>\n",
       "      <th>dti</th>\n",
       "      <th>open_acc</th>\n",
       "      <th>pub_rec</th>\n",
       "      <th>revol_bal</th>\n",
       "      <th>revol_util</th>\n",
       "      <th>...</th>\n",
       "      <th>application_type_JOINT</th>\n",
       "      <th>zip_code_05113</th>\n",
       "      <th>zip_code_11650</th>\n",
       "      <th>zip_code_22690</th>\n",
       "      <th>zip_code_29597</th>\n",
       "      <th>zip_code_30723</th>\n",
       "      <th>zip_code_48052</th>\n",
       "      <th>zip_code_70466</th>\n",
       "      <th>zip_code_86630</th>\n",
       "      <th>zip_code_93700</th>\n",
       "    </tr>\n",
       "  </thead>\n",
       "  <tbody>\n",
       "    <tr>\n",
       "      <th>0</th>\n",
       "      <td>-0.978662</td>\n",
       "      <td>-0.644898</td>\n",
       "      <td>-1.502976</td>\n",
       "      <td>-0.979234</td>\n",
       "      <td>-0.589367</td>\n",
       "      <td>-0.280216</td>\n",
       "      <td>0.304516</td>\n",
       "      <td>-0.324861</td>\n",
       "      <td>-0.551905</td>\n",
       "      <td>-1.426879</td>\n",
       "      <td>...</td>\n",
       "      <td>-0.031184</td>\n",
       "      <td>-0.277539</td>\n",
       "      <td>-0.278915</td>\n",
       "      <td>-0.407387</td>\n",
       "      <td>3.612990</td>\n",
       "      <td>-0.407521</td>\n",
       "      <td>-0.406937</td>\n",
       "      <td>-0.40969</td>\n",
       "      <td>-0.276205</td>\n",
       "      <td>-0.278518</td>\n",
       "    </tr>\n",
       "    <tr>\n",
       "      <th>1</th>\n",
       "      <td>2.434219</td>\n",
       "      <td>1.550634</td>\n",
       "      <td>0.673928</td>\n",
       "      <td>1.762728</td>\n",
       "      <td>0.825111</td>\n",
       "      <td>-0.551283</td>\n",
       "      <td>-0.273357</td>\n",
       "      <td>4.916599</td>\n",
       "      <td>-0.778706</td>\n",
       "      <td>-2.246619</td>\n",
       "      <td>...</td>\n",
       "      <td>-0.031184</td>\n",
       "      <td>-0.277539</td>\n",
       "      <td>-0.278915</td>\n",
       "      <td>-0.407387</td>\n",
       "      <td>-0.276779</td>\n",
       "      <td>2.453859</td>\n",
       "      <td>-0.406937</td>\n",
       "      <td>-0.40969</td>\n",
       "      <td>-0.276205</td>\n",
       "      <td>-0.278518</td>\n",
       "    </tr>\n",
       "    <tr>\n",
       "      <th>2</th>\n",
       "      <td>-0.533504</td>\n",
       "      <td>-0.644898</td>\n",
       "      <td>0.245111</td>\n",
       "      <td>-0.359999</td>\n",
       "      <td>-0.802391</td>\n",
       "      <td>-0.389347</td>\n",
       "      <td>-1.621727</td>\n",
       "      <td>-0.324861</td>\n",
       "      <td>-0.529923</td>\n",
       "      <td>1.715457</td>\n",
       "      <td>...</td>\n",
       "      <td>-0.031184</td>\n",
       "      <td>-0.277539</td>\n",
       "      <td>-0.278915</td>\n",
       "      <td>-0.407387</td>\n",
       "      <td>-0.276779</td>\n",
       "      <td>2.453859</td>\n",
       "      <td>-0.406937</td>\n",
       "      <td>-0.40969</td>\n",
       "      <td>-0.276205</td>\n",
       "      <td>-0.278518</td>\n",
       "    </tr>\n",
       "    <tr>\n",
       "      <th>3</th>\n",
       "      <td>-0.296086</td>\n",
       "      <td>-0.644898</td>\n",
       "      <td>-0.034933</td>\n",
       "      <td>-0.110490</td>\n",
       "      <td>0.910320</td>\n",
       "      <td>-0.246772</td>\n",
       "      <td>0.111891</td>\n",
       "      <td>-0.324861</td>\n",
       "      <td>0.559063</td>\n",
       "      <td>0.957818</td>\n",
       "      <td>...</td>\n",
       "      <td>-0.031184</td>\n",
       "      <td>-0.277539</td>\n",
       "      <td>-0.278915</td>\n",
       "      <td>-0.407387</td>\n",
       "      <td>-0.276779</td>\n",
       "      <td>-0.407521</td>\n",
       "      <td>-0.406937</td>\n",
       "      <td>-0.40969</td>\n",
       "      <td>-0.276205</td>\n",
       "      <td>-0.278518</td>\n",
       "    </tr>\n",
       "    <tr>\n",
       "      <th>4</th>\n",
       "      <td>0.653585</td>\n",
       "      <td>1.550634</td>\n",
       "      <td>-0.393739</td>\n",
       "      <td>0.048787</td>\n",
       "      <td>-0.324570</td>\n",
       "      <td>0.185790</td>\n",
       "      <td>0.111891</td>\n",
       "      <td>-0.324861</td>\n",
       "      <td>0.648047</td>\n",
       "      <td>-0.482936</td>\n",
       "      <td>...</td>\n",
       "      <td>-0.031184</td>\n",
       "      <td>-0.277539</td>\n",
       "      <td>-0.278915</td>\n",
       "      <td>-0.407387</td>\n",
       "      <td>-0.276779</td>\n",
       "      <td>-0.407521</td>\n",
       "      <td>-0.406937</td>\n",
       "      <td>-0.40969</td>\n",
       "      <td>-0.276205</td>\n",
       "      <td>3.590431</td>\n",
       "    </tr>\n",
       "  </tbody>\n",
       "</table>\n",
       "<p>5 rows × 78 columns</p>\n",
       "</div>"
      ],
      "text/plain": [
       "   loan_amnt      term  int_rate  installment  annual_inc       dti  open_acc  \\\n",
       "0  -0.978662 -0.644898 -1.502976    -0.979234   -0.589367 -0.280216  0.304516   \n",
       "1   2.434219  1.550634  0.673928     1.762728    0.825111 -0.551283 -0.273357   \n",
       "2  -0.533504 -0.644898  0.245111    -0.359999   -0.802391 -0.389347 -1.621727   \n",
       "3  -0.296086 -0.644898 -0.034933    -0.110490    0.910320 -0.246772  0.111891   \n",
       "4   0.653585  1.550634 -0.393739     0.048787   -0.324570  0.185790  0.111891   \n",
       "\n",
       "    pub_rec  revol_bal  revol_util  ...  application_type_JOINT  \\\n",
       "0 -0.324861  -0.551905   -1.426879  ...               -0.031184   \n",
       "1  4.916599  -0.778706   -2.246619  ...               -0.031184   \n",
       "2 -0.324861  -0.529923    1.715457  ...               -0.031184   \n",
       "3 -0.324861   0.559063    0.957818  ...               -0.031184   \n",
       "4 -0.324861   0.648047   -0.482936  ...               -0.031184   \n",
       "\n",
       "   zip_code_05113  zip_code_11650  zip_code_22690  zip_code_29597  \\\n",
       "0       -0.277539       -0.278915       -0.407387        3.612990   \n",
       "1       -0.277539       -0.278915       -0.407387       -0.276779   \n",
       "2       -0.277539       -0.278915       -0.407387       -0.276779   \n",
       "3       -0.277539       -0.278915       -0.407387       -0.276779   \n",
       "4       -0.277539       -0.278915       -0.407387       -0.276779   \n",
       "\n",
       "   zip_code_30723  zip_code_48052  zip_code_70466  zip_code_86630  \\\n",
       "0       -0.407521       -0.406937        -0.40969       -0.276205   \n",
       "1        2.453859       -0.406937        -0.40969       -0.276205   \n",
       "2        2.453859       -0.406937        -0.40969       -0.276205   \n",
       "3       -0.407521       -0.406937        -0.40969       -0.276205   \n",
       "4       -0.407521       -0.406937        -0.40969       -0.276205   \n",
       "\n",
       "   zip_code_93700  \n",
       "0       -0.278518  \n",
       "1       -0.278518  \n",
       "2       -0.278518  \n",
       "3       -0.278518  \n",
       "4        3.590431  \n",
       "\n",
       "[5 rows x 78 columns]"
      ]
     },
     "execution_count": 463,
     "metadata": {},
     "output_type": "execute_result"
    }
   ],
   "source": [
    "from sklearn.preprocessing import StandardScaler\n",
    "columns = X_over.columns\n",
    "scaler = StandardScaler()\n",
    "X_train_transformed = scaler.fit_transform(X_train)\n",
    "X_train_transformed = pd.DataFrame(X_train_transformed, columns = columns)\n",
    "X_train_transformed.head()"
   ]
  },
  {
   "cell_type": "code",
   "execution_count": 464,
   "id": "8fa8c05c",
   "metadata": {},
   "outputs": [
    {
     "data": {
      "text/html": [
       "<div>\n",
       "<style scoped>\n",
       "    .dataframe tbody tr th:only-of-type {\n",
       "        vertical-align: middle;\n",
       "    }\n",
       "\n",
       "    .dataframe tbody tr th {\n",
       "        vertical-align: top;\n",
       "    }\n",
       "\n",
       "    .dataframe thead th {\n",
       "        text-align: right;\n",
       "    }\n",
       "</style>\n",
       "<table border=\"1\" class=\"dataframe\">\n",
       "  <thead>\n",
       "    <tr style=\"text-align: right;\">\n",
       "      <th></th>\n",
       "      <th>loan_amnt</th>\n",
       "      <th>term</th>\n",
       "      <th>int_rate</th>\n",
       "      <th>installment</th>\n",
       "      <th>annual_inc</th>\n",
       "      <th>dti</th>\n",
       "      <th>open_acc</th>\n",
       "      <th>pub_rec</th>\n",
       "      <th>revol_bal</th>\n",
       "      <th>revol_util</th>\n",
       "      <th>...</th>\n",
       "      <th>application_type_JOINT</th>\n",
       "      <th>zip_code_05113</th>\n",
       "      <th>zip_code_11650</th>\n",
       "      <th>zip_code_22690</th>\n",
       "      <th>zip_code_29597</th>\n",
       "      <th>zip_code_30723</th>\n",
       "      <th>zip_code_48052</th>\n",
       "      <th>zip_code_70466</th>\n",
       "      <th>zip_code_86630</th>\n",
       "      <th>zip_code_93700</th>\n",
       "    </tr>\n",
       "  </thead>\n",
       "  <tbody>\n",
       "    <tr>\n",
       "      <th>0</th>\n",
       "      <td>-1.008339</td>\n",
       "      <td>-0.644898</td>\n",
       "      <td>-0.658468</td>\n",
       "      <td>-0.967001</td>\n",
       "      <td>-0.623792</td>\n",
       "      <td>-0.730380</td>\n",
       "      <td>-0.851230</td>\n",
       "      <td>-0.324861</td>\n",
       "      <td>-0.690877</td>\n",
       "      <td>-2.043754</td>\n",
       "      <td>...</td>\n",
       "      <td>-0.031184</td>\n",
       "      <td>-0.277539</td>\n",
       "      <td>-0.278915</td>\n",
       "      <td>-0.407387</td>\n",
       "      <td>-0.276779</td>\n",
       "      <td>2.453859</td>\n",
       "      <td>-0.406937</td>\n",
       "      <td>-0.409690</td>\n",
       "      <td>-0.276205</td>\n",
       "      <td>-0.278518</td>\n",
       "    </tr>\n",
       "    <tr>\n",
       "      <th>1</th>\n",
       "      <td>1.365838</td>\n",
       "      <td>1.550634</td>\n",
       "      <td>1.249331</td>\n",
       "      <td>1.007644</td>\n",
       "      <td>-0.112194</td>\n",
       "      <td>0.236395</td>\n",
       "      <td>-0.658606</td>\n",
       "      <td>1.422293</td>\n",
       "      <td>-0.401391</td>\n",
       "      <td>1.897621</td>\n",
       "      <td>...</td>\n",
       "      <td>-0.031184</td>\n",
       "      <td>-0.277539</td>\n",
       "      <td>-0.278915</td>\n",
       "      <td>-0.407387</td>\n",
       "      <td>-0.276779</td>\n",
       "      <td>-0.407521</td>\n",
       "      <td>-0.406937</td>\n",
       "      <td>-0.409690</td>\n",
       "      <td>3.620493</td>\n",
       "      <td>-0.278518</td>\n",
       "    </tr>\n",
       "    <tr>\n",
       "      <th>2</th>\n",
       "      <td>-1.055823</td>\n",
       "      <td>-0.644898</td>\n",
       "      <td>0.459520</td>\n",
       "      <td>-0.964202</td>\n",
       "      <td>-0.887600</td>\n",
       "      <td>-0.251613</td>\n",
       "      <td>-1.814351</td>\n",
       "      <td>-0.324861</td>\n",
       "      <td>-0.727213</td>\n",
       "      <td>-0.300772</td>\n",
       "      <td>...</td>\n",
       "      <td>-0.031184</td>\n",
       "      <td>-0.277539</td>\n",
       "      <td>-0.278915</td>\n",
       "      <td>-0.407387</td>\n",
       "      <td>3.612990</td>\n",
       "      <td>-0.407521</td>\n",
       "      <td>-0.406937</td>\n",
       "      <td>-0.409690</td>\n",
       "      <td>-0.276205</td>\n",
       "      <td>-0.278518</td>\n",
       "    </tr>\n",
       "    <tr>\n",
       "      <th>3</th>\n",
       "      <td>1.128421</td>\n",
       "      <td>-0.644898</td>\n",
       "      <td>-1.222932</td>\n",
       "      <td>1.288856</td>\n",
       "      <td>0.550787</td>\n",
       "      <td>-0.360744</td>\n",
       "      <td>-1.236479</td>\n",
       "      <td>-0.324861</td>\n",
       "      <td>1.112740</td>\n",
       "      <td>0.162919</td>\n",
       "      <td>...</td>\n",
       "      <td>-0.031184</td>\n",
       "      <td>-0.277539</td>\n",
       "      <td>-0.278915</td>\n",
       "      <td>-0.407387</td>\n",
       "      <td>-0.276779</td>\n",
       "      <td>-0.407521</td>\n",
       "      <td>2.457381</td>\n",
       "      <td>-0.409690</td>\n",
       "      <td>-0.276205</td>\n",
       "      <td>-0.278518</td>\n",
       "    </tr>\n",
       "    <tr>\n",
       "      <th>4</th>\n",
       "      <td>0.653585</td>\n",
       "      <td>-0.644898</td>\n",
       "      <td>-1.658313</td>\n",
       "      <td>0.707721</td>\n",
       "      <td>1.251158</td>\n",
       "      <td>-0.360744</td>\n",
       "      <td>0.882388</td>\n",
       "      <td>-0.324861</td>\n",
       "      <td>0.030379</td>\n",
       "      <td>-1.257135</td>\n",
       "      <td>...</td>\n",
       "      <td>-0.031184</td>\n",
       "      <td>-0.277539</td>\n",
       "      <td>-0.278915</td>\n",
       "      <td>-0.407387</td>\n",
       "      <td>-0.276779</td>\n",
       "      <td>-0.407521</td>\n",
       "      <td>-0.406937</td>\n",
       "      <td>2.440871</td>\n",
       "      <td>-0.276205</td>\n",
       "      <td>-0.278518</td>\n",
       "    </tr>\n",
       "  </tbody>\n",
       "</table>\n",
       "<p>5 rows × 78 columns</p>\n",
       "</div>"
      ],
      "text/plain": [
       "   loan_amnt      term  int_rate  installment  annual_inc       dti  open_acc  \\\n",
       "0  -1.008339 -0.644898 -0.658468    -0.967001   -0.623792 -0.730380 -0.851230   \n",
       "1   1.365838  1.550634  1.249331     1.007644   -0.112194  0.236395 -0.658606   \n",
       "2  -1.055823 -0.644898  0.459520    -0.964202   -0.887600 -0.251613 -1.814351   \n",
       "3   1.128421 -0.644898 -1.222932     1.288856    0.550787 -0.360744 -1.236479   \n",
       "4   0.653585 -0.644898 -1.658313     0.707721    1.251158 -0.360744  0.882388   \n",
       "\n",
       "    pub_rec  revol_bal  revol_util  ...  application_type_JOINT  \\\n",
       "0 -0.324861  -0.690877   -2.043754  ...               -0.031184   \n",
       "1  1.422293  -0.401391    1.897621  ...               -0.031184   \n",
       "2 -0.324861  -0.727213   -0.300772  ...               -0.031184   \n",
       "3 -0.324861   1.112740    0.162919  ...               -0.031184   \n",
       "4 -0.324861   0.030379   -1.257135  ...               -0.031184   \n",
       "\n",
       "   zip_code_05113  zip_code_11650  zip_code_22690  zip_code_29597  \\\n",
       "0       -0.277539       -0.278915       -0.407387       -0.276779   \n",
       "1       -0.277539       -0.278915       -0.407387       -0.276779   \n",
       "2       -0.277539       -0.278915       -0.407387        3.612990   \n",
       "3       -0.277539       -0.278915       -0.407387       -0.276779   \n",
       "4       -0.277539       -0.278915       -0.407387       -0.276779   \n",
       "\n",
       "   zip_code_30723  zip_code_48052  zip_code_70466  zip_code_86630  \\\n",
       "0        2.453859       -0.406937       -0.409690       -0.276205   \n",
       "1       -0.407521       -0.406937       -0.409690        3.620493   \n",
       "2       -0.407521       -0.406937       -0.409690       -0.276205   \n",
       "3       -0.407521        2.457381       -0.409690       -0.276205   \n",
       "4       -0.407521       -0.406937        2.440871       -0.276205   \n",
       "\n",
       "   zip_code_93700  \n",
       "0       -0.278518  \n",
       "1       -0.278518  \n",
       "2       -0.278518  \n",
       "3       -0.278518  \n",
       "4       -0.278518  \n",
       "\n",
       "[5 rows x 78 columns]"
      ]
     },
     "execution_count": 464,
     "metadata": {},
     "output_type": "execute_result"
    }
   ],
   "source": [
    "X_test_transformed = scaler.transform(X_test)\n",
    "X_test_transformed = pd.DataFrame(X_test_transformed, columns = columns)\n",
    "X_test_transformed.head()"
   ]
  },
  {
   "cell_type": "code",
   "execution_count": 465,
   "id": "f993d664",
   "metadata": {},
   "outputs": [],
   "source": [
    "logmodel = LogisticRegression(max_iter = 5000)"
   ]
  },
  {
   "cell_type": "code",
   "execution_count": 466,
   "id": "11252f4a",
   "metadata": {},
   "outputs": [
    {
     "data": {
      "text/plain": [
       "LogisticRegression(max_iter=5000)"
      ]
     },
     "execution_count": 466,
     "metadata": {},
     "output_type": "execute_result"
    }
   ],
   "source": [
    "logmodel.fit(X_train_transformed,y_train)"
   ]
  },
  {
   "cell_type": "code",
   "execution_count": 467,
   "id": "4a684ffb",
   "metadata": {},
   "outputs": [],
   "source": [
    "predictions = logmodel.predict(X_test_transformed)"
   ]
  },
  {
   "cell_type": "code",
   "execution_count": 468,
   "id": "37ba9225",
   "metadata": {},
   "outputs": [
    {
     "name": "stdout",
     "output_type": "stream",
     "text": [
      "              precision    recall  f1-score   support\n",
      "\n",
      "           0       0.80      0.81      0.81     95463\n",
      "           1       0.81      0.80      0.80     95552\n",
      "\n",
      "    accuracy                           0.80    191015\n",
      "   macro avg       0.80      0.80      0.80    191015\n",
      "weighted avg       0.81      0.80      0.80    191015\n",
      "\n"
     ]
    }
   ],
   "source": [
    "print(classification_report(y_test, predictions))"
   ]
  },
  {
   "cell_type": "code",
   "execution_count": 469,
   "id": "734335c8",
   "metadata": {},
   "outputs": [
    {
     "data": {
      "text/plain": [
       "array([[77689, 17774],\n",
       "       [19493, 76059]], dtype=int64)"
      ]
     },
     "execution_count": 469,
     "metadata": {},
     "output_type": "execute_result"
    }
   ],
   "source": [
    "confusion_matrix(y_test, predictions)"
   ]
  },
  {
   "cell_type": "code",
   "execution_count": 470,
   "id": "9510a137",
   "metadata": {},
   "outputs": [
    {
     "data": {
      "text/plain": [
       "0.8049001387325603"
      ]
     },
     "execution_count": 470,
     "metadata": {},
     "output_type": "execute_result"
    }
   ],
   "source": [
    "accuracy_score(y_test, predictions)"
   ]
  },
  {
   "cell_type": "code",
   "execution_count": 471,
   "id": "d46652f9",
   "metadata": {},
   "outputs": [
    {
     "data": {
      "image/png": "[encoded data removed]",
      "text/plain": [
       "<Figure size 432x288 with 1 Axes>"
      ]
     },
     "metadata": {
      "needs_background": "light"
     },
     "output_type": "display_data"
    }
   ],
   "source": [
    "from sklearn.metrics import roc_auc_score\n",
    "from sklearn.metrics import roc_curve\n",
    "logit_roc_auc = roc_auc_score(y_test, logmodel.predict(X_test_transformed))\n",
    "fpr, tpr, thresholds = roc_curve(y_test, logmodel.predict_proba(X_test_transformed)[:,1])\n",
    "plt.figure()\n",
    "plt.plot(fpr, tpr, label='Logistic Regression (area = %0.2f)' % logit_roc_auc)\n",
    "plt.plot([0, 1], [0, 1],'r--')\n",
    "plt.xlim([0.0, 1.0])\n",
    "plt.ylim([0.0, 1.05])\n",
    "plt.xlabel('False Positive Rate')\n",
    "plt.ylabel('True Positive Rate')\n",
    "plt.title('Receiver operating characteristic')\n",
    "plt.legend(loc=\"lower right\")\n",
    "plt.savefig('Log_ROC')\n",
    "plt.show()"
   ]
  },
  {
   "cell_type": "markdown",
   "id": "fd7c6537",
   "metadata": {},
   "source": [
    "### As seen above, I have successfully improved the performance of the model significantly by oversampling. Accuracy, precisionand recall are not all within the value of 80%, indicating a very balanced model"
   ]
  },
  {
   "cell_type": "markdown",
   "id": "5707e688",
   "metadata": {},
   "source": [
    "## PREDICT A SINGLE CLASS"
   ]
  },
  {
   "cell_type": "code",
   "execution_count": 472,
   "id": "665b96c9",
   "metadata": {},
   "outputs": [
    {
     "data": {
      "text/plain": [
       "396029    1\n",
       "Name: loan_repaid, dtype: int64"
      ]
     },
     "execution_count": 472,
     "metadata": {},
     "output_type": "execute_result"
    }
   ],
   "source": [
    "df.tail(1)['loan_repaid']"
   ]
  },
  {
   "cell_type": "code",
   "execution_count": 473,
   "id": "744ec18c",
   "metadata": {},
   "outputs": [],
   "source": [
    "df_pred = df.tail(1).drop('loan_repaid', axis=1)"
   ]
  },
  {
   "cell_type": "code",
   "execution_count": 474,
   "id": "de89ec3f",
   "metadata": {},
   "outputs": [
    {
     "data": {
      "text/html": [
       "<div>\n",
       "<style scoped>\n",
       "    .dataframe tbody tr th:only-of-type {\n",
       "        vertical-align: middle;\n",
       "    }\n",
       "\n",
       "    .dataframe tbody tr th {\n",
       "        vertical-align: top;\n",
       "    }\n",
       "\n",
       "    .dataframe thead th {\n",
       "        text-align: right;\n",
       "    }\n",
       "</style>\n",
       "<table border=\"1\" class=\"dataframe\">\n",
       "  <thead>\n",
       "    <tr style=\"text-align: right;\">\n",
       "      <th></th>\n",
       "      <th>loan_amnt</th>\n",
       "      <th>term</th>\n",
       "      <th>int_rate</th>\n",
       "      <th>installment</th>\n",
       "      <th>annual_inc</th>\n",
       "      <th>dti</th>\n",
       "      <th>open_acc</th>\n",
       "      <th>pub_rec</th>\n",
       "      <th>revol_bal</th>\n",
       "      <th>revol_util</th>\n",
       "      <th>...</th>\n",
       "      <th>application_type_JOINT</th>\n",
       "      <th>zip_code_05113</th>\n",
       "      <th>zip_code_11650</th>\n",
       "      <th>zip_code_22690</th>\n",
       "      <th>zip_code_29597</th>\n",
       "      <th>zip_code_30723</th>\n",
       "      <th>zip_code_48052</th>\n",
       "      <th>zip_code_70466</th>\n",
       "      <th>zip_code_86630</th>\n",
       "      <th>zip_code_93700</th>\n",
       "    </tr>\n",
       "  </thead>\n",
       "  <tbody>\n",
       "    <tr>\n",
       "      <th>396029</th>\n",
       "      <td>2000.0</td>\n",
       "      <td>36</td>\n",
       "      <td>13.61</td>\n",
       "      <td>67.98</td>\n",
       "      <td>42996.0</td>\n",
       "      <td>8.32</td>\n",
       "      <td>3.0</td>\n",
       "      <td>0.0</td>\n",
       "      <td>4292.0</td>\n",
       "      <td>91.3</td>\n",
       "      <td>...</td>\n",
       "      <td>0</td>\n",
       "      <td>0</td>\n",
       "      <td>0</td>\n",
       "      <td>0</td>\n",
       "      <td>0</td>\n",
       "      <td>0</td>\n",
       "      <td>1</td>\n",
       "      <td>0</td>\n",
       "      <td>0</td>\n",
       "      <td>0</td>\n",
       "    </tr>\n",
       "  </tbody>\n",
       "</table>\n",
       "<p>1 rows × 78 columns</p>\n",
       "</div>"
      ],
      "text/plain": [
       "        loan_amnt  term  int_rate  installment  annual_inc   dti  open_acc  \\\n",
       "396029     2000.0    36     13.61        67.98     42996.0  8.32       3.0   \n",
       "\n",
       "        pub_rec  revol_bal  revol_util  ...  application_type_JOINT  \\\n",
       "396029      0.0     4292.0        91.3  ...                       0   \n",
       "\n",
       "        zip_code_05113  zip_code_11650  zip_code_22690  zip_code_29597  \\\n",
       "396029               0               0               0               0   \n",
       "\n",
       "        zip_code_30723  zip_code_48052  zip_code_70466  zip_code_86630  \\\n",
       "396029               0               1               0               0   \n",
       "\n",
       "        zip_code_93700  \n",
       "396029               0  \n",
       "\n",
       "[1 rows x 78 columns]"
      ]
     },
     "execution_count": 474,
     "metadata": {},
     "output_type": "execute_result"
    }
   ],
   "source": [
    "df_pred"
   ]
  },
  {
   "cell_type": "code",
   "execution_count": 475,
   "id": "f799baae",
   "metadata": {},
   "outputs": [],
   "source": [
    "df_pred_scaled = scaler.transform(df_pred)"
   ]
  },
  {
   "cell_type": "code",
   "execution_count": 476,
   "id": "bc38cd35",
   "metadata": {},
   "outputs": [
    {
     "data": {
      "text/html": [
       "<div>\n",
       "<style scoped>\n",
       "    .dataframe tbody tr th:only-of-type {\n",
       "        vertical-align: middle;\n",
       "    }\n",
       "\n",
       "    .dataframe tbody tr th {\n",
       "        vertical-align: top;\n",
       "    }\n",
       "\n",
       "    .dataframe thead th {\n",
       "        text-align: right;\n",
       "    }\n",
       "</style>\n",
       "<table border=\"1\" class=\"dataframe\">\n",
       "  <thead>\n",
       "    <tr style=\"text-align: right;\">\n",
       "      <th></th>\n",
       "      <th>loan_amnt</th>\n",
       "      <th>term</th>\n",
       "      <th>int_rate</th>\n",
       "      <th>installment</th>\n",
       "      <th>annual_inc</th>\n",
       "      <th>dti</th>\n",
       "      <th>open_acc</th>\n",
       "      <th>pub_rec</th>\n",
       "      <th>revol_bal</th>\n",
       "      <th>revol_util</th>\n",
       "      <th>...</th>\n",
       "      <th>application_type_JOINT</th>\n",
       "      <th>zip_code_05113</th>\n",
       "      <th>zip_code_11650</th>\n",
       "      <th>zip_code_22690</th>\n",
       "      <th>zip_code_29597</th>\n",
       "      <th>zip_code_30723</th>\n",
       "      <th>zip_code_48052</th>\n",
       "      <th>zip_code_70466</th>\n",
       "      <th>zip_code_86630</th>\n",
       "      <th>zip_code_93700</th>\n",
       "    </tr>\n",
       "  </thead>\n",
       "  <tbody>\n",
       "    <tr>\n",
       "      <th>0</th>\n",
       "      <td>-1.483175</td>\n",
       "      <td>-0.644898</td>\n",
       "      <td>-0.192458</td>\n",
       "      <td>-1.486088</td>\n",
       "      <td>-0.487184</td>\n",
       "      <td>-0.435111</td>\n",
       "      <td>-1.621727</td>\n",
       "      <td>-0.324861</td>\n",
       "      <td>-0.572131</td>\n",
       "      <td>1.487751</td>\n",
       "      <td>...</td>\n",
       "      <td>-0.031184</td>\n",
       "      <td>-0.277539</td>\n",
       "      <td>-0.278915</td>\n",
       "      <td>-0.407387</td>\n",
       "      <td>-0.276779</td>\n",
       "      <td>-0.407521</td>\n",
       "      <td>2.457381</td>\n",
       "      <td>-0.40969</td>\n",
       "      <td>-0.276205</td>\n",
       "      <td>-0.278518</td>\n",
       "    </tr>\n",
       "  </tbody>\n",
       "</table>\n",
       "<p>1 rows × 78 columns</p>\n",
       "</div>"
      ],
      "text/plain": [
       "   loan_amnt      term  int_rate  installment  annual_inc       dti  open_acc  \\\n",
       "0  -1.483175 -0.644898 -0.192458    -1.486088   -0.487184 -0.435111 -1.621727   \n",
       "\n",
       "    pub_rec  revol_bal  revol_util  ...  application_type_JOINT  \\\n",
       "0 -0.324861  -0.572131    1.487751  ...               -0.031184   \n",
       "\n",
       "   zip_code_05113  zip_code_11650  zip_code_22690  zip_code_29597  \\\n",
       "0       -0.277539       -0.278915       -0.407387       -0.276779   \n",
       "\n",
       "   zip_code_30723  zip_code_48052  zip_code_70466  zip_code_86630  \\\n",
       "0       -0.407521        2.457381        -0.40969       -0.276205   \n",
       "\n",
       "   zip_code_93700  \n",
       "0       -0.278518  \n",
       "\n",
       "[1 rows x 78 columns]"
      ]
     },
     "execution_count": 476,
     "metadata": {},
     "output_type": "execute_result"
    }
   ],
   "source": [
    "df_pred_scaled = pd.DataFrame(df_pred_scaled, columns = columns)\n",
    "df_pred_scaled"
   ]
  },
  {
   "cell_type": "code",
   "execution_count": 477,
   "id": "8b445f1b",
   "metadata": {},
   "outputs": [
    {
     "data": {
      "text/plain": [
       "array([1], dtype=int64)"
      ]
     },
     "execution_count": 477,
     "metadata": {},
     "output_type": "execute_result"
    }
   ],
   "source": [
    "logmodel.predict(df_pred_scaled)"
   ]
  },
  {
   "cell_type": "markdown",
   "id": "1355154c",
   "metadata": {},
   "source": [
    "## SAVE MODEL AND THE SCALER"
   ]
  },
  {
   "cell_type": "code",
   "execution_count": 478,
   "id": "1155e23d",
   "metadata": {},
   "outputs": [
    {
     "data": {
      "text/plain": [
       "['agada_loan_default_prediction_scaler.pkl']"
      ]
     },
     "execution_count": 478,
     "metadata": {},
     "output_type": "execute_result"
    }
   ],
   "source": [
    "import joblib\n",
    "#save model\n",
    "joblib.dump(logmodel, 'agada_loan_default_prediction.sav')\n",
    "#save the scaler for transforming new records\n",
    "joblib.dump(scaler,'agada_loan_default_prediction_scaler.pkl')"
   ]
  },
  {
   "cell_type": "code",
   "execution_count": 479,
   "id": "b063fa6f",
   "metadata": {
    "scrolled": true
   },
   "outputs": [],
   "source": [
    "# save using pickle\n",
    "pd.to_pickle(logmodel,r'C:\\Users\\HP 1O3O G2\\Desktop\\Models for Deployment\\loan.pickle')\n",
    "pd.to_pickle(scaler,r'C:\\Users\\HP 1O3O G2\\Desktop\\Models for Deployment\\loan_scaler.pickle')"
   ]
  },
  {
   "cell_type": "markdown",
   "id": "d55d1293",
   "metadata": {},
   "source": [
    "## CODE FOR DEPLOYMENT"
   ]
  },
  {
   "cell_type": "code",
   "execution_count": 480,
   "id": "8983f1b6",
   "metadata": {},
   "outputs": [],
   "source": [
    "# Load Model\n",
    "model = pd.read_pickle(r'C:\\Users\\HP 1O3O G2\\Desktop\\Models for Deployment\\loan.pickle')\n",
    "scaler = pd.read_pickle(r'C:\\Users\\HP 1O3O G2\\Desktop\\Models for Deployment\\loan_scaler.pickle')"
   ]
  },
  {
   "cell_type": "code",
   "execution_count": 481,
   "id": "9480a11c",
   "metadata": {},
   "outputs": [
    {
     "name": "stderr",
     "output_type": "stream",
     "text": [
      "C:\\Users\\HP 1O3O G2\\anaconda3\\lib\\site-packages\\sklearn\\base.py:450: UserWarning: X does not have valid feature names, but LogisticRegression was fitted with feature names\n",
      "  warnings.warn(\n"
     ]
    },
    {
     "data": {
      "text/plain": [
       "array([1], dtype=int64)"
      ]
     },
     "execution_count": 481,
     "metadata": {},
     "output_type": "execute_result"
    }
   ],
   "source": [
    "df_pred = scaler1.transform(df_pred)\n",
    "model1.predict(df_pred)"
   ]
  },
  {
   "cell_type": "code",
   "execution_count": 482,
   "id": "255ccc0c",
   "metadata": {},
   "outputs": [],
   "source": [
    "def return_prediction(model,scaler,records):\n",
    "    \n",
    "        a = float(request.args.get('loan_amnt'))\n",
    "        b = float(request.args.get('term'))\n",
    "        c = float(request.args.get('int_rate'))\n",
    "        d = float(request.args.get('installment'))\n",
    "        e = float(request.args.get('annual_inc'))\n",
    "        f = float(request.args.get('dti'))\n",
    "        g = float(request.args.get('open_acc'))\n",
    "        h = float(request.args.get('pub_rec'))\n",
    "        i = float(request.args.get('revol_bal'))\n",
    "        j = float(request.args.get('revol_util'))\n",
    "        k = float(request.args.get('total_acc'))\n",
    "        l = float(request.args.get('mort_acc'))\n",
    "        m = float(request.args.get('pub_rec_bankruptcies'))\n",
    "        n = float(request.args.get('earliest_cr_year'))\n",
    "        o = float(request.args.get('sub_grade_A2'))\n",
    "        p = float(request.args.get('sub_grade_A3'))\n",
    "        q = float(request.args.get('sub_grade_A4'))\n",
    "        r = float(request.args.get('sub_grade_A5'))\n",
    "        s = float(request.args.get('sub_grade_B1'))\n",
    "        t = float(request.args.get('sub_grade_B2'))\n",
    "        u = float(request.args.get('sub_grade_B3'))\n",
    "        v = float(request.args.get('sub_grade_B4'))\n",
    "        w = float(request.args.get('sub_grade_B5'))\n",
    "        x = float(request.args.get('sub_grade_C1'))\n",
    "        y = float(request.args.get('sub_grade_C2'))\n",
    "        z = float(request.args.get('sub_grade_C3'))\n",
    "        aa = float(request.args.get('sub_grade_C4'))\n",
    "        bb = float(request.args.get('sub_grade_C5')) \n",
    "        cc = float(request.args.get('sub_grade_D1'))\n",
    "        dd = float(request.args.get('sub_grade_D2'))\n",
    "        ee = float(request.args.get('sub_grade_D3'))\n",
    "        ff = float(request.args.get('sub_grade_D4'))\n",
    "        gg = float(request.args.get('sub_grade_D5'))\n",
    "        hh = float(request.args.get('sub_grade_E1'))\n",
    "        ii = float(request.args.get('sub_grade_E2'))\n",
    "        jj = float(request.args.get('sub_grade_E3'))\n",
    "        kk = float(request.args.get('sub_grade_E4'))\n",
    "        ll = float(request.args.get('sub_grade_E5'))\n",
    "        mm = float(request.args.get('sub_grade_F1'))\n",
    "        nn = float(request.args.get('sub_grade_F2'))\n",
    "        oo = float(request.args.get('sub_grade_F3'))\n",
    "        pp = float(request.args.get('sub_grade_F4'))\n",
    "        qq = float(request.args.get('sub_grade_F5'))\n",
    "        rr = float(request.args.get('sub_grade_G1'))\n",
    "        ss = float(request.args.get('sub_grade_G2'))\n",
    "        tt = float(request.args.get('sub_grade_G3'))\n",
    "        uu = float(request.args.get('sub_grade_G4'))\n",
    "        vv = float(request.args.get('sub_grade_G5'))\n",
    "        ww = float(request.args.get('home_ownership_OTHER'))\n",
    "        xx = float(request.args.get('home_ownership_OWN'))\n",
    "        yy = float(request.args.get('home_ownership_RENT'))\n",
    "        zz = float(request.args.get('verification_status_Source_Verified'))\n",
    "        aaa = float(request.args.get('verification_status_income_Verified'))\n",
    "        bbb = float(request.args.get('purpose_credit_card'))\n",
    "        ccc = float(request.args.get('purpose_debt_consolidation'))\n",
    "        ddd = float(request.args.get('purpose_educational'))\n",
    "        eee = float(request.args.get('purpose_home_improvement'))\n",
    "        fff = float(request.args.get('purpose_house'))\n",
    "        ggg = float(request.args.get('purpose_major_purchase'))\n",
    "        hhh = float(request.args.get('purpose_medical'))\n",
    "        iii = float(request.args.get('purpose_moving'))\n",
    "        jjj = float(request.args.get('purpose_other'))\n",
    "        kkk = float(request.args.get('purpose_renewable_energy'))\n",
    "        lll = float(request.args.get('purpose_small_business'))\n",
    "        mmm = float(request.args.get('purpose_vacation'))\n",
    "        nnn = float(request.args.get('purpose_wedding'))\n",
    "        ooo = float(request.args.get('initial_list_status_w'))\n",
    "        ppp = float(request.args.get('application_type_INDIVIDUAL'))\n",
    "        qqq = float(request.args.get('application_type_JOINT'))\n",
    "        rrr = float(request.args.get('zip_code_05113'))\n",
    "        sss = float(request.args.get('zip_code_11650'))\n",
    "        ttt = float(request.args.get('zip_code_22690'))\n",
    "        uuu = float(request.args.get('zip_code_29597'))\n",
    "        vvv = float(request.args.get('zip_code_30723'))\n",
    "        www = float(request.args.get('zip_code_48052'))\n",
    "        xxx = float(request.args.get('zip_code_70466'))\n",
    "        yyy = float(request.args.get('zip_code_86630'))\n",
    "        zzz = float(request.args.get('zip_code_93700'))\n",
    "    \n",
    "        final_record = ([[a,b,c,d,e,f,g,h,i,j,k,l,m,n,o,p,q,r,s,t,u,v,w,x,y,z,\n",
    "                                aa,bb,cc,dd,ee,ff,gg,hh,ii,jj,kk,ll,mm,nn,oo,pp,qq,rr,ss,tt,uu,vv,ww,xx,yy,zz,\n",
    "                                aaa,bbb,ccc,ddd,eee,fff,ggg,hhh,iii,jjj,kkk,lll,mmm,nnn,ooo,ppp,qqq,rrr,sss,ttt,\n",
    "                                uuu,vvv,www,xxx,yyy,zzz]])\n",
    "\n",
    "        final_record = scaler.transform(final_record)\n",
    "    \n",
    "        prediction = model.predict(final_record)\n",
    "        \n",
    "        return prediction"
   ]
  },
  {
   "cell_type": "markdown",
   "id": "9f4fc270",
   "metadata": {},
   "source": [
    "## The code for deployment will only be used in our flask API for the ML Model"
   ]
  }
 ],
 "metadata": {
  "kernelspec": {
   "display_name": "Python 3 (ipykernel)",
   "language": "python",
   "name": "python3"
  },
  "language_info": {
   "codemirror_mode": {
    "name": "ipython",
    "version": 3
   },
   "file_extension": ".py",
   "mimetype": "text/x-python",
   "name": "python",
   "nbconvert_exporter": "python",
   "pygments_lexer": "ipython3",
   "version": "3.9.12"
  }
 },
 "nbformat": 4,
 "nbformat_minor": 5
}
