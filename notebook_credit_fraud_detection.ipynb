{
 "cells": [
  {
   "cell_type": "markdown",
   "id": "f91fd666",
   "metadata": {},
   "source": [
    "# CREDIT CARD FRAUD PREDICTION USING LOGISTICS REGRESSION MODEL\n",
    "Digital payments are evolving, but so are cyber criminalities. According to the Data Breach Index, more than 5 million records are being stolen on a daily basis, a concerning statistics that shows fraud is still very common both for card-present and card-not present type of payments despite available methods of fraud prevention. In today’s digital world where trillions of Card transaction happens per day, detection of fraud is challenging and hence, the need for adoption of machine learning approach. In this work, I will build a mchine learning (logistic regression) model to predict fraudulent transaction by combining various characteristics of transactions.\n",
    "\n",
    "## Dataset\n",
    "The dataset used in this project was downloaded from https://www.kaggle.com/datasets/dhanushnarayananr/credit-card-fraud.\n",
    " - Feature Explanation:\n",
    "   - distancefromhome - the distance from account owner's home to where the transaction happened.\n",
    "   - distancefromlast_transaction - the distance from last transaction happened.\n",
    "   - ratiotomedianpurchaseprice - Ratio of purchased price transaction to median purchase price.\n",
    "   - repeat_retailer - Is the transaction happened from same retailer.\n",
    "   - used_chip - Is the transaction through chip (credit card).\n",
    "   - usedpinnumber - DId the transaction happened by using PIN number.\n",
    "   - online_order - Was the transaction for an online order.\n",
    "   - fraud - Is the transaction fraudulent.\n",
    "## Model Development\n",
    "One of the major challenges of building fraud detection model is the unbalanced nature of fraud dataset. Naturally, fraud-free transction are much more common that fraudulent transactions hence fraud detection datasets are expected to be unbalanced. In the case of this dataset, only 8.74% of the transactions are fraudulent. Most ML model are known to perform poorly with unbalanced data. In this work, I Will fit logistic regression model to the dataset, assess the performance, then I will go ahead to apply some techniques for addressing the rare class problem to see if the model performance will improve."
   ]
  },
  {
   "cell_type": "markdown",
   "id": "9bf865f9",
   "metadata": {},
   "source": [
    "## LIBRARY AND DATA IMPORT"
   ]
  },
  {
   "cell_type": "code",
   "execution_count": 113,
   "id": "539704fb",
   "metadata": {},
   "outputs": [],
   "source": [
    "#importation of libraries\n",
    "import pandas as pd\n",
    "import numpy as np\n",
    "import matplotlib.pyplot as plt\n",
    "%matplotlib inline\n",
    "import seaborn as sns"
   ]
  },
  {
   "cell_type": "code",
   "execution_count": 114,
   "id": "5dc29436",
   "metadata": {},
   "outputs": [],
   "source": [
    "df = pd.read_csv('card_transdata.csv')"
   ]
  },
  {
   "cell_type": "markdown",
   "id": "0ce1c860",
   "metadata": {},
   "source": [
    "## EXPLORATORY DATA ANALYSIS"
   ]
  },
  {
   "cell_type": "markdown",
   "id": "dcdcd6fb",
   "metadata": {},
   "source": [
    "### Observe below that out of 1 million transactions in the datasate, only 87,403 (8.74%) transactions are fraudulent"
   ]
  },
  {
   "cell_type": "code",
   "execution_count": 115,
   "id": "2f875c19",
   "metadata": {},
   "outputs": [
    {
     "data": {
      "text/html": [
       "<div>\n",
       "<style scoped>\n",
       "    .dataframe tbody tr th:only-of-type {\n",
       "        vertical-align: middle;\n",
       "    }\n",
       "\n",
       "    .dataframe tbody tr th {\n",
       "        vertical-align: top;\n",
       "    }\n",
       "\n",
       "    .dataframe thead th {\n",
       "        text-align: right;\n",
       "    }\n",
       "</style>\n",
       "<table border=\"1\" class=\"dataframe\">\n",
       "  <thead>\n",
       "    <tr style=\"text-align: right;\">\n",
       "      <th></th>\n",
       "      <th>distance_from_home</th>\n",
       "      <th>distance_from_last_transaction</th>\n",
       "      <th>ratio_to_median_purchase_price</th>\n",
       "      <th>repeat_retailer</th>\n",
       "      <th>used_chip</th>\n",
       "      <th>used_pin_number</th>\n",
       "      <th>online_order</th>\n",
       "      <th>fraud</th>\n",
       "    </tr>\n",
       "  </thead>\n",
       "  <tbody>\n",
       "    <tr>\n",
       "      <th>0</th>\n",
       "      <td>57.877857</td>\n",
       "      <td>0.311140</td>\n",
       "      <td>1.945940</td>\n",
       "      <td>1.0</td>\n",
       "      <td>1.0</td>\n",
       "      <td>0.0</td>\n",
       "      <td>0.0</td>\n",
       "      <td>0.0</td>\n",
       "    </tr>\n",
       "    <tr>\n",
       "      <th>1</th>\n",
       "      <td>10.829943</td>\n",
       "      <td>0.175592</td>\n",
       "      <td>1.294219</td>\n",
       "      <td>1.0</td>\n",
       "      <td>0.0</td>\n",
       "      <td>0.0</td>\n",
       "      <td>0.0</td>\n",
       "      <td>0.0</td>\n",
       "    </tr>\n",
       "    <tr>\n",
       "      <th>2</th>\n",
       "      <td>5.091079</td>\n",
       "      <td>0.805153</td>\n",
       "      <td>0.427715</td>\n",
       "      <td>1.0</td>\n",
       "      <td>0.0</td>\n",
       "      <td>0.0</td>\n",
       "      <td>1.0</td>\n",
       "      <td>0.0</td>\n",
       "    </tr>\n",
       "    <tr>\n",
       "      <th>3</th>\n",
       "      <td>2.247564</td>\n",
       "      <td>5.600044</td>\n",
       "      <td>0.362663</td>\n",
       "      <td>1.0</td>\n",
       "      <td>1.0</td>\n",
       "      <td>0.0</td>\n",
       "      <td>1.0</td>\n",
       "      <td>0.0</td>\n",
       "    </tr>\n",
       "    <tr>\n",
       "      <th>4</th>\n",
       "      <td>44.190936</td>\n",
       "      <td>0.566486</td>\n",
       "      <td>2.222767</td>\n",
       "      <td>1.0</td>\n",
       "      <td>1.0</td>\n",
       "      <td>0.0</td>\n",
       "      <td>1.0</td>\n",
       "      <td>0.0</td>\n",
       "    </tr>\n",
       "  </tbody>\n",
       "</table>\n",
       "</div>"
      ],
      "text/plain": [
       "   distance_from_home  distance_from_last_transaction  \\\n",
       "0           57.877857                        0.311140   \n",
       "1           10.829943                        0.175592   \n",
       "2            5.091079                        0.805153   \n",
       "3            2.247564                        5.600044   \n",
       "4           44.190936                        0.566486   \n",
       "\n",
       "   ratio_to_median_purchase_price  repeat_retailer  used_chip  \\\n",
       "0                        1.945940              1.0        1.0   \n",
       "1                        1.294219              1.0        0.0   \n",
       "2                        0.427715              1.0        0.0   \n",
       "3                        0.362663              1.0        1.0   \n",
       "4                        2.222767              1.0        1.0   \n",
       "\n",
       "   used_pin_number  online_order  fraud  \n",
       "0              0.0           0.0    0.0  \n",
       "1              0.0           0.0    0.0  \n",
       "2              0.0           1.0    0.0  \n",
       "3              0.0           1.0    0.0  \n",
       "4              0.0           1.0    0.0  "
      ]
     },
     "execution_count": 115,
     "metadata": {},
     "output_type": "execute_result"
    }
   ],
   "source": [
    "df.head()"
   ]
  },
  {
   "cell_type": "code",
   "execution_count": 116,
   "id": "5c4bdcee",
   "metadata": {},
   "outputs": [
    {
     "name": "stdout",
     "output_type": "stream",
     "text": [
      "<class 'pandas.core.frame.DataFrame'>\n",
      "RangeIndex: 1000000 entries, 0 to 999999\n",
      "Data columns (total 8 columns):\n",
      " #   Column                          Non-Null Count    Dtype  \n",
      "---  ------                          --------------    -----  \n",
      " 0   distance_from_home              1000000 non-null  float64\n",
      " 1   distance_from_last_transaction  1000000 non-null  float64\n",
      " 2   ratio_to_median_purchase_price  1000000 non-null  float64\n",
      " 3   repeat_retailer                 1000000 non-null  float64\n",
      " 4   used_chip                       1000000 non-null  float64\n",
      " 5   used_pin_number                 1000000 non-null  float64\n",
      " 6   online_order                    1000000 non-null  float64\n",
      " 7   fraud                           1000000 non-null  float64\n",
      "dtypes: float64(8)\n",
      "memory usage: 61.0 MB\n"
     ]
    }
   ],
   "source": [
    "df.info()"
   ]
  },
  {
   "cell_type": "code",
   "execution_count": 117,
   "id": "87c57abe",
   "metadata": {},
   "outputs": [
    {
     "data": {
      "text/plain": [
       "fraud\n",
       "0.0      912597\n",
       "1.0       87403\n",
       "dtype: int64"
      ]
     },
     "execution_count": 117,
     "metadata": {},
     "output_type": "execute_result"
    }
   ],
   "source": [
    "df[['fraud']].value_counts()"
   ]
  },
  {
   "cell_type": "code",
   "execution_count": 118,
   "id": "c1216e51",
   "metadata": {},
   "outputs": [
    {
     "data": {
      "text/html": [
       "<div>\n",
       "<style scoped>\n",
       "    .dataframe tbody tr th:only-of-type {\n",
       "        vertical-align: middle;\n",
       "    }\n",
       "\n",
       "    .dataframe tbody tr th {\n",
       "        vertical-align: top;\n",
       "    }\n",
       "\n",
       "    .dataframe thead th {\n",
       "        text-align: right;\n",
       "    }\n",
       "</style>\n",
       "<table border=\"1\" class=\"dataframe\">\n",
       "  <thead>\n",
       "    <tr style=\"text-align: right;\">\n",
       "      <th></th>\n",
       "      <th>count</th>\n",
       "      <th>mean</th>\n",
       "      <th>std</th>\n",
       "      <th>min</th>\n",
       "      <th>25%</th>\n",
       "      <th>50%</th>\n",
       "      <th>75%</th>\n",
       "      <th>max</th>\n",
       "    </tr>\n",
       "  </thead>\n",
       "  <tbody>\n",
       "    <tr>\n",
       "      <th>distance_from_home</th>\n",
       "      <td>1000000.0</td>\n",
       "      <td>26.628792</td>\n",
       "      <td>65.390784</td>\n",
       "      <td>0.004874</td>\n",
       "      <td>3.878008</td>\n",
       "      <td>9.967760</td>\n",
       "      <td>25.743985</td>\n",
       "      <td>10632.723672</td>\n",
       "    </tr>\n",
       "    <tr>\n",
       "      <th>distance_from_last_transaction</th>\n",
       "      <td>1000000.0</td>\n",
       "      <td>5.036519</td>\n",
       "      <td>25.843093</td>\n",
       "      <td>0.000118</td>\n",
       "      <td>0.296671</td>\n",
       "      <td>0.998650</td>\n",
       "      <td>3.355748</td>\n",
       "      <td>11851.104565</td>\n",
       "    </tr>\n",
       "    <tr>\n",
       "      <th>ratio_to_median_purchase_price</th>\n",
       "      <td>1000000.0</td>\n",
       "      <td>1.824182</td>\n",
       "      <td>2.799589</td>\n",
       "      <td>0.004399</td>\n",
       "      <td>0.475673</td>\n",
       "      <td>0.997717</td>\n",
       "      <td>2.096370</td>\n",
       "      <td>267.802942</td>\n",
       "    </tr>\n",
       "    <tr>\n",
       "      <th>repeat_retailer</th>\n",
       "      <td>1000000.0</td>\n",
       "      <td>0.881536</td>\n",
       "      <td>0.323157</td>\n",
       "      <td>0.000000</td>\n",
       "      <td>1.000000</td>\n",
       "      <td>1.000000</td>\n",
       "      <td>1.000000</td>\n",
       "      <td>1.000000</td>\n",
       "    </tr>\n",
       "    <tr>\n",
       "      <th>used_chip</th>\n",
       "      <td>1000000.0</td>\n",
       "      <td>0.350399</td>\n",
       "      <td>0.477095</td>\n",
       "      <td>0.000000</td>\n",
       "      <td>0.000000</td>\n",
       "      <td>0.000000</td>\n",
       "      <td>1.000000</td>\n",
       "      <td>1.000000</td>\n",
       "    </tr>\n",
       "    <tr>\n",
       "      <th>used_pin_number</th>\n",
       "      <td>1000000.0</td>\n",
       "      <td>0.100608</td>\n",
       "      <td>0.300809</td>\n",
       "      <td>0.000000</td>\n",
       "      <td>0.000000</td>\n",
       "      <td>0.000000</td>\n",
       "      <td>0.000000</td>\n",
       "      <td>1.000000</td>\n",
       "    </tr>\n",
       "    <tr>\n",
       "      <th>online_order</th>\n",
       "      <td>1000000.0</td>\n",
       "      <td>0.650552</td>\n",
       "      <td>0.476796</td>\n",
       "      <td>0.000000</td>\n",
       "      <td>0.000000</td>\n",
       "      <td>1.000000</td>\n",
       "      <td>1.000000</td>\n",
       "      <td>1.000000</td>\n",
       "    </tr>\n",
       "    <tr>\n",
       "      <th>fraud</th>\n",
       "      <td>1000000.0</td>\n",
       "      <td>0.087403</td>\n",
       "      <td>0.282425</td>\n",
       "      <td>0.000000</td>\n",
       "      <td>0.000000</td>\n",
       "      <td>0.000000</td>\n",
       "      <td>0.000000</td>\n",
       "      <td>1.000000</td>\n",
       "    </tr>\n",
       "  </tbody>\n",
       "</table>\n",
       "</div>"
      ],
      "text/plain": [
       "                                    count       mean        std       min  \\\n",
       "distance_from_home              1000000.0  26.628792  65.390784  0.004874   \n",
       "distance_from_last_transaction  1000000.0   5.036519  25.843093  0.000118   \n",
       "ratio_to_median_purchase_price  1000000.0   1.824182   2.799589  0.004399   \n",
       "repeat_retailer                 1000000.0   0.881536   0.323157  0.000000   \n",
       "used_chip                       1000000.0   0.350399   0.477095  0.000000   \n",
       "used_pin_number                 1000000.0   0.100608   0.300809  0.000000   \n",
       "online_order                    1000000.0   0.650552   0.476796  0.000000   \n",
       "fraud                           1000000.0   0.087403   0.282425  0.000000   \n",
       "\n",
       "                                     25%       50%        75%           max  \n",
       "distance_from_home              3.878008  9.967760  25.743985  10632.723672  \n",
       "distance_from_last_transaction  0.296671  0.998650   3.355748  11851.104565  \n",
       "ratio_to_median_purchase_price  0.475673  0.997717   2.096370    267.802942  \n",
       "repeat_retailer                 1.000000  1.000000   1.000000      1.000000  \n",
       "used_chip                       0.000000  0.000000   1.000000      1.000000  \n",
       "used_pin_number                 0.000000  0.000000   0.000000      1.000000  \n",
       "online_order                    0.000000  1.000000   1.000000      1.000000  \n",
       "fraud                           0.000000  0.000000   0.000000      1.000000  "
      ]
     },
     "execution_count": 118,
     "metadata": {},
     "output_type": "execute_result"
    }
   ],
   "source": [
    "df.describe().transpose()"
   ]
  },
  {
   "cell_type": "code",
   "execution_count": 119,
   "id": "e9ac767d",
   "metadata": {},
   "outputs": [
    {
     "data": {
      "text/html": [
       "<div>\n",
       "<style scoped>\n",
       "    .dataframe tbody tr th:only-of-type {\n",
       "        vertical-align: middle;\n",
       "    }\n",
       "\n",
       "    .dataframe tbody tr th {\n",
       "        vertical-align: top;\n",
       "    }\n",
       "\n",
       "    .dataframe thead th {\n",
       "        text-align: right;\n",
       "    }\n",
       "</style>\n",
       "<table border=\"1\" class=\"dataframe\">\n",
       "  <thead>\n",
       "    <tr style=\"text-align: right;\">\n",
       "      <th></th>\n",
       "      <th>distance_from_home</th>\n",
       "      <th>distance_from_last_transaction</th>\n",
       "      <th>ratio_to_median_purchase_price</th>\n",
       "      <th>repeat_retailer</th>\n",
       "      <th>used_chip</th>\n",
       "      <th>used_pin_number</th>\n",
       "      <th>online_order</th>\n",
       "      <th>fraud</th>\n",
       "    </tr>\n",
       "  </thead>\n",
       "  <tbody>\n",
       "    <tr>\n",
       "      <th>13</th>\n",
       "      <td>2.131956</td>\n",
       "      <td>56.372401</td>\n",
       "      <td>6.358667</td>\n",
       "      <td>1.0</td>\n",
       "      <td>0.0</td>\n",
       "      <td>0.0</td>\n",
       "      <td>1.0</td>\n",
       "      <td>1.0</td>\n",
       "    </tr>\n",
       "    <tr>\n",
       "      <th>24</th>\n",
       "      <td>3.803057</td>\n",
       "      <td>67.241081</td>\n",
       "      <td>1.872950</td>\n",
       "      <td>1.0</td>\n",
       "      <td>0.0</td>\n",
       "      <td>0.0</td>\n",
       "      <td>1.0</td>\n",
       "      <td>1.0</td>\n",
       "    </tr>\n",
       "    <tr>\n",
       "      <th>29</th>\n",
       "      <td>15.694986</td>\n",
       "      <td>175.989182</td>\n",
       "      <td>0.855623</td>\n",
       "      <td>1.0</td>\n",
       "      <td>0.0</td>\n",
       "      <td>0.0</td>\n",
       "      <td>1.0</td>\n",
       "      <td>1.0</td>\n",
       "    </tr>\n",
       "    <tr>\n",
       "      <th>35</th>\n",
       "      <td>26.711462</td>\n",
       "      <td>1.552008</td>\n",
       "      <td>4.603601</td>\n",
       "      <td>1.0</td>\n",
       "      <td>1.0</td>\n",
       "      <td>0.0</td>\n",
       "      <td>1.0</td>\n",
       "      <td>1.0</td>\n",
       "    </tr>\n",
       "    <tr>\n",
       "      <th>36</th>\n",
       "      <td>10.664474</td>\n",
       "      <td>1.565769</td>\n",
       "      <td>4.886521</td>\n",
       "      <td>1.0</td>\n",
       "      <td>0.0</td>\n",
       "      <td>0.0</td>\n",
       "      <td>1.0</td>\n",
       "      <td>1.0</td>\n",
       "    </tr>\n",
       "    <tr>\n",
       "      <th>...</th>\n",
       "      <td>...</td>\n",
       "      <td>...</td>\n",
       "      <td>...</td>\n",
       "      <td>...</td>\n",
       "      <td>...</td>\n",
       "      <td>...</td>\n",
       "      <td>...</td>\n",
       "      <td>...</td>\n",
       "    </tr>\n",
       "    <tr>\n",
       "      <th>999908</th>\n",
       "      <td>45.296658</td>\n",
       "      <td>0.882736</td>\n",
       "      <td>8.856861</td>\n",
       "      <td>1.0</td>\n",
       "      <td>0.0</td>\n",
       "      <td>0.0</td>\n",
       "      <td>1.0</td>\n",
       "      <td>1.0</td>\n",
       "    </tr>\n",
       "    <tr>\n",
       "      <th>999916</th>\n",
       "      <td>167.139756</td>\n",
       "      <td>0.282253</td>\n",
       "      <td>0.308468</td>\n",
       "      <td>1.0</td>\n",
       "      <td>0.0</td>\n",
       "      <td>0.0</td>\n",
       "      <td>1.0</td>\n",
       "      <td>1.0</td>\n",
       "    </tr>\n",
       "    <tr>\n",
       "      <th>999919</th>\n",
       "      <td>124.640118</td>\n",
       "      <td>0.004416</td>\n",
       "      <td>0.434885</td>\n",
       "      <td>1.0</td>\n",
       "      <td>0.0</td>\n",
       "      <td>0.0</td>\n",
       "      <td>1.0</td>\n",
       "      <td>1.0</td>\n",
       "    </tr>\n",
       "    <tr>\n",
       "      <th>999939</th>\n",
       "      <td>51.412900</td>\n",
       "      <td>3.429330</td>\n",
       "      <td>29.914254</td>\n",
       "      <td>1.0</td>\n",
       "      <td>0.0</td>\n",
       "      <td>0.0</td>\n",
       "      <td>1.0</td>\n",
       "      <td>1.0</td>\n",
       "    </tr>\n",
       "    <tr>\n",
       "      <th>999949</th>\n",
       "      <td>15.724799</td>\n",
       "      <td>1.875906</td>\n",
       "      <td>11.009366</td>\n",
       "      <td>1.0</td>\n",
       "      <td>1.0</td>\n",
       "      <td>0.0</td>\n",
       "      <td>1.0</td>\n",
       "      <td>1.0</td>\n",
       "    </tr>\n",
       "  </tbody>\n",
       "</table>\n",
       "<p>87403 rows × 8 columns</p>\n",
       "</div>"
      ],
      "text/plain": [
       "        distance_from_home  distance_from_last_transaction  \\\n",
       "13                2.131956                       56.372401   \n",
       "24                3.803057                       67.241081   \n",
       "29               15.694986                      175.989182   \n",
       "35               26.711462                        1.552008   \n",
       "36               10.664474                        1.565769   \n",
       "...                    ...                             ...   \n",
       "999908           45.296658                        0.882736   \n",
       "999916          167.139756                        0.282253   \n",
       "999919          124.640118                        0.004416   \n",
       "999939           51.412900                        3.429330   \n",
       "999949           15.724799                        1.875906   \n",
       "\n",
       "        ratio_to_median_purchase_price  repeat_retailer  used_chip  \\\n",
       "13                            6.358667              1.0        0.0   \n",
       "24                            1.872950              1.0        0.0   \n",
       "29                            0.855623              1.0        0.0   \n",
       "35                            4.603601              1.0        1.0   \n",
       "36                            4.886521              1.0        0.0   \n",
       "...                                ...              ...        ...   \n",
       "999908                        8.856861              1.0        0.0   \n",
       "999916                        0.308468              1.0        0.0   \n",
       "999919                        0.434885              1.0        0.0   \n",
       "999939                       29.914254              1.0        0.0   \n",
       "999949                       11.009366              1.0        1.0   \n",
       "\n",
       "        used_pin_number  online_order  fraud  \n",
       "13                  0.0           1.0    1.0  \n",
       "24                  0.0           1.0    1.0  \n",
       "29                  0.0           1.0    1.0  \n",
       "35                  0.0           1.0    1.0  \n",
       "36                  0.0           1.0    1.0  \n",
       "...                 ...           ...    ...  \n",
       "999908              0.0           1.0    1.0  \n",
       "999916              0.0           1.0    1.0  \n",
       "999919              0.0           1.0    1.0  \n",
       "999939              0.0           1.0    1.0  \n",
       "999949              0.0           1.0    1.0  \n",
       "\n",
       "[87403 rows x 8 columns]"
      ]
     },
     "execution_count": 119,
     "metadata": {},
     "output_type": "execute_result"
    }
   ],
   "source": [
    "df_fraud = df.loc[df['fraud']==1]\n",
    "df_fraud"
   ]
  },
  {
   "cell_type": "code",
   "execution_count": 120,
   "id": "53a93df9",
   "metadata": {},
   "outputs": [
    {
     "data": {
      "text/html": [
       "<div>\n",
       "<style scoped>\n",
       "    .dataframe tbody tr th:only-of-type {\n",
       "        vertical-align: middle;\n",
       "    }\n",
       "\n",
       "    .dataframe tbody tr th {\n",
       "        vertical-align: top;\n",
       "    }\n",
       "\n",
       "    .dataframe thead th {\n",
       "        text-align: right;\n",
       "    }\n",
       "</style>\n",
       "<table border=\"1\" class=\"dataframe\">\n",
       "  <thead>\n",
       "    <tr style=\"text-align: right;\">\n",
       "      <th></th>\n",
       "      <th>distance_from_home</th>\n",
       "      <th>distance_from_last_transaction</th>\n",
       "      <th>ratio_to_median_purchase_price</th>\n",
       "      <th>repeat_retailer</th>\n",
       "      <th>used_chip</th>\n",
       "      <th>used_pin_number</th>\n",
       "      <th>online_order</th>\n",
       "    </tr>\n",
       "    <tr>\n",
       "      <th>fraud</th>\n",
       "      <th></th>\n",
       "      <th></th>\n",
       "      <th></th>\n",
       "      <th></th>\n",
       "      <th></th>\n",
       "      <th></th>\n",
       "      <th></th>\n",
       "    </tr>\n",
       "  </thead>\n",
       "  <tbody>\n",
       "    <tr>\n",
       "      <th>0.0</th>\n",
       "      <td>22.832976</td>\n",
       "      <td>4.301391</td>\n",
       "      <td>1.423642</td>\n",
       "      <td>0.881672</td>\n",
       "      <td>0.359402</td>\n",
       "      <td>0.109944</td>\n",
       "      <td>0.622225</td>\n",
       "    </tr>\n",
       "    <tr>\n",
       "      <th>1.0</th>\n",
       "      <td>66.261876</td>\n",
       "      <td>12.712185</td>\n",
       "      <td>6.006323</td>\n",
       "      <td>0.880119</td>\n",
       "      <td>0.256399</td>\n",
       "      <td>0.003123</td>\n",
       "      <td>0.946318</td>\n",
       "    </tr>\n",
       "  </tbody>\n",
       "</table>\n",
       "</div>"
      ],
      "text/plain": [
       "       distance_from_home  distance_from_last_transaction  \\\n",
       "fraud                                                       \n",
       "0.0             22.832976                        4.301391   \n",
       "1.0             66.261876                       12.712185   \n",
       "\n",
       "       ratio_to_median_purchase_price  repeat_retailer  used_chip  \\\n",
       "fraud                                                               \n",
       "0.0                          1.423642         0.881672   0.359402   \n",
       "1.0                          6.006323         0.880119   0.256399   \n",
       "\n",
       "       used_pin_number  online_order  \n",
       "fraud                                 \n",
       "0.0           0.109944      0.622225  \n",
       "1.0           0.003123      0.946318  "
      ]
     },
     "execution_count": 120,
     "metadata": {},
     "output_type": "execute_result"
    }
   ],
   "source": [
    "#a quick look at mean value of the features for fraudulent and non-fraudulent transactions\n",
    "df.groupby('fraud').mean()"
   ]
  },
  {
   "cell_type": "code",
   "execution_count": 121,
   "id": "845b91bb",
   "metadata": {},
   "outputs": [
    {
     "data": {
      "text/plain": [
       "<AxesSubplot: xlabel='fraud', ylabel='count'>"
      ]
     },
     "execution_count": 121,
     "metadata": {},
     "output_type": "execute_result"
    },
    {
     "data": {
      "image/png": "[encoded data removed]",
      "text/plain": [
       "<Figure size 432x288 with 1 Axes>"
      ]
     },
     "metadata": {
      "needs_background": "light"
     },
     "output_type": "display_data"
    }
   ],
   "source": [
    "#visualizing the count plot and the unbalanced nature of the dataset\n",
    "sns.countplot(x = 'fraud', data = df)"
   ]
  },
  {
   "cell_type": "code",
   "execution_count": 122,
   "id": "66b5d911",
   "metadata": {},
   "outputs": [
    {
     "data": {
      "text/plain": [
       "used_pin_number                  -0.100293\n",
       "used_chip                        -0.060975\n",
       "repeat_retailer                  -0.001357\n",
       "distance_from_last_transaction    0.091917\n",
       "distance_from_home                0.187571\n",
       "online_order                      0.191973\n",
       "ratio_to_median_purchase_price    0.462305\n",
       "fraud                             1.000000\n",
       "Name: fraud, dtype: float64"
      ]
     },
     "execution_count": 122,
     "metadata": {},
     "output_type": "execute_result"
    }
   ],
   "source": [
    "#correlation of each of the variables with fraud\n",
    "df.corr()['fraud'].sort_values()"
   ]
  },
  {
   "cell_type": "code",
   "execution_count": 123,
   "id": "da12db02",
   "metadata": {},
   "outputs": [
    {
     "data": {
      "text/plain": [
       "<AxesSubplot: >"
      ]
     },
     "execution_count": 123,
     "metadata": {},
     "output_type": "execute_result"
    },
    {
     "data": {
      "image/png": "[encoded data removed]",
      "text/plain": [
       "<Figure size 432x288 with 2 Axes>"
      ]
     },
     "metadata": {
      "needs_background": "light"
     },
     "output_type": "display_data"
    }
   ],
   "source": [
    "sns.heatmap(df.corr())"
   ]
  },
  {
   "cell_type": "code",
   "execution_count": 124,
   "id": "22bbb6d0",
   "metadata": {},
   "outputs": [
    {
     "data": {
      "text/plain": [
       "<AxesSubplot: >"
      ]
     },
     "execution_count": 124,
     "metadata": {},
     "output_type": "execute_result"
    },
    {
     "data": {
      "image/png": "[encoded data removed]",
      "text/plain": [
       "<Figure size 432x288 with 1 Axes>"
      ]
     },
     "metadata": {
      "needs_background": "light"
     },
     "output_type": "display_data"
    }
   ],
   "source": [
    "#visualize the correlation\n",
    "df.corr()['fraud'][:-1].sort_values().plot(kind='bar')"
   ]
  },
  {
   "cell_type": "markdown",
   "id": "a017e17f",
   "metadata": {},
   "source": [
    "### We further explore the variables with significant correlations with fraud"
   ]
  },
  {
   "cell_type": "code",
   "execution_count": 125,
   "id": "886558ab",
   "metadata": {},
   "outputs": [
    {
     "data": {
      "text/plain": [
       "<AxesSubplot: xlabel='fraud', ylabel='ratio_to_median_purchase_price'>"
      ]
     },
     "execution_count": 125,
     "metadata": {},
     "output_type": "execute_result"
    },
    {
     "data": {
      "image/png": "[encoded data removed]",
      "text/plain": [
       "<Figure size 432x288 with 1 Axes>"
      ]
     },
     "metadata": {
      "needs_background": "light"
     },
     "output_type": "display_data"
    }
   ],
   "source": [
    "#ration to median purchase price higher for fraudulent transactions\n",
    "sns.boxplot(x='fraud',y='ratio_to_median_purchase_price',data=df)"
   ]
  },
  {
   "cell_type": "code",
   "execution_count": 126,
   "id": "933e6433",
   "metadata": {},
   "outputs": [
    {
     "data": {
      "text/plain": [
       "<AxesSubplot: xlabel='fraud', ylabel='count'>"
      ]
     },
     "execution_count": 126,
     "metadata": {},
     "output_type": "execute_result"
    },
    {
     "data": {
      "image/png": "[encoded data removed]",
      "text/plain": [
       "<Figure size 432x288 with 1 Axes>"
      ]
     },
     "metadata": {
      "needs_background": "light"
     },
     "output_type": "display_data"
    }
   ],
   "source": [
    "#online orders are more likely to be fraudulent\n",
    "sns.countplot(x='fraud',hue='online_order',data=df)"
   ]
  },
  {
   "cell_type": "code",
   "execution_count": 127,
   "id": "012921ed",
   "metadata": {},
   "outputs": [
    {
     "data": {
      "text/plain": [
       "<AxesSubplot: xlabel='fraud', ylabel='count'>"
      ]
     },
     "execution_count": 127,
     "metadata": {},
     "output_type": "execute_result"
    },
    {
     "data": {
      "image/png": "[encoded data removed]",
      "text/plain": [
       "<Figure size 432x288 with 1 Axes>"
      ]
     },
     "metadata": {
      "needs_background": "light"
     },
     "output_type": "display_data"
    }
   ],
   "source": [
    "#transactions are less likely to be fraudulent when pin numbers are used\n",
    "sns.countplot(x='fraud',hue='used_pin_number',data=df)"
   ]
  },
  {
   "cell_type": "code",
   "execution_count": 128,
   "id": "bd7555f9",
   "metadata": {},
   "outputs": [
    {
     "data": {
      "text/plain": [
       "<AxesSubplot: xlabel='fraud', ylabel='distance_from_home'>"
      ]
     },
     "execution_count": 128,
     "metadata": {},
     "output_type": "execute_result"
    },
    {
     "data": {
      "image/png": "[encoded data removed]",
      "text/plain": [
       "<Figure size 432x288 with 1 Axes>"
      ]
     },
     "metadata": {
      "needs_background": "light"
     },
     "output_type": "display_data"
    }
   ],
   "source": [
    "sns.boxplot(x='fraud',y='distance_from_home',data=df)"
   ]
  },
  {
   "cell_type": "markdown",
   "id": "c1a083ca",
   "metadata": {},
   "source": [
    "## DATA PREPROCESSING AND MODEL TRAINING"
   ]
  },
  {
   "cell_type": "code",
   "execution_count": 129,
   "id": "01c49991",
   "metadata": {},
   "outputs": [],
   "source": [
    "from sklearn.model_selection import train_test_split"
   ]
  },
  {
   "cell_type": "code",
   "execution_count": 130,
   "id": "983efd52",
   "metadata": {},
   "outputs": [],
   "source": [
    "X = df.drop('fraud', axis=1)\n",
    "y = df['fraud']"
   ]
  },
  {
   "cell_type": "code",
   "execution_count": 131,
   "id": "1c9ba522",
   "metadata": {},
   "outputs": [],
   "source": [
    "X_train, X_test, y_train, y_test = train_test_split(X,y, test_size=0.3, random_state = 43)"
   ]
  },
  {
   "cell_type": "code",
   "execution_count": 132,
   "id": "028f0ed8",
   "metadata": {},
   "outputs": [
    {
     "data": {
      "text/html": [
       "<div>\n",
       "<style scoped>\n",
       "    .dataframe tbody tr th:only-of-type {\n",
       "        vertical-align: middle;\n",
       "    }\n",
       "\n",
       "    .dataframe tbody tr th {\n",
       "        vertical-align: top;\n",
       "    }\n",
       "\n",
       "    .dataframe thead th {\n",
       "        text-align: right;\n",
       "    }\n",
       "</style>\n",
       "<table border=\"1\" class=\"dataframe\">\n",
       "  <thead>\n",
       "    <tr style=\"text-align: right;\">\n",
       "      <th></th>\n",
       "      <th>distance_from_home</th>\n",
       "      <th>distance_from_last_transaction</th>\n",
       "      <th>ratio_to_median_purchase_price</th>\n",
       "      <th>repeat_retailer</th>\n",
       "      <th>used_chip</th>\n",
       "      <th>used_pin_number</th>\n",
       "      <th>online_order</th>\n",
       "    </tr>\n",
       "  </thead>\n",
       "  <tbody>\n",
       "    <tr>\n",
       "      <th>0</th>\n",
       "      <td>-0.211056</td>\n",
       "      <td>-0.094865</td>\n",
       "      <td>1.992367</td>\n",
       "      <td>0.366168</td>\n",
       "      <td>-0.735005</td>\n",
       "      <td>-0.334095</td>\n",
       "      <td>0.732968</td>\n",
       "    </tr>\n",
       "    <tr>\n",
       "      <th>1</th>\n",
       "      <td>-0.381153</td>\n",
       "      <td>0.930823</td>\n",
       "      <td>1.836468</td>\n",
       "      <td>0.366168</td>\n",
       "      <td>1.360535</td>\n",
       "      <td>-0.334095</td>\n",
       "      <td>0.732968</td>\n",
       "    </tr>\n",
       "    <tr>\n",
       "      <th>2</th>\n",
       "      <td>-0.262578</td>\n",
       "      <td>-0.205536</td>\n",
       "      <td>-0.545305</td>\n",
       "      <td>0.366168</td>\n",
       "      <td>-0.735005</td>\n",
       "      <td>-0.334095</td>\n",
       "      <td>0.732968</td>\n",
       "    </tr>\n",
       "    <tr>\n",
       "      <th>3</th>\n",
       "      <td>-0.204920</td>\n",
       "      <td>-0.151519</td>\n",
       "      <td>0.142076</td>\n",
       "      <td>0.366168</td>\n",
       "      <td>-0.735005</td>\n",
       "      <td>-0.334095</td>\n",
       "      <td>-1.364316</td>\n",
       "    </tr>\n",
       "    <tr>\n",
       "      <th>4</th>\n",
       "      <td>-0.234033</td>\n",
       "      <td>-0.227503</td>\n",
       "      <td>-0.546827</td>\n",
       "      <td>0.366168</td>\n",
       "      <td>-0.735005</td>\n",
       "      <td>-0.334095</td>\n",
       "      <td>0.732968</td>\n",
       "    </tr>\n",
       "  </tbody>\n",
       "</table>\n",
       "</div>"
      ],
      "text/plain": [
       "   distance_from_home  distance_from_last_transaction  \\\n",
       "0           -0.211056                       -0.094865   \n",
       "1           -0.381153                        0.930823   \n",
       "2           -0.262578                       -0.205536   \n",
       "3           -0.204920                       -0.151519   \n",
       "4           -0.234033                       -0.227503   \n",
       "\n",
       "   ratio_to_median_purchase_price  repeat_retailer  used_chip  \\\n",
       "0                        1.992367         0.366168  -0.735005   \n",
       "1                        1.836468         0.366168   1.360535   \n",
       "2                       -0.545305         0.366168  -0.735005   \n",
       "3                        0.142076         0.366168  -0.735005   \n",
       "4                       -0.546827         0.366168  -0.735005   \n",
       "\n",
       "   used_pin_number  online_order  \n",
       "0        -0.334095      0.732968  \n",
       "1        -0.334095      0.732968  \n",
       "2        -0.334095      0.732968  \n",
       "3        -0.334095     -1.364316  \n",
       "4        -0.334095      0.732968  "
      ]
     },
     "execution_count": 132,
     "metadata": {},
     "output_type": "execute_result"
    }
   ],
   "source": [
    "from sklearn.preprocessing import StandardScaler\n",
    "scaler = StandardScaler()\n",
    "X_trained_transformed = scaler.fit_transform(X_train)\n",
    "columns = X.columns\n",
    "X_trained_transformed = pd.DataFrame(X_trained_transformed, columns = columns)\n",
    "X_trained_transformed.head()"
   ]
  },
  {
   "cell_type": "code",
   "execution_count": 133,
   "id": "5658bad9",
   "metadata": {},
   "outputs": [],
   "source": [
    "from sklearn.linear_model import LogisticRegression"
   ]
  },
  {
   "cell_type": "code",
   "execution_count": 134,
   "id": "14dd27c0",
   "metadata": {},
   "outputs": [],
   "source": [
    "logmodel = LogisticRegression(max_iter = 200)"
   ]
  },
  {
   "cell_type": "code",
   "execution_count": 135,
   "id": "409d0182",
   "metadata": {},
   "outputs": [
    {
     "data": {
      "text/plain": [
       "LogisticRegression(max_iter=200)"
      ]
     },
     "execution_count": 135,
     "metadata": {},
     "output_type": "execute_result"
    }
   ],
   "source": [
    "logmodel.fit(X_trained_transformed,y_train)"
   ]
  },
  {
   "cell_type": "markdown",
   "id": "2cc0cefe",
   "metadata": {},
   "source": [
    "## PREDICTION AND MODEL ASSESSMENT"
   ]
  },
  {
   "cell_type": "code",
   "execution_count": 136,
   "id": "41ef54ec",
   "metadata": {},
   "outputs": [
    {
     "data": {
      "text/html": [
       "<div>\n",
       "<style scoped>\n",
       "    .dataframe tbody tr th:only-of-type {\n",
       "        vertical-align: middle;\n",
       "    }\n",
       "\n",
       "    .dataframe tbody tr th {\n",
       "        vertical-align: top;\n",
       "    }\n",
       "\n",
       "    .dataframe thead th {\n",
       "        text-align: right;\n",
       "    }\n",
       "</style>\n",
       "<table border=\"1\" class=\"dataframe\">\n",
       "  <thead>\n",
       "    <tr style=\"text-align: right;\">\n",
       "      <th></th>\n",
       "      <th>distance_from_home</th>\n",
       "      <th>distance_from_last_transaction</th>\n",
       "      <th>ratio_to_median_purchase_price</th>\n",
       "      <th>repeat_retailer</th>\n",
       "      <th>used_chip</th>\n",
       "      <th>used_pin_number</th>\n",
       "      <th>online_order</th>\n",
       "    </tr>\n",
       "  </thead>\n",
       "  <tbody>\n",
       "    <tr>\n",
       "      <th>0</th>\n",
       "      <td>1.559393</td>\n",
       "      <td>-0.222628</td>\n",
       "      <td>1.788491</td>\n",
       "      <td>0.366168</td>\n",
       "      <td>1.360535</td>\n",
       "      <td>-0.334095</td>\n",
       "      <td>0.732968</td>\n",
       "    </tr>\n",
       "    <tr>\n",
       "      <th>1</th>\n",
       "      <td>-0.322869</td>\n",
       "      <td>-0.216238</td>\n",
       "      <td>0.103321</td>\n",
       "      <td>0.366168</td>\n",
       "      <td>-0.735005</td>\n",
       "      <td>-0.334095</td>\n",
       "      <td>0.732968</td>\n",
       "    </tr>\n",
       "    <tr>\n",
       "      <th>2</th>\n",
       "      <td>-0.341000</td>\n",
       "      <td>-0.223533</td>\n",
       "      <td>0.309806</td>\n",
       "      <td>0.366168</td>\n",
       "      <td>1.360535</td>\n",
       "      <td>-0.334095</td>\n",
       "      <td>0.732968</td>\n",
       "    </tr>\n",
       "    <tr>\n",
       "      <th>3</th>\n",
       "      <td>-0.347664</td>\n",
       "      <td>-0.118146</td>\n",
       "      <td>0.771869</td>\n",
       "      <td>0.366168</td>\n",
       "      <td>-0.735005</td>\n",
       "      <td>-0.334095</td>\n",
       "      <td>0.732968</td>\n",
       "    </tr>\n",
       "    <tr>\n",
       "      <th>4</th>\n",
       "      <td>-0.388108</td>\n",
       "      <td>0.205750</td>\n",
       "      <td>-0.130159</td>\n",
       "      <td>-2.730988</td>\n",
       "      <td>1.360535</td>\n",
       "      <td>-0.334095</td>\n",
       "      <td>0.732968</td>\n",
       "    </tr>\n",
       "  </tbody>\n",
       "</table>\n",
       "</div>"
      ],
      "text/plain": [
       "   distance_from_home  distance_from_last_transaction  \\\n",
       "0            1.559393                       -0.222628   \n",
       "1           -0.322869                       -0.216238   \n",
       "2           -0.341000                       -0.223533   \n",
       "3           -0.347664                       -0.118146   \n",
       "4           -0.388108                        0.205750   \n",
       "\n",
       "   ratio_to_median_purchase_price  repeat_retailer  used_chip  \\\n",
       "0                        1.788491         0.366168   1.360535   \n",
       "1                        0.103321         0.366168  -0.735005   \n",
       "2                        0.309806         0.366168   1.360535   \n",
       "3                        0.771869         0.366168  -0.735005   \n",
       "4                       -0.130159        -2.730988   1.360535   \n",
       "\n",
       "   used_pin_number  online_order  \n",
       "0        -0.334095      0.732968  \n",
       "1        -0.334095      0.732968  \n",
       "2        -0.334095      0.732968  \n",
       "3        -0.334095      0.732968  \n",
       "4        -0.334095      0.732968  "
      ]
     },
     "execution_count": 136,
     "metadata": {},
     "output_type": "execute_result"
    }
   ],
   "source": [
    "X_test_transformed = scaler.transform(X_test)\n",
    "columns = X.columns\n",
    "X_test_transformed = pd.DataFrame(X_test_transformed, columns = columns)\n",
    "X_test_transformed.head()"
   ]
  },
  {
   "cell_type": "code",
   "execution_count": 137,
   "id": "012db099",
   "metadata": {},
   "outputs": [],
   "source": [
    "predictions = logmodel.predict(X_test_transformed)"
   ]
  },
  {
   "cell_type": "code",
   "execution_count": 138,
   "id": "4d59d725",
   "metadata": {},
   "outputs": [],
   "source": [
    "from sklearn.metrics import classification_report, confusion_matrix, accuracy_score"
   ]
  },
  {
   "cell_type": "code",
   "execution_count": 139,
   "id": "6be1d694",
   "metadata": {},
   "outputs": [
    {
     "name": "stdout",
     "output_type": "stream",
     "text": [
      "              precision    recall  f1-score   support\n",
      "\n",
      "         0.0       0.96      0.99      0.98    273810\n",
      "         1.0       0.89      0.61      0.72     26190\n",
      "\n",
      "    accuracy                           0.96    300000\n",
      "   macro avg       0.93      0.80      0.85    300000\n",
      "weighted avg       0.96      0.96      0.96    300000\n",
      "\n"
     ]
    }
   ],
   "source": [
    "print(classification_report(y_test, predictions))"
   ]
  },
  {
   "cell_type": "code",
   "execution_count": 140,
   "id": "1978efa0",
   "metadata": {},
   "outputs": [
    {
     "data": {
      "text/plain": [
       "array([[271788,   2022],\n",
       "       [ 10227,  15963]], dtype=int64)"
      ]
     },
     "execution_count": 140,
     "metadata": {},
     "output_type": "execute_result"
    }
   ],
   "source": [
    "confusion_matrix(y_test, predictions)"
   ]
  },
  {
   "cell_type": "code",
   "execution_count": 141,
   "id": "20e23994",
   "metadata": {},
   "outputs": [
    {
     "data": {
      "text/plain": [
       "0.95917"
      ]
     },
     "execution_count": 141,
     "metadata": {},
     "output_type": "execute_result"
    }
   ],
   "source": [
    "accuracy_score(y_test, predictions)"
   ]
  },
  {
   "cell_type": "code",
   "execution_count": 142,
   "id": "74d02595",
   "metadata": {},
   "outputs": [
    {
     "data": {
      "image/png": "[encoded data removed]",
      "text/plain": [
       "<Figure size 432x288 with 1 Axes>"
      ]
     },
     "metadata": {
      "needs_background": "light"
     },
     "output_type": "display_data"
    }
   ],
   "source": [
    "from sklearn.metrics import roc_auc_score\n",
    "from sklearn.metrics import roc_curve\n",
    "logit_roc_auc = roc_auc_score(y_test, logmodel.predict(X_test_transformed))\n",
    "fpr, tpr, thresholds = roc_curve(y_test, logmodel.predict_proba(X_test_transformed)[:,1])\n",
    "plt.figure()\n",
    "plt.plot(fpr, tpr, label='Logistic Regression (area = %0.2f)' % logit_roc_auc)\n",
    "plt.plot([0, 1], [0, 1],'r--')\n",
    "plt.xlim([0.0, 1.0])\n",
    "plt.ylim([0.0, 1.05])\n",
    "plt.xlabel('False Positive Rate')\n",
    "plt.ylabel('True Positive Rate')\n",
    "plt.title('Receiver operating characteristic')\n",
    "plt.legend(loc=\"lower right\")\n",
    "plt.savefig('Log_ROC')\n",
    "plt.show()"
   ]
  },
  {
   "cell_type": "markdown",
   "id": "edb14f8f",
   "metadata": {},
   "source": [
    "# As seen above, the overall accuracy of the model which is 0.95917 appears good but cannot be used to assess this model because of the unbalanced nature of the dataset. The precision and recall, alongside the accuracy combined give the true picture of the performance of the model however, the precision score of 0.61 and recall of 0.72 indicate the the model is not very good in correctly classifying the rare class as it does for the other class. In view of this,  I shall adopt oversampling to improve the model performance."
   ]
  },
  {
   "cell_type": "code",
   "execution_count": 143,
   "id": "f4363973",
   "metadata": {},
   "outputs": [],
   "source": [
    "#reimport the raw dataset\n",
    "df = pd.read_csv('card_transdata.csv')"
   ]
  },
  {
   "cell_type": "code",
   "execution_count": 144,
   "id": "0e59a1db",
   "metadata": {},
   "outputs": [
    {
     "data": {
      "text/html": [
       "<div>\n",
       "<style scoped>\n",
       "    .dataframe tbody tr th:only-of-type {\n",
       "        vertical-align: middle;\n",
       "    }\n",
       "\n",
       "    .dataframe tbody tr th {\n",
       "        vertical-align: top;\n",
       "    }\n",
       "\n",
       "    .dataframe thead th {\n",
       "        text-align: right;\n",
       "    }\n",
       "</style>\n",
       "<table border=\"1\" class=\"dataframe\">\n",
       "  <thead>\n",
       "    <tr style=\"text-align: right;\">\n",
       "      <th></th>\n",
       "      <th>distance_from_home</th>\n",
       "      <th>distance_from_last_transaction</th>\n",
       "      <th>ratio_to_median_purchase_price</th>\n",
       "      <th>repeat_retailer</th>\n",
       "      <th>used_chip</th>\n",
       "      <th>used_pin_number</th>\n",
       "      <th>online_order</th>\n",
       "      <th>fraud</th>\n",
       "    </tr>\n",
       "  </thead>\n",
       "  <tbody>\n",
       "    <tr>\n",
       "      <th>0</th>\n",
       "      <td>57.877857</td>\n",
       "      <td>0.311140</td>\n",
       "      <td>1.945940</td>\n",
       "      <td>1.0</td>\n",
       "      <td>1.0</td>\n",
       "      <td>0.0</td>\n",
       "      <td>0.0</td>\n",
       "      <td>0.0</td>\n",
       "    </tr>\n",
       "    <tr>\n",
       "      <th>1</th>\n",
       "      <td>10.829943</td>\n",
       "      <td>0.175592</td>\n",
       "      <td>1.294219</td>\n",
       "      <td>1.0</td>\n",
       "      <td>0.0</td>\n",
       "      <td>0.0</td>\n",
       "      <td>0.0</td>\n",
       "      <td>0.0</td>\n",
       "    </tr>\n",
       "    <tr>\n",
       "      <th>2</th>\n",
       "      <td>5.091079</td>\n",
       "      <td>0.805153</td>\n",
       "      <td>0.427715</td>\n",
       "      <td>1.0</td>\n",
       "      <td>0.0</td>\n",
       "      <td>0.0</td>\n",
       "      <td>1.0</td>\n",
       "      <td>0.0</td>\n",
       "    </tr>\n",
       "    <tr>\n",
       "      <th>3</th>\n",
       "      <td>2.247564</td>\n",
       "      <td>5.600044</td>\n",
       "      <td>0.362663</td>\n",
       "      <td>1.0</td>\n",
       "      <td>1.0</td>\n",
       "      <td>0.0</td>\n",
       "      <td>1.0</td>\n",
       "      <td>0.0</td>\n",
       "    </tr>\n",
       "    <tr>\n",
       "      <th>4</th>\n",
       "      <td>44.190936</td>\n",
       "      <td>0.566486</td>\n",
       "      <td>2.222767</td>\n",
       "      <td>1.0</td>\n",
       "      <td>1.0</td>\n",
       "      <td>0.0</td>\n",
       "      <td>1.0</td>\n",
       "      <td>0.0</td>\n",
       "    </tr>\n",
       "  </tbody>\n",
       "</table>\n",
       "</div>"
      ],
      "text/plain": [
       "   distance_from_home  distance_from_last_transaction  \\\n",
       "0           57.877857                        0.311140   \n",
       "1           10.829943                        0.175592   \n",
       "2            5.091079                        0.805153   \n",
       "3            2.247564                        5.600044   \n",
       "4           44.190936                        0.566486   \n",
       "\n",
       "   ratio_to_median_purchase_price  repeat_retailer  used_chip  \\\n",
       "0                        1.945940              1.0        1.0   \n",
       "1                        1.294219              1.0        0.0   \n",
       "2                        0.427715              1.0        0.0   \n",
       "3                        0.362663              1.0        1.0   \n",
       "4                        2.222767              1.0        1.0   \n",
       "\n",
       "   used_pin_number  online_order  fraud  \n",
       "0              0.0           0.0    0.0  \n",
       "1              0.0           0.0    0.0  \n",
       "2              0.0           1.0    0.0  \n",
       "3              0.0           1.0    0.0  \n",
       "4              0.0           1.0    0.0  "
      ]
     },
     "execution_count": 144,
     "metadata": {},
     "output_type": "execute_result"
    }
   ],
   "source": [
    "df.head()"
   ]
  },
  {
   "cell_type": "markdown",
   "id": "328ec724",
   "metadata": {},
   "source": [
    "## OVERSAMPLING"
   ]
  },
  {
   "cell_type": "code",
   "execution_count": 145,
   "id": "2575a496",
   "metadata": {},
   "outputs": [],
   "source": [
    "#I define the dependent and independent variables\n",
    "X = df.drop(['fraud'],axis = 1)\n",
    "y = df['fraud']"
   ]
  },
  {
   "cell_type": "code",
   "execution_count": 146,
   "id": "15d16532",
   "metadata": {},
   "outputs": [],
   "source": [
    "#oversampling using the imbalanced-learn python library\n",
    "from imblearn.over_sampling import RandomOverSampler\n",
    "oversample = RandomOverSampler(sampling_strategy=1)\n",
    "X_over, y_over = oversample.fit_resample(X, y)"
   ]
  },
  {
   "cell_type": "code",
   "execution_count": 147,
   "id": "8146ff0b",
   "metadata": {},
   "outputs": [],
   "source": [
    "#re-merge for EDA\n",
    "df_over = pd.concat([X_over,y_over],axis=1)"
   ]
  },
  {
   "cell_type": "code",
   "execution_count": 148,
   "id": "acd41553",
   "metadata": {},
   "outputs": [
    {
     "data": {
      "text/html": [
       "<div>\n",
       "<style scoped>\n",
       "    .dataframe tbody tr th:only-of-type {\n",
       "        vertical-align: middle;\n",
       "    }\n",
       "\n",
       "    .dataframe tbody tr th {\n",
       "        vertical-align: top;\n",
       "    }\n",
       "\n",
       "    .dataframe thead th {\n",
       "        text-align: right;\n",
       "    }\n",
       "</style>\n",
       "<table border=\"1\" class=\"dataframe\">\n",
       "  <thead>\n",
       "    <tr style=\"text-align: right;\">\n",
       "      <th></th>\n",
       "      <th>distance_from_home</th>\n",
       "      <th>distance_from_last_transaction</th>\n",
       "      <th>ratio_to_median_purchase_price</th>\n",
       "      <th>repeat_retailer</th>\n",
       "      <th>used_chip</th>\n",
       "      <th>used_pin_number</th>\n",
       "      <th>online_order</th>\n",
       "      <th>fraud</th>\n",
       "    </tr>\n",
       "  </thead>\n",
       "  <tbody>\n",
       "    <tr>\n",
       "      <th>0</th>\n",
       "      <td>57.877857</td>\n",
       "      <td>0.311140</td>\n",
       "      <td>1.945940</td>\n",
       "      <td>1.0</td>\n",
       "      <td>1.0</td>\n",
       "      <td>0.0</td>\n",
       "      <td>0.0</td>\n",
       "      <td>0.0</td>\n",
       "    </tr>\n",
       "    <tr>\n",
       "      <th>1</th>\n",
       "      <td>10.829943</td>\n",
       "      <td>0.175592</td>\n",
       "      <td>1.294219</td>\n",
       "      <td>1.0</td>\n",
       "      <td>0.0</td>\n",
       "      <td>0.0</td>\n",
       "      <td>0.0</td>\n",
       "      <td>0.0</td>\n",
       "    </tr>\n",
       "    <tr>\n",
       "      <th>2</th>\n",
       "      <td>5.091079</td>\n",
       "      <td>0.805153</td>\n",
       "      <td>0.427715</td>\n",
       "      <td>1.0</td>\n",
       "      <td>0.0</td>\n",
       "      <td>0.0</td>\n",
       "      <td>1.0</td>\n",
       "      <td>0.0</td>\n",
       "    </tr>\n",
       "    <tr>\n",
       "      <th>3</th>\n",
       "      <td>2.247564</td>\n",
       "      <td>5.600044</td>\n",
       "      <td>0.362663</td>\n",
       "      <td>1.0</td>\n",
       "      <td>1.0</td>\n",
       "      <td>0.0</td>\n",
       "      <td>1.0</td>\n",
       "      <td>0.0</td>\n",
       "    </tr>\n",
       "    <tr>\n",
       "      <th>4</th>\n",
       "      <td>44.190936</td>\n",
       "      <td>0.566486</td>\n",
       "      <td>2.222767</td>\n",
       "      <td>1.0</td>\n",
       "      <td>1.0</td>\n",
       "      <td>0.0</td>\n",
       "      <td>1.0</td>\n",
       "      <td>0.0</td>\n",
       "    </tr>\n",
       "  </tbody>\n",
       "</table>\n",
       "</div>"
      ],
      "text/plain": [
       "   distance_from_home  distance_from_last_transaction  \\\n",
       "0           57.877857                        0.311140   \n",
       "1           10.829943                        0.175592   \n",
       "2            5.091079                        0.805153   \n",
       "3            2.247564                        5.600044   \n",
       "4           44.190936                        0.566486   \n",
       "\n",
       "   ratio_to_median_purchase_price  repeat_retailer  used_chip  \\\n",
       "0                        1.945940              1.0        1.0   \n",
       "1                        1.294219              1.0        0.0   \n",
       "2                        0.427715              1.0        0.0   \n",
       "3                        0.362663              1.0        1.0   \n",
       "4                        2.222767              1.0        1.0   \n",
       "\n",
       "   used_pin_number  online_order  fraud  \n",
       "0              0.0           0.0    0.0  \n",
       "1              0.0           0.0    0.0  \n",
       "2              0.0           1.0    0.0  \n",
       "3              0.0           1.0    0.0  \n",
       "4              0.0           1.0    0.0  "
      ]
     },
     "execution_count": 148,
     "metadata": {},
     "output_type": "execute_result"
    }
   ],
   "source": [
    "df_over.head()"
   ]
  },
  {
   "cell_type": "markdown",
   "id": "c5c82fb9",
   "metadata": {},
   "source": [
    "## EXPLORATORY DATA ANALYSIS"
   ]
  },
  {
   "cell_type": "code",
   "execution_count": 149,
   "id": "97d47d7c",
   "metadata": {},
   "outputs": [
    {
     "data": {
      "text/plain": [
       "<AxesSubplot: xlabel='fraud', ylabel='count'>"
      ]
     },
     "execution_count": 149,
     "metadata": {},
     "output_type": "execute_result"
    },
    {
     "data": {
      "image/png": "[encoded data removed]",
      "text/plain": [
       "<Figure size 432x288 with 1 Axes>"
      ]
     },
     "metadata": {
      "needs_background": "light"
     },
     "output_type": "display_data"
    }
   ],
   "source": [
    "#classes now balanced\n",
    "sns.countplot(x='fraud',data=df_over)"
   ]
  },
  {
   "cell_type": "code",
   "execution_count": 150,
   "id": "7410ba9f",
   "metadata": {},
   "outputs": [
    {
     "data": {
      "text/html": [
       "<div>\n",
       "<style scoped>\n",
       "    .dataframe tbody tr th:only-of-type {\n",
       "        vertical-align: middle;\n",
       "    }\n",
       "\n",
       "    .dataframe tbody tr th {\n",
       "        vertical-align: top;\n",
       "    }\n",
       "\n",
       "    .dataframe thead th {\n",
       "        text-align: right;\n",
       "    }\n",
       "</style>\n",
       "<table border=\"1\" class=\"dataframe\">\n",
       "  <thead>\n",
       "    <tr style=\"text-align: right;\">\n",
       "      <th></th>\n",
       "      <th>distance_from_home</th>\n",
       "      <th>distance_from_last_transaction</th>\n",
       "      <th>ratio_to_median_purchase_price</th>\n",
       "      <th>repeat_retailer</th>\n",
       "      <th>used_chip</th>\n",
       "      <th>used_pin_number</th>\n",
       "      <th>online_order</th>\n",
       "    </tr>\n",
       "    <tr>\n",
       "      <th>fraud</th>\n",
       "      <th></th>\n",
       "      <th></th>\n",
       "      <th></th>\n",
       "      <th></th>\n",
       "      <th></th>\n",
       "      <th></th>\n",
       "      <th></th>\n",
       "    </tr>\n",
       "  </thead>\n",
       "  <tbody>\n",
       "    <tr>\n",
       "      <th>0.0</th>\n",
       "      <td>22.832976</td>\n",
       "      <td>4.301391</td>\n",
       "      <td>1.423642</td>\n",
       "      <td>0.881672</td>\n",
       "      <td>0.359402</td>\n",
       "      <td>0.109944</td>\n",
       "      <td>0.622225</td>\n",
       "    </tr>\n",
       "    <tr>\n",
       "      <th>1.0</th>\n",
       "      <td>66.226110</td>\n",
       "      <td>12.785351</td>\n",
       "      <td>6.004067</td>\n",
       "      <td>0.879785</td>\n",
       "      <td>0.256680</td>\n",
       "      <td>0.003063</td>\n",
       "      <td>0.946225</td>\n",
       "    </tr>\n",
       "  </tbody>\n",
       "</table>\n",
       "</div>"
      ],
      "text/plain": [
       "       distance_from_home  distance_from_last_transaction  \\\n",
       "fraud                                                       \n",
       "0.0             22.832976                        4.301391   \n",
       "1.0             66.226110                       12.785351   \n",
       "\n",
       "       ratio_to_median_purchase_price  repeat_retailer  used_chip  \\\n",
       "fraud                                                               \n",
       "0.0                          1.423642         0.881672   0.359402   \n",
       "1.0                          6.004067         0.879785   0.256680   \n",
       "\n",
       "       used_pin_number  online_order  \n",
       "fraud                                 \n",
       "0.0           0.109944      0.622225  \n",
       "1.0           0.003063      0.946225  "
      ]
     },
     "execution_count": 150,
     "metadata": {},
     "output_type": "execute_result"
    }
   ],
   "source": [
    "#a quick look at mean value of the features for fraudulent and non-fraudulent transactions\n",
    "df_over.groupby('fraud').mean()"
   ]
  },
  {
   "cell_type": "code",
   "execution_count": 151,
   "id": "332fce2f",
   "metadata": {},
   "outputs": [
    {
     "data": {
      "text/html": [
       "<div>\n",
       "<style scoped>\n",
       "    .dataframe tbody tr th:only-of-type {\n",
       "        vertical-align: middle;\n",
       "    }\n",
       "\n",
       "    .dataframe tbody tr th {\n",
       "        vertical-align: top;\n",
       "    }\n",
       "\n",
       "    .dataframe thead th {\n",
       "        text-align: right;\n",
       "    }\n",
       "</style>\n",
       "<table border=\"1\" class=\"dataframe\">\n",
       "  <thead>\n",
       "    <tr style=\"text-align: right;\">\n",
       "      <th></th>\n",
       "      <th>count</th>\n",
       "      <th>mean</th>\n",
       "      <th>std</th>\n",
       "      <th>min</th>\n",
       "      <th>25%</th>\n",
       "      <th>50%</th>\n",
       "      <th>75%</th>\n",
       "      <th>max</th>\n",
       "    </tr>\n",
       "  </thead>\n",
       "  <tbody>\n",
       "    <tr>\n",
       "      <th>distance_from_home</th>\n",
       "      <td>1825194.0</td>\n",
       "      <td>44.529543</td>\n",
       "      <td>104.019007</td>\n",
       "      <td>0.004874</td>\n",
       "      <td>4.142186</td>\n",
       "      <td>11.754601</td>\n",
       "      <td>37.687376</td>\n",
       "      <td>10632.723672</td>\n",
       "    </tr>\n",
       "    <tr>\n",
       "      <th>distance_from_last_transaction</th>\n",
       "      <td>1825194.0</td>\n",
       "      <td>8.543371</td>\n",
       "      <td>37.784726</td>\n",
       "      <td>0.000118</td>\n",
       "      <td>0.310561</td>\n",
       "      <td>1.065293</td>\n",
       "      <td>3.829804</td>\n",
       "      <td>11851.104565</td>\n",
       "    </tr>\n",
       "    <tr>\n",
       "      <th>ratio_to_median_purchase_price</th>\n",
       "      <td>1825194.0</td>\n",
       "      <td>3.713854</td>\n",
       "      <td>4.749318</td>\n",
       "      <td>0.004399</td>\n",
       "      <td>0.690092</td>\n",
       "      <td>2.011215</td>\n",
       "      <td>5.235840</td>\n",
       "      <td>267.802942</td>\n",
       "    </tr>\n",
       "    <tr>\n",
       "      <th>repeat_retailer</th>\n",
       "      <td>1825194.0</td>\n",
       "      <td>0.880728</td>\n",
       "      <td>0.324108</td>\n",
       "      <td>0.000000</td>\n",
       "      <td>1.000000</td>\n",
       "      <td>1.000000</td>\n",
       "      <td>1.000000</td>\n",
       "      <td>1.000000</td>\n",
       "    </tr>\n",
       "    <tr>\n",
       "      <th>used_chip</th>\n",
       "      <td>1825194.0</td>\n",
       "      <td>0.308041</td>\n",
       "      <td>0.461684</td>\n",
       "      <td>0.000000</td>\n",
       "      <td>0.000000</td>\n",
       "      <td>0.000000</td>\n",
       "      <td>1.000000</td>\n",
       "      <td>1.000000</td>\n",
       "    </tr>\n",
       "    <tr>\n",
       "      <th>used_pin_number</th>\n",
       "      <td>1825194.0</td>\n",
       "      <td>0.056504</td>\n",
       "      <td>0.230892</td>\n",
       "      <td>0.000000</td>\n",
       "      <td>0.000000</td>\n",
       "      <td>0.000000</td>\n",
       "      <td>0.000000</td>\n",
       "      <td>1.000000</td>\n",
       "    </tr>\n",
       "    <tr>\n",
       "      <th>online_order</th>\n",
       "      <td>1825194.0</td>\n",
       "      <td>0.784225</td>\n",
       "      <td>0.411359</td>\n",
       "      <td>0.000000</td>\n",
       "      <td>1.000000</td>\n",
       "      <td>1.000000</td>\n",
       "      <td>1.000000</td>\n",
       "      <td>1.000000</td>\n",
       "    </tr>\n",
       "    <tr>\n",
       "      <th>fraud</th>\n",
       "      <td>1825194.0</td>\n",
       "      <td>0.500000</td>\n",
       "      <td>0.500000</td>\n",
       "      <td>0.000000</td>\n",
       "      <td>0.000000</td>\n",
       "      <td>0.500000</td>\n",
       "      <td>1.000000</td>\n",
       "      <td>1.000000</td>\n",
       "    </tr>\n",
       "  </tbody>\n",
       "</table>\n",
       "</div>"
      ],
      "text/plain": [
       "                                    count       mean         std       min  \\\n",
       "distance_from_home              1825194.0  44.529543  104.019007  0.004874   \n",
       "distance_from_last_transaction  1825194.0   8.543371   37.784726  0.000118   \n",
       "ratio_to_median_purchase_price  1825194.0   3.713854    4.749318  0.004399   \n",
       "repeat_retailer                 1825194.0   0.880728    0.324108  0.000000   \n",
       "used_chip                       1825194.0   0.308041    0.461684  0.000000   \n",
       "used_pin_number                 1825194.0   0.056504    0.230892  0.000000   \n",
       "online_order                    1825194.0   0.784225    0.411359  0.000000   \n",
       "fraud                           1825194.0   0.500000    0.500000  0.000000   \n",
       "\n",
       "                                     25%        50%        75%           max  \n",
       "distance_from_home              4.142186  11.754601  37.687376  10632.723672  \n",
       "distance_from_last_transaction  0.310561   1.065293   3.829804  11851.104565  \n",
       "ratio_to_median_purchase_price  0.690092   2.011215   5.235840    267.802942  \n",
       "repeat_retailer                 1.000000   1.000000   1.000000      1.000000  \n",
       "used_chip                       0.000000   0.000000   1.000000      1.000000  \n",
       "used_pin_number                 0.000000   0.000000   0.000000      1.000000  \n",
       "online_order                    1.000000   1.000000   1.000000      1.000000  \n",
       "fraud                           0.000000   0.500000   1.000000      1.000000  "
      ]
     },
     "execution_count": 151,
     "metadata": {},
     "output_type": "execute_result"
    }
   ],
   "source": [
    "df_over.describe().transpose()"
   ]
  },
  {
   "cell_type": "code",
   "execution_count": 152,
   "id": "214e5ab6",
   "metadata": {},
   "outputs": [
    {
     "data": {
      "text/plain": [
       "used_pin_number                  -0.231454\n",
       "used_chip                        -0.111247\n",
       "repeat_retailer                  -0.002911\n",
       "distance_from_last_transaction    0.112267\n",
       "distance_from_home                0.208583\n",
       "online_order                      0.393816\n",
       "ratio_to_median_purchase_price    0.482219\n",
       "fraud                             1.000000\n",
       "Name: fraud, dtype: float64"
      ]
     },
     "execution_count": 152,
     "metadata": {},
     "output_type": "execute_result"
    }
   ],
   "source": [
    "#correlation of each of the variables with fraud\n",
    "df_over.corr()['fraud'].sort_values()"
   ]
  },
  {
   "cell_type": "code",
   "execution_count": 153,
   "id": "bf2db28b",
   "metadata": {},
   "outputs": [
    {
     "data": {
      "text/plain": [
       "<AxesSubplot: >"
      ]
     },
     "execution_count": 153,
     "metadata": {},
     "output_type": "execute_result"
    },
    {
     "data": {
      "image/png": "[encoded data removed]",
      "text/plain": [
       "<Figure size 432x288 with 2 Axes>"
      ]
     },
     "metadata": {
      "needs_background": "light"
     },
     "output_type": "display_data"
    }
   ],
   "source": [
    "sns.heatmap(df_over.corr())"
   ]
  },
  {
   "cell_type": "code",
   "execution_count": 154,
   "id": "bc04c91e",
   "metadata": {},
   "outputs": [
    {
     "data": {
      "text/plain": [
       "<AxesSubplot: >"
      ]
     },
     "execution_count": 154,
     "metadata": {},
     "output_type": "execute_result"
    },
    {
     "data": {
      "image/png": "[encoded data removed]",
      "text/plain": [
       "<Figure size 432x288 with 1 Axes>"
      ]
     },
     "metadata": {
      "needs_background": "light"
     },
     "output_type": "display_data"
    }
   ],
   "source": [
    "df_over.corr()['fraud'][:-1].sort_values().plot(kind='bar')"
   ]
  },
  {
   "cell_type": "markdown",
   "id": "b00e8a91",
   "metadata": {},
   "source": [
    "### We further explore the variables with significant correlations with fraud"
   ]
  },
  {
   "cell_type": "code",
   "execution_count": 155,
   "id": "7e0b3a7c",
   "metadata": {},
   "outputs": [
    {
     "data": {
      "text/plain": [
       "<AxesSubplot: xlabel='fraud', ylabel='ratio_to_median_purchase_price'>"
      ]
     },
     "execution_count": 155,
     "metadata": {},
     "output_type": "execute_result"
    },
    {
     "data": {
      "image/png": "[encoded data removed]",
      "text/plain": [
       "<Figure size 432x288 with 1 Axes>"
      ]
     },
     "metadata": {
      "needs_background": "light"
     },
     "output_type": "display_data"
    }
   ],
   "source": [
    "#ration to median purchase price higher for fraudulent transactions\n",
    "sns.boxplot(x='fraud',y='ratio_to_median_purchase_price',data=df_over)"
   ]
  },
  {
   "cell_type": "code",
   "execution_count": 156,
   "id": "86be95d6",
   "metadata": {},
   "outputs": [
    {
     "data": {
      "text/plain": [
       "<AxesSubplot: xlabel='fraud', ylabel='count'>"
      ]
     },
     "execution_count": 156,
     "metadata": {},
     "output_type": "execute_result"
    },
    {
     "data": {
      "image/png": "[encoded data removed]",
      "text/plain": [
       "<Figure size 432x288 with 1 Axes>"
      ]
     },
     "metadata": {
      "needs_background": "light"
     },
     "output_type": "display_data"
    }
   ],
   "source": [
    "#online orders are more likely to be fraudulent\n",
    "sns.countplot(x='fraud',hue='online_order',data=df_over)"
   ]
  },
  {
   "cell_type": "code",
   "execution_count": 157,
   "id": "b573e4fb",
   "metadata": {},
   "outputs": [
    {
     "data": {
      "text/plain": [
       "<AxesSubplot: xlabel='fraud', ylabel='count'>"
      ]
     },
     "execution_count": 157,
     "metadata": {},
     "output_type": "execute_result"
    },
    {
     "data": {
      "image/png": "[encoded data removed]",
      "text/plain": [
       "<Figure size 432x288 with 1 Axes>"
      ]
     },
     "metadata": {
      "needs_background": "light"
     },
     "output_type": "display_data"
    }
   ],
   "source": [
    "#transactions are less likely to be fraudulent when pin numbers are used\n",
    "sns.countplot(x='fraud',hue='used_pin_number',data=df_over)"
   ]
  },
  {
   "cell_type": "code",
   "execution_count": 158,
   "id": "c5483779",
   "metadata": {},
   "outputs": [
    {
     "data": {
      "text/plain": [
       "<AxesSubplot: xlabel='fraud', ylabel='distance_from_home'>"
      ]
     },
     "execution_count": 158,
     "metadata": {},
     "output_type": "execute_result"
    },
    {
     "data": {
      "image/png": "[encoded data removed]",
      "text/plain": [
       "<Figure size 432x288 with 1 Axes>"
      ]
     },
     "metadata": {
      "needs_background": "light"
     },
     "output_type": "display_data"
    }
   ],
   "source": [
    "sns.boxplot(x='fraud',y='distance_from_home',data=df_over)"
   ]
  },
  {
   "cell_type": "markdown",
   "id": "173b1455",
   "metadata": {},
   "source": [
    "## DATA PREPARATION MODEL TRAINING AND ASSESSMENT"
   ]
  },
  {
   "cell_type": "code",
   "execution_count": 159,
   "id": "6957621e",
   "metadata": {},
   "outputs": [],
   "source": [
    "from sklearn.model_selection import train_test_split\n",
    "X_train, X_test, y_train, y_test = train_test_split(X_over, y_over, test_size=0.3, random_state = 43)"
   ]
  },
  {
   "cell_type": "code",
   "execution_count": 160,
   "id": "94127f83",
   "metadata": {},
   "outputs": [
    {
     "data": {
      "text/html": [
       "<div>\n",
       "<style scoped>\n",
       "    .dataframe tbody tr th:only-of-type {\n",
       "        vertical-align: middle;\n",
       "    }\n",
       "\n",
       "    .dataframe tbody tr th {\n",
       "        vertical-align: top;\n",
       "    }\n",
       "\n",
       "    .dataframe thead th {\n",
       "        text-align: right;\n",
       "    }\n",
       "</style>\n",
       "<table border=\"1\" class=\"dataframe\">\n",
       "  <thead>\n",
       "    <tr style=\"text-align: right;\">\n",
       "      <th></th>\n",
       "      <th>distance_from_home</th>\n",
       "      <th>distance_from_last_transaction</th>\n",
       "      <th>ratio_to_median_purchase_price</th>\n",
       "      <th>repeat_retailer</th>\n",
       "      <th>used_chip</th>\n",
       "      <th>used_pin_number</th>\n",
       "      <th>online_order</th>\n",
       "    </tr>\n",
       "  </thead>\n",
       "  <tbody>\n",
       "    <tr>\n",
       "      <th>0</th>\n",
       "      <td>-0.268167</td>\n",
       "      <td>-0.181586</td>\n",
       "      <td>2.053853</td>\n",
       "      <td>0.368009</td>\n",
       "      <td>1.499015</td>\n",
       "      <td>-0.244671</td>\n",
       "      <td>0.525001</td>\n",
       "    </tr>\n",
       "    <tr>\n",
       "      <th>1</th>\n",
       "      <td>-0.346399</td>\n",
       "      <td>-0.227679</td>\n",
       "      <td>-0.134354</td>\n",
       "      <td>0.368009</td>\n",
       "      <td>-0.667105</td>\n",
       "      <td>4.087127</td>\n",
       "      <td>0.525001</td>\n",
       "    </tr>\n",
       "    <tr>\n",
       "      <th>2</th>\n",
       "      <td>-0.377079</td>\n",
       "      <td>-0.201560</td>\n",
       "      <td>-0.198613</td>\n",
       "      <td>0.368009</td>\n",
       "      <td>-0.667105</td>\n",
       "      <td>-0.244671</td>\n",
       "      <td>0.525001</td>\n",
       "    </tr>\n",
       "    <tr>\n",
       "      <th>3</th>\n",
       "      <td>-0.299126</td>\n",
       "      <td>-0.180417</td>\n",
       "      <td>-0.502093</td>\n",
       "      <td>0.368009</td>\n",
       "      <td>-0.667105</td>\n",
       "      <td>-0.244671</td>\n",
       "      <td>0.525001</td>\n",
       "    </tr>\n",
       "    <tr>\n",
       "      <th>4</th>\n",
       "      <td>-0.416190</td>\n",
       "      <td>-0.093649</td>\n",
       "      <td>-0.609292</td>\n",
       "      <td>-2.717328</td>\n",
       "      <td>-0.667105</td>\n",
       "      <td>-0.244671</td>\n",
       "      <td>0.525001</td>\n",
       "    </tr>\n",
       "  </tbody>\n",
       "</table>\n",
       "</div>"
      ],
      "text/plain": [
       "   distance_from_home  distance_from_last_transaction  \\\n",
       "0           -0.268167                       -0.181586   \n",
       "1           -0.346399                       -0.227679   \n",
       "2           -0.377079                       -0.201560   \n",
       "3           -0.299126                       -0.180417   \n",
       "4           -0.416190                       -0.093649   \n",
       "\n",
       "   ratio_to_median_purchase_price  repeat_retailer  used_chip  \\\n",
       "0                        2.053853         0.368009   1.499015   \n",
       "1                       -0.134354         0.368009  -0.667105   \n",
       "2                       -0.198613         0.368009  -0.667105   \n",
       "3                       -0.502093         0.368009  -0.667105   \n",
       "4                       -0.609292        -2.717328  -0.667105   \n",
       "\n",
       "   used_pin_number  online_order  \n",
       "0        -0.244671      0.525001  \n",
       "1         4.087127      0.525001  \n",
       "2        -0.244671      0.525001  \n",
       "3        -0.244671      0.525001  \n",
       "4        -0.244671      0.525001  "
      ]
     },
     "execution_count": 160,
     "metadata": {},
     "output_type": "execute_result"
    }
   ],
   "source": [
    "#as part of preprocessing, I shall transform the independent variable to make it appropriate to be passed into logistic regression model\n",
    "from sklearn.preprocessing import StandardScaler\n",
    "columns = X_over.columns\n",
    "scaler = StandardScaler()\n",
    "X_train_transformed = scaler.fit_transform(X_train)\n",
    "X_train_transformed = pd.DataFrame(X_train_transformed, columns = columns)\n",
    "X_train_transformed.head()"
   ]
  },
  {
   "cell_type": "code",
   "execution_count": 161,
   "id": "848df863",
   "metadata": {},
   "outputs": [],
   "source": [
    "from sklearn.linear_model import LogisticRegression"
   ]
  },
  {
   "cell_type": "code",
   "execution_count": 162,
   "id": "341ddffd",
   "metadata": {},
   "outputs": [],
   "source": [
    "logmodel = LogisticRegression(max_iter = 200)"
   ]
  },
  {
   "cell_type": "code",
   "execution_count": 163,
   "id": "cadcdee4",
   "metadata": {},
   "outputs": [
    {
     "data": {
      "text/plain": [
       "LogisticRegression(max_iter=200)"
      ]
     },
     "execution_count": 163,
     "metadata": {},
     "output_type": "execute_result"
    }
   ],
   "source": [
    "logmodel.fit(X_train_transformed,y_train)"
   ]
  },
  {
   "cell_type": "code",
   "execution_count": 164,
   "id": "5891a030",
   "metadata": {},
   "outputs": [
    {
     "data": {
      "text/html": [
       "<div>\n",
       "<style scoped>\n",
       "    .dataframe tbody tr th:only-of-type {\n",
       "        vertical-align: middle;\n",
       "    }\n",
       "\n",
       "    .dataframe tbody tr th {\n",
       "        vertical-align: top;\n",
       "    }\n",
       "\n",
       "    .dataframe thead th {\n",
       "        text-align: right;\n",
       "    }\n",
       "</style>\n",
       "<table border=\"1\" class=\"dataframe\">\n",
       "  <thead>\n",
       "    <tr style=\"text-align: right;\">\n",
       "      <th></th>\n",
       "      <th>distance_from_home</th>\n",
       "      <th>distance_from_last_transaction</th>\n",
       "      <th>ratio_to_median_purchase_price</th>\n",
       "      <th>repeat_retailer</th>\n",
       "      <th>used_chip</th>\n",
       "      <th>used_pin_number</th>\n",
       "      <th>online_order</th>\n",
       "    </tr>\n",
       "  </thead>\n",
       "  <tbody>\n",
       "    <tr>\n",
       "      <th>0</th>\n",
       "      <td>0.731859</td>\n",
       "      <td>-0.098570</td>\n",
       "      <td>-0.629725</td>\n",
       "      <td>0.368009</td>\n",
       "      <td>-0.667105</td>\n",
       "      <td>-0.244671</td>\n",
       "      <td>0.525001</td>\n",
       "    </tr>\n",
       "    <tr>\n",
       "      <th>1</th>\n",
       "      <td>-0.358836</td>\n",
       "      <td>0.079219</td>\n",
       "      <td>-0.499421</td>\n",
       "      <td>0.368009</td>\n",
       "      <td>-0.667105</td>\n",
       "      <td>-0.244671</td>\n",
       "      <td>0.525001</td>\n",
       "    </tr>\n",
       "    <tr>\n",
       "      <th>2</th>\n",
       "      <td>-0.413249</td>\n",
       "      <td>-0.041578</td>\n",
       "      <td>-0.475285</td>\n",
       "      <td>-2.717328</td>\n",
       "      <td>1.499015</td>\n",
       "      <td>-0.244671</td>\n",
       "      <td>0.525001</td>\n",
       "    </tr>\n",
       "    <tr>\n",
       "      <th>3</th>\n",
       "      <td>-0.385277</td>\n",
       "      <td>-0.126289</td>\n",
       "      <td>1.313159</td>\n",
       "      <td>0.368009</td>\n",
       "      <td>1.499015</td>\n",
       "      <td>-0.244671</td>\n",
       "      <td>0.525001</td>\n",
       "    </tr>\n",
       "    <tr>\n",
       "      <th>4</th>\n",
       "      <td>0.600462</td>\n",
       "      <td>-0.216363</td>\n",
       "      <td>0.006923</td>\n",
       "      <td>0.368009</td>\n",
       "      <td>-0.667105</td>\n",
       "      <td>-0.244671</td>\n",
       "      <td>0.525001</td>\n",
       "    </tr>\n",
       "  </tbody>\n",
       "</table>\n",
       "</div>"
      ],
      "text/plain": [
       "   distance_from_home  distance_from_last_transaction  \\\n",
       "0            0.731859                       -0.098570   \n",
       "1           -0.358836                        0.079219   \n",
       "2           -0.413249                       -0.041578   \n",
       "3           -0.385277                       -0.126289   \n",
       "4            0.600462                       -0.216363   \n",
       "\n",
       "   ratio_to_median_purchase_price  repeat_retailer  used_chip  \\\n",
       "0                       -0.629725         0.368009  -0.667105   \n",
       "1                       -0.499421         0.368009  -0.667105   \n",
       "2                       -0.475285        -2.717328   1.499015   \n",
       "3                        1.313159         0.368009   1.499015   \n",
       "4                        0.006923         0.368009  -0.667105   \n",
       "\n",
       "   used_pin_number  online_order  \n",
       "0        -0.244671      0.525001  \n",
       "1        -0.244671      0.525001  \n",
       "2        -0.244671      0.525001  \n",
       "3        -0.244671      0.525001  \n",
       "4        -0.244671      0.525001  "
      ]
     },
     "execution_count": 164,
     "metadata": {},
     "output_type": "execute_result"
    }
   ],
   "source": [
    "X_test_transformed = scaler.transform(X_test)\n",
    "X_test_transformed = pd.DataFrame(X_test_transformed, columns = columns)\n",
    "X_test_transformed.head()"
   ]
  },
  {
   "cell_type": "code",
   "execution_count": 165,
   "id": "a51bdea7",
   "metadata": {},
   "outputs": [],
   "source": [
    "predictions = logmodel.predict(X_test_transformed)"
   ]
  },
  {
   "cell_type": "code",
   "execution_count": 166,
   "id": "77635a41",
   "metadata": {},
   "outputs": [],
   "source": [
    "from sklearn.metrics import classification_report, confusion_matrix, accuracy_score"
   ]
  },
  {
   "cell_type": "code",
   "execution_count": 167,
   "id": "6b3b5b22",
   "metadata": {},
   "outputs": [
    {
     "name": "stdout",
     "output_type": "stream",
     "text": [
      "              precision    recall  f1-score   support\n",
      "\n",
      "         0.0       0.95      0.93      0.94    273968\n",
      "         1.0       0.93      0.95      0.94    273591\n",
      "\n",
      "    accuracy                           0.94    547559\n",
      "   macro avg       0.94      0.94      0.94    547559\n",
      "weighted avg       0.94      0.94      0.94    547559\n",
      "\n"
     ]
    }
   ],
   "source": [
    "print(classification_report(y_test, predictions))"
   ]
  },
  {
   "cell_type": "code",
   "execution_count": 168,
   "id": "80ec92a7",
   "metadata": {},
   "outputs": [
    {
     "data": {
      "text/plain": [
       "array([[255487,  18481],\n",
       "       [ 13649, 259942]], dtype=int64)"
      ]
     },
     "execution_count": 168,
     "metadata": {},
     "output_type": "execute_result"
    }
   ],
   "source": [
    "confusion_matrix(y_test, predictions)"
   ]
  },
  {
   "cell_type": "code",
   "execution_count": 169,
   "id": "72bc9617",
   "metadata": {},
   "outputs": [
    {
     "data": {
      "text/plain": [
       "0.9413213918500107"
      ]
     },
     "execution_count": 169,
     "metadata": {},
     "output_type": "execute_result"
    }
   ],
   "source": [
    "accuracy_score(y_test, predictions)"
   ]
  },
  {
   "cell_type": "code",
   "execution_count": 170,
   "id": "31fc0fa8",
   "metadata": {},
   "outputs": [
    {
     "data": {
      "image/png": "[encoded data removed]",
      "text/plain": [
       "<Figure size 432x288 with 1 Axes>"
      ]
     },
     "metadata": {
      "needs_background": "light"
     },
     "output_type": "display_data"
    }
   ],
   "source": [
    "from sklearn.metrics import roc_auc_score\n",
    "from sklearn.metrics import roc_curve\n",
    "logit_roc_auc = roc_auc_score(y_test, logmodel.predict(X_test_transformed))\n",
    "fpr, tpr, thresholds = roc_curve(y_test, logmodel.predict_proba(X_test_transformed)[:,1])\n",
    "plt.figure()\n",
    "plt.plot(fpr, tpr, label='Logistic Regression (area = %0.2f)' % logit_roc_auc)\n",
    "plt.plot([0, 1], [0, 1],'r--')\n",
    "plt.xlim([0.0, 1.0])\n",
    "plt.ylim([0.0, 1.05])\n",
    "plt.xlabel('False Positive Rate')\n",
    "plt.ylabel('True Positive Rate')\n",
    "plt.title('Receiver operating characteristic')\n",
    "plt.legend(loc=\"lower right\")\n",
    "plt.savefig('Log_ROC')\n",
    "plt.show()"
   ]
  },
  {
   "cell_type": "markdown",
   "id": "bf9b69c0",
   "metadata": {},
   "source": [
    "## PREDICT A SINGLE CLASS"
   ]
  },
  {
   "cell_type": "code",
   "execution_count": 171,
   "id": "3b19095a",
   "metadata": {},
   "outputs": [
    {
     "data": {
      "text/html": [
       "<div>\n",
       "<style scoped>\n",
       "    .dataframe tbody tr th:only-of-type {\n",
       "        vertical-align: middle;\n",
       "    }\n",
       "\n",
       "    .dataframe tbody tr th {\n",
       "        vertical-align: top;\n",
       "    }\n",
       "\n",
       "    .dataframe thead th {\n",
       "        text-align: right;\n",
       "    }\n",
       "</style>\n",
       "<table border=\"1\" class=\"dataframe\">\n",
       "  <thead>\n",
       "    <tr style=\"text-align: right;\">\n",
       "      <th></th>\n",
       "      <th>distance_from_home</th>\n",
       "      <th>distance_from_last_transaction</th>\n",
       "      <th>ratio_to_median_purchase_price</th>\n",
       "      <th>repeat_retailer</th>\n",
       "      <th>used_chip</th>\n",
       "      <th>used_pin_number</th>\n",
       "      <th>online_order</th>\n",
       "    </tr>\n",
       "  </thead>\n",
       "  <tbody>\n",
       "    <tr>\n",
       "      <th>13</th>\n",
       "      <td>2.131956</td>\n",
       "      <td>56.372401</td>\n",
       "      <td>6.358667</td>\n",
       "      <td>1.0</td>\n",
       "      <td>0.0</td>\n",
       "      <td>0.0</td>\n",
       "      <td>1.0</td>\n",
       "    </tr>\n",
       "  </tbody>\n",
       "</table>\n",
       "</div>"
      ],
      "text/plain": [
       "    distance_from_home  distance_from_last_transaction  \\\n",
       "13            2.131956                       56.372401   \n",
       "\n",
       "    ratio_to_median_purchase_price  repeat_retailer  used_chip  \\\n",
       "13                        6.358667              1.0        0.0   \n",
       "\n",
       "    used_pin_number  online_order  \n",
       "13              0.0           1.0  "
      ]
     },
     "execution_count": 171,
     "metadata": {},
     "output_type": "execute_result"
    }
   ],
   "source": [
    "#predict a fraudulent transaction\n",
    "df_1fraud=df[df['fraud']==1].head(1)\n",
    "df_1fraud=df_1fraud.drop('fraud',axis=1)\n",
    "df_1fraud"
   ]
  },
  {
   "cell_type": "code",
   "execution_count": 172,
   "id": "b55410bb",
   "metadata": {},
   "outputs": [],
   "source": [
    "df_1fraud = scaler.transform(df_1fraud)"
   ]
  },
  {
   "cell_type": "code",
   "execution_count": 173,
   "id": "ef4de1d2",
   "metadata": {},
   "outputs": [
    {
     "data": {
      "text/plain": [
       "array([[-0.40851561,  1.29597531,  0.55667687,  0.36800856, -0.6671046 ,\n",
       "        -0.24467067,  0.52500085]])"
      ]
     },
     "execution_count": 173,
     "metadata": {},
     "output_type": "execute_result"
    }
   ],
   "source": [
    "df_1fraud"
   ]
  },
  {
   "cell_type": "code",
   "execution_count": 174,
   "id": "ac01e160",
   "metadata": {},
   "outputs": [],
   "source": [
    "df_1fraud = pd.DataFrame(df_1fraud, columns = columns)"
   ]
  },
  {
   "cell_type": "code",
   "execution_count": 175,
   "id": "8896d108",
   "metadata": {},
   "outputs": [
    {
     "data": {
      "text/plain": [
       "array([1.])"
      ]
     },
     "execution_count": 175,
     "metadata": {},
     "output_type": "execute_result"
    }
   ],
   "source": [
    "#correctly predicted as fraudulent\n",
    "logmodel.predict(df_1fraud)"
   ]
  },
  {
   "cell_type": "markdown",
   "id": "1099c124",
   "metadata": {},
   "source": [
    "#### As can now be seen above, the precision and recall have improved from 0.61 and 0.72 to 0.95 and 0.94 respectively. Although, the overall acuracy reduced from 0.95917 to 0.941, the overall status of this model is much better than the earlier model for unbalanced dataset hence, this model is adopted for credit card fraud prevention."
   ]
  },
  {
   "cell_type": "markdown",
   "id": "56753966",
   "metadata": {},
   "source": [
    "## SAVE THE FINAL MODEL AND SCALER"
   ]
  },
  {
   "cell_type": "code",
   "execution_count": 176,
   "id": "1e1ac155",
   "metadata": {},
   "outputs": [
    {
     "data": {
      "text/plain": [
       "['agada_credit_card_fraud_prediction_scaler.pkl']"
      ]
     },
     "execution_count": 176,
     "metadata": {},
     "output_type": "execute_result"
    }
   ],
   "source": [
    "import joblib\n",
    "#save model\n",
    "joblib.dump(logmodel, 'agada_credit_card_fraud_prediction.sav')\n",
    "#save the scaler for transforming new records\n",
    "joblib.dump(scaler,'agada_credit_card_fraud_prediction_scaler.pkl')"
   ]
  },
  {
   "cell_type": "markdown",
   "id": "2e58c202",
   "metadata": {},
   "source": [
    "## CODE FOR DEPLOYMENT"
   ]
  },
  {
   "cell_type": "code",
   "execution_count": 177,
   "id": "988aed33",
   "metadata": {},
   "outputs": [],
   "source": [
    "model = joblib.load('agada_credit_card_fraud_prediction.sav')\n",
    "scaler =joblib.load('agada_credit_card_fraud_prediction_scaler.pkl')"
   ]
  },
  {
   "cell_type": "code",
   "execution_count": 178,
   "id": "15488e2e",
   "metadata": {},
   "outputs": [],
   "source": [
    "def return_prediction(model,scaler,sample_json):\n",
    "    \n",
    "    ft_a = sample_json['distance_from_home']\n",
    "    ft_b = sample_json['distance_from_last_transaction']\n",
    "    ft_c = sample_json['ratio_to_median_purchase_price']\n",
    "    ft_d = sample_json['repeat_retailer']\n",
    "    ft_e = sample_json['used_chip']\n",
    "    ft_f = sample_json['used_pin_number']\n",
    "    ft_g = sample_json['online_order']\n",
    "    \n",
    "    columns = ['distance_from_home',\n",
    "                'distance_from_last_transaction',\n",
    "                'ratio_to_median_purchase_price',\n",
    "                'repeat_retailer',\n",
    "                'used_chip',\n",
    "                'used_pin_number',\n",
    "                'online_order']\n",
    "    \n",
    "    transaction = [[ft_a,ft_b,ft_c,ft_d,ft_e,ft_f,ft_g]]\n",
    "    \n",
    "    transaction = pd.DataFrame(transaction, columns = columns)\n",
    "    \n",
    "    transaction = scaler.transform(transaction)\n",
    "    \n",
    "    transaction = pd.DataFrame(transaction, columns = columns)\n",
    "    \n",
    "    classes = np.array(['not fraudulent', 'fraudulent'])\n",
    "    \n",
    "    class_ind = model.predict(transaction)\n",
    "\n",
    "    class_ind = class_ind[0]\n",
    "    \n",
    "    return classes[int(class_ind)]   "
   ]
  },
  {
   "cell_type": "markdown",
   "id": "385d9992",
   "metadata": {},
   "source": [
    "## WE PREDICT FRAUDULENT AND NON FRAUDULENT CLASSES USING THE FUNCTION"
   ]
  },
  {
   "cell_type": "code",
   "execution_count": 179,
   "id": "84d638c8",
   "metadata": {},
   "outputs": [
    {
     "data": {
      "text/html": [
       "<div>\n",
       "<style scoped>\n",
       "    .dataframe tbody tr th:only-of-type {\n",
       "        vertical-align: middle;\n",
       "    }\n",
       "\n",
       "    .dataframe tbody tr th {\n",
       "        vertical-align: top;\n",
       "    }\n",
       "\n",
       "    .dataframe thead th {\n",
       "        text-align: right;\n",
       "    }\n",
       "</style>\n",
       "<table border=\"1\" class=\"dataframe\">\n",
       "  <thead>\n",
       "    <tr style=\"text-align: right;\">\n",
       "      <th></th>\n",
       "      <th>distance_from_home</th>\n",
       "      <th>distance_from_last_transaction</th>\n",
       "      <th>ratio_to_median_purchase_price</th>\n",
       "      <th>repeat_retailer</th>\n",
       "      <th>used_chip</th>\n",
       "      <th>used_pin_number</th>\n",
       "      <th>online_order</th>\n",
       "      <th>fraud</th>\n",
       "    </tr>\n",
       "  </thead>\n",
       "  <tbody>\n",
       "    <tr>\n",
       "      <th>999949</th>\n",
       "      <td>15.724799</td>\n",
       "      <td>1.875906</td>\n",
       "      <td>11.009366</td>\n",
       "      <td>1.0</td>\n",
       "      <td>1.0</td>\n",
       "      <td>0.0</td>\n",
       "      <td>1.0</td>\n",
       "      <td>1.0</td>\n",
       "    </tr>\n",
       "  </tbody>\n",
       "</table>\n",
       "</div>"
      ],
      "text/plain": [
       "        distance_from_home  distance_from_last_transaction  \\\n",
       "999949           15.724799                        1.875906   \n",
       "\n",
       "        ratio_to_median_purchase_price  repeat_retailer  used_chip  \\\n",
       "999949                       11.009366              1.0        1.0   \n",
       "\n",
       "        used_pin_number  online_order  fraud  \n",
       "999949              0.0           1.0    1.0  "
      ]
     },
     "execution_count": 179,
     "metadata": {},
     "output_type": "execute_result"
    }
   ],
   "source": [
    "# this is a fraudulent transaction\n",
    "df_fraud2 = df[df['fraud']==1].tail(1)\n",
    "df_fraud2"
   ]
  },
  {
   "cell_type": "code",
   "execution_count": 180,
   "id": "98b75990",
   "metadata": {},
   "outputs": [],
   "source": [
    "transaction_example = {'distance_from_home':15.724799,\n",
    "                        'distance_from_last_transaction':1.875906,\n",
    "                        'ratio_to_median_purchase_price':11.009366,\n",
    "                        'repeat_retailer':1.0,\n",
    "                        'used_chip':1.0,\n",
    "                        'used_pin_number':0.0,\n",
    "                        'online_order':1.0\n",
    "                       }"
   ]
  },
  {
   "cell_type": "code",
   "execution_count": 181,
   "id": "dd60bb35",
   "metadata": {},
   "outputs": [
    {
     "data": {
      "text/plain": [
       "'fraudulent'"
      ]
     },
     "execution_count": 181,
     "metadata": {},
     "output_type": "execute_result"
    }
   ],
   "source": [
    "# the transaction is correctly predicted as fraudulent\n",
    "return_prediction(model,scaler,transaction_example)"
   ]
  },
  {
   "cell_type": "code",
   "execution_count": 182,
   "id": "c7c5f29b",
   "metadata": {},
   "outputs": [
    {
     "data": {
      "text/html": [
       "<div>\n",
       "<style scoped>\n",
       "    .dataframe tbody tr th:only-of-type {\n",
       "        vertical-align: middle;\n",
       "    }\n",
       "\n",
       "    .dataframe tbody tr th {\n",
       "        vertical-align: top;\n",
       "    }\n",
       "\n",
       "    .dataframe thead th {\n",
       "        text-align: right;\n",
       "    }\n",
       "</style>\n",
       "<table border=\"1\" class=\"dataframe\">\n",
       "  <thead>\n",
       "    <tr style=\"text-align: right;\">\n",
       "      <th></th>\n",
       "      <th>distance_from_home</th>\n",
       "      <th>distance_from_last_transaction</th>\n",
       "      <th>ratio_to_median_purchase_price</th>\n",
       "      <th>repeat_retailer</th>\n",
       "      <th>used_chip</th>\n",
       "      <th>used_pin_number</th>\n",
       "      <th>online_order</th>\n",
       "      <th>fraud</th>\n",
       "    </tr>\n",
       "  </thead>\n",
       "  <tbody>\n",
       "    <tr>\n",
       "      <th>0</th>\n",
       "      <td>57.877857</td>\n",
       "      <td>0.31114</td>\n",
       "      <td>1.94594</td>\n",
       "      <td>1.0</td>\n",
       "      <td>1.0</td>\n",
       "      <td>0.0</td>\n",
       "      <td>0.0</td>\n",
       "      <td>0.0</td>\n",
       "    </tr>\n",
       "  </tbody>\n",
       "</table>\n",
       "</div>"
      ],
      "text/plain": [
       "   distance_from_home  distance_from_last_transaction  \\\n",
       "0           57.877857                         0.31114   \n",
       "\n",
       "   ratio_to_median_purchase_price  repeat_retailer  used_chip  \\\n",
       "0                         1.94594              1.0        1.0   \n",
       "\n",
       "   used_pin_number  online_order  fraud  \n",
       "0              0.0           0.0    0.0  "
      ]
     },
     "execution_count": 182,
     "metadata": {},
     "output_type": "execute_result"
    }
   ],
   "source": [
    "#this transaction is not fraudulent\n",
    "df_not_fraud = df.head(1)\n",
    "df_not_fraud"
   ]
  },
  {
   "cell_type": "code",
   "execution_count": 183,
   "id": "f31642e7",
   "metadata": {},
   "outputs": [
    {
     "data": {
      "text/html": [
       "<div>\n",
       "<style scoped>\n",
       "    .dataframe tbody tr th:only-of-type {\n",
       "        vertical-align: middle;\n",
       "    }\n",
       "\n",
       "    .dataframe tbody tr th {\n",
       "        vertical-align: top;\n",
       "    }\n",
       "\n",
       "    .dataframe thead th {\n",
       "        text-align: right;\n",
       "    }\n",
       "</style>\n",
       "<table border=\"1\" class=\"dataframe\">\n",
       "  <thead>\n",
       "    <tr style=\"text-align: right;\">\n",
       "      <th></th>\n",
       "      <th>distance_from_home</th>\n",
       "      <th>distance_from_last_transaction</th>\n",
       "      <th>ratio_to_median_purchase_price</th>\n",
       "      <th>repeat_retailer</th>\n",
       "      <th>used_chip</th>\n",
       "      <th>used_pin_number</th>\n",
       "      <th>online_order</th>\n",
       "      <th>fraud</th>\n",
       "    </tr>\n",
       "  </thead>\n",
       "  <tbody>\n",
       "    <tr>\n",
       "      <th>0</th>\n",
       "      <td>57.877857</td>\n",
       "      <td>0.31114</td>\n",
       "      <td>1.94594</td>\n",
       "      <td>1.0</td>\n",
       "      <td>1.0</td>\n",
       "      <td>0.0</td>\n",
       "      <td>0.0</td>\n",
       "      <td>0.0</td>\n",
       "    </tr>\n",
       "  </tbody>\n",
       "</table>\n",
       "</div>"
      ],
      "text/plain": [
       "   distance_from_home  distance_from_last_transaction  \\\n",
       "0           57.877857                         0.31114   \n",
       "\n",
       "   ratio_to_median_purchase_price  repeat_retailer  used_chip  \\\n",
       "0                         1.94594              1.0        1.0   \n",
       "\n",
       "   used_pin_number  online_order  fraud  \n",
       "0              0.0           0.0    0.0  "
      ]
     },
     "execution_count": 183,
     "metadata": {},
     "output_type": "execute_result"
    }
   ],
   "source": [
    "#predict a non fraudulent transaction\n",
    "df.head(1)"
   ]
  },
  {
   "cell_type": "code",
   "execution_count": 184,
   "id": "2e429132",
   "metadata": {},
   "outputs": [],
   "source": [
    "transaction_example2 = {'distance_from_home':57.877857,\n",
    "                        'distance_from_last_transaction':0.31114,\n",
    "                        'ratio_to_median_purchase_price':1.94594,\n",
    "                        'repeat_retailer':1.0,\n",
    "                        'used_chip':1.0,\n",
    "                        'used_pin_number':0.0,\n",
    "                        'online_order':0.0\n",
    "                       }"
   ]
  },
  {
   "cell_type": "code",
   "execution_count": 185,
   "id": "7b433386",
   "metadata": {},
   "outputs": [
    {
     "data": {
      "text/plain": [
       "'not fraudulent'"
      ]
     },
     "execution_count": 185,
     "metadata": {},
     "output_type": "execute_result"
    }
   ],
   "source": [
    "#correct prediction\n",
    "return_prediction(model,scaler,transaction_example2)"
   ]
  }
 ],
 "metadata": {
  "kernelspec": {
   "display_name": "Python 3 (ipykernel)",
   "language": "python",
   "name": "python3"
  },
  "language_info": {
   "codemirror_mode": {
    "name": "ipython",
    "version": 3
   },
   "file_extension": ".py",
   "mimetype": "text/x-python",
   "name": "python",
   "nbconvert_exporter": "python",
   "pygments_lexer": "ipython3",
   "version": "3.9.12"
  }
 },
 "nbformat": 4,
 "nbformat_minor": 5
}
